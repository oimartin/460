{
  "cells": [
    {
      "cell_type": "markdown",
      "metadata": {
        "id": "view-in-github",
        "colab_type": "text"
      },
      "source": [
        "<a href=\"https://colab.research.google.com/github/oimartin/460/blob/main/hw1_final.ipynb\" target=\"_parent\"><img src=\"https://colab.research.google.com/assets/colab-badge.svg\" alt=\"Open In Colab\"/></a>"
      ]
    },
    {
      "cell_type": "markdown",
      "metadata": {
        "id": "sYb_cc1RCQef"
      },
      "source": [
        "# Load Libraries"
      ]
    },
    {
      "cell_type": "code",
      "execution_count": 1,
      "metadata": {
        "colab": {
          "base_uri": "https://localhost:8080/",
          "height": 0
        },
        "id": "gy1yVWSycJJd",
        "outputId": "12960396-c6c5-4d37-8d6c-74cdaee92757"
      },
      "outputs": [
        {
          "output_type": "stream",
          "name": "stdout",
          "text": [
            "Collecting pulp\n",
            "  Downloading PuLP-2.6.0-py3-none-any.whl (14.2 MB)\n",
            "\u001b[K     |████████████████████████████████| 14.2 MB 397 kB/s \n",
            "\u001b[?25hInstalling collected packages: pulp\n",
            "Successfully installed pulp-2.6.0\n"
          ]
        }
      ],
      "source": [
        "!pip install pulp"
      ]
    },
    {
      "cell_type": "code",
      "execution_count": 2,
      "metadata": {
        "id": "G-HOn25icQl3"
      },
      "outputs": [],
      "source": [
        "from pulp import *\n",
        "import matplotlib.pyplot as plt\n",
        "import numpy as np\n",
        "import seaborn as sns"
      ]
    },
    {
      "cell_type": "markdown",
      "metadata": {
        "id": "rNP4Giq6o7dn"
      },
      "source": [
        "# Question 2"
      ]
    },
    {
      "cell_type": "markdown",
      "source": [
        "## Problem"
      ],
      "metadata": {
        "id": "Gmd-bPISSLn0"
      }
    },
    {
      "cell_type": "markdown",
      "metadata": {
        "id": "7DeXSUMeVePS"
      },
      "source": [
        "Inspired by Hakeem-Ur-Rehman: https://github.com/oimartin/Python-PuLP-/blob/master/LP%20Using%20PuLP%20and%20Graphical%20Sol..ipynb\n",
        "\n",
        "\\begin{align}\n",
        "Max \\hspace{1cm} Z & = -4x_1 + 2x_2 \\\\\n",
        "Subject\\hspace{0.5cm}to \\\\\n",
        "\\hspace{0.5cm} -2x_1+2x_2 & \\leq 7 \\\\\n",
        "\\hspace{0.5cm} x_1 & \\geq 2 \\\\\n",
        "\\hspace{0.5cm} x_1 - 4x_2 & \\leq 0 \\\\\n",
        "\\hspace{0.5cm} 2x_1 + 2x_2 & \\geq 10 \\\\\n",
        "x_1, x_2 & \\geq 0 \\\\\n",
        "\\end{align}"
      ]
    },
    {
      "cell_type": "markdown",
      "metadata": {
        "id": "77NxFglADUik"
      },
      "source": [
        "## Code"
      ]
    },
    {
      "cell_type": "code",
      "execution_count": null,
      "metadata": {
        "id": "EefuTtXncXxt"
      },
      "outputs": [],
      "source": [
        "# Create an object of a model\n",
        "prob = LpProblem(\"Question_2_LP\", LpMaximize)"
      ]
    },
    {
      "cell_type": "code",
      "execution_count": null,
      "metadata": {
        "id": "3aGOAs3XciOt"
      },
      "outputs": [],
      "source": [
        "# Define the decision variables\n",
        "x1 = LpVariable(\"x1\",0)\n",
        "x2 = LpVariable(\"x2\", 0)"
      ]
    },
    {
      "cell_type": "code",
      "execution_count": null,
      "metadata": {
        "id": "pAvX5htlcsAG"
      },
      "outputs": [],
      "source": [
        "# Define the objective function\n",
        "prob += -4*x1 + 2*x2"
      ]
    },
    {
      "cell_type": "code",
      "execution_count": null,
      "metadata": {
        "id": "qQV4tieIczGL"
      },
      "outputs": [],
      "source": [
        "# Define the constraints\n",
        "prob += -2*x1 + 2*x2 <= 7.0, \"1st constraint\"\n",
        "prob += x1>= 2.0, \"2nd constraint\"\n",
        "prob += x1 - 4*x2 <= 0.0, \"3rd constraint\"\n",
        "prob += 2*x1 + 2*x2 >= 10.0, \"4th constraint\"\n",
        "prob += x1 >= 0.0, \"5th constraint\"\n",
        "prob += x2 >= 0.0, \"6th constraint\""
      ]
    },
    {
      "cell_type": "code",
      "execution_count": null,
      "metadata": {
        "colab": {
          "base_uri": "https://localhost:8080/"
        },
        "id": "9JeY-YkYdCPa",
        "outputId": "fbfc050d-306e-4615-d45a-6d32f0b69b46"
      },
      "outputs": [
        {
          "data": {
            "text/plain": [
              "1"
            ]
          },
          "execution_count": 7,
          "metadata": {},
          "output_type": "execute_result"
        }
      ],
      "source": [
        "# Solve the linear programming problem\n",
        "prob.solve()"
      ]
    },
    {
      "cell_type": "code",
      "execution_count": null,
      "metadata": {
        "colab": {
          "base_uri": "https://localhost:8080/"
        },
        "id": "GcnOuAPbdfHy",
        "outputId": "23dba55e-ac36-4076-d595-081d5f700930"
      },
      "outputs": [
        {
          "name": "stdout",
          "output_type": "stream",
          "text": [
            "Status: Optimal\n"
          ]
        }
      ],
      "source": [
        "# Print the results\n",
        "print(f\"Status: {LpStatus[prob.status]}\")"
      ]
    },
    {
      "cell_type": "code",
      "execution_count": null,
      "metadata": {
        "colab": {
          "base_uri": "https://localhost:8080/"
        },
        "id": "S9r3utGedq4q",
        "outputId": "4e12cafd-ad66-4e9b-ab33-a60b8a0ce540"
      },
      "outputs": [
        {
          "name": "stdout",
          "output_type": "stream",
          "text": [
            "x1 = 2.0\n",
            "x2 = 5.5\n"
          ]
        },
        {
          "data": {
            "text/plain": [
              "[None, None]"
            ]
          },
          "execution_count": 9,
          "metadata": {},
          "output_type": "execute_result"
        }
      ],
      "source": [
        "[print(v.name, \"=\", v.varValue) for v in prob.variables()]"
      ]
    },
    {
      "cell_type": "code",
      "execution_count": null,
      "metadata": {
        "colab": {
          "base_uri": "https://localhost:8080/"
        },
        "id": "uPkeiCRMd1yt",
        "outputId": "292704b4-3ad2-4847-d4f2-e03101725324"
      },
      "outputs": [
        {
          "name": "stdout",
          "output_type": "stream",
          "text": [
            "The optimal value of the objective function is = 3.0\n"
          ]
        }
      ],
      "source": [
        "print(f'''The optimal value of the objective function is = {value(prob.objective)}''')"
      ]
    },
    {
      "cell_type": "code",
      "execution_count": null,
      "metadata": {
        "colab": {
          "base_uri": "https://localhost:8080/",
          "height": 269
        },
        "id": "53dacEJ5d_Ja",
        "outputId": "94eb5ed0-63bd-4f84-b041-256c4169090c"
      },
      "outputs": [
        {
          "data": {
            "image/png": "[encoded data removed]",
            "text/plain": [
              "<Figure size 432x288 with 1 Axes>"
            ]
          },
          "metadata": {},
          "output_type": "display_data"
        }
      ],
      "source": [
        "# Plot the optimal solution\n",
        "x = np.arange(0,10)\n",
        "plt.plot(x, 3.5 + x, label = '-2x1 + 2x2 <= 7.0')\n",
        "plt.axvline(x=2, label = 'x >=2', color = 'red') \n",
        "plt.plot(x, 0.25*x, label = 'x1 - 4x2 <= 0.0')\n",
        "plt.plot(x, 5 - x, label = '2x1 + 2x2 >= 10.0')\n",
        "\n",
        "plt.axis([0,6,0,8])\n",
        "plt.grid(True)\n",
        "plt.legend()\n",
        "plt.show()"
      ]
    },
    {
      "cell_type": "code",
      "execution_count": null,
      "metadata": {
        "colab": {
          "base_uri": "https://localhost:8080/",
          "height": 459
        },
        "id": "aucBn4yqfMar",
        "outputId": "610575f0-aad3-4415-c14a-f3562bcdc5d9"
      },
      "outputs": [
        {
          "data": {
            "image/png": "[encoded data removed]",
            "text/plain": [
              "<Figure size 504x504 with 1 Axes>"
            ]
          },
          "metadata": {},
          "output_type": "display_data"
        }
      ],
      "source": [
        "sns.set_style(\"darkgrid\")\n",
        "\n",
        "# Plot the optimal solution\n",
        "plt.figure(figsize=(7,7))\n",
        "x = np.arange(0,10)\n",
        "plt.plot(x, 3.5 + x, label = '-2x1 + 2x2 <= 7.0')\n",
        "plt.axvline(x=2, label = 'x >=2', color='red') \n",
        "plt.plot(x, 0.25*x, label = 'x1 - 4x2 <= 0.0')\n",
        "plt.plot(x, 5 - x, label = '2x1 + 2x2 >= 10.0')\n",
        "\n",
        "\n",
        "# Define the boundaries of the feasible area in the plot\n",
        "x = [2, 3.5, 3.5, 2]\n",
        "y = [5.5, 7, 1.5, 3]\n",
        "plt.fill(x, y, 'grey')\n",
        "\n",
        "plt.text(2.75, 4, 'Feasible \\n Region', size = '11')\n",
        "plt.annotate('Optimal \\n solution\\n(2.0, 5.5)', xy = (1.5, 5.5))\n",
        "\n",
        "plt.xlabel(\"x_1\")\n",
        "plt.ylabel(\"x_2\")\n",
        "plt.title('LPP:Graphical Solution')\n",
        "plt.axis([0, 3.5, 0, 7])\n",
        "plt.grid(True)\n",
        "plt.legend(loc = (0, 0.25))\n",
        "plt.savefig('q2_lpp_graph.png')\n",
        "plt.show()"
      ]
    },
    {
      "cell_type": "markdown",
      "metadata": {
        "id": "7nz0G_uW9uqN"
      },
      "source": [
        "# Question 4"
      ]
    },
    {
      "cell_type": "code",
      "execution_count": 3,
      "metadata": {
        "id": "37890zDv9uqP"
      },
      "outputs": [],
      "source": [
        "# Create an object of a model\n",
        "prob4 = LpProblem(\"Question_4_LP\", LpMaximize)"
      ]
    },
    {
      "cell_type": "code",
      "execution_count": 4,
      "metadata": {
        "id": "BMb6s47q9uqP"
      },
      "outputs": [],
      "source": [
        "# Define the decision variables\n",
        "x11 = LpVariable(\"x11\",0)\n",
        "x12 = LpVariable(\"x12\", 0)\n",
        "x21 = LpVariable(\"x21\", 0)\n",
        "x22 = LpVariable(\"x22\", 0)\n",
        "t1 = LpVariable(\"t1\", 0)\n",
        "t2 = LpVariable(\"t2\", 0)"
      ]
    },
    {
      "cell_type": "code",
      "execution_count": 5,
      "metadata": {
        "id": "5TxwZikc9uqP"
      },
      "outputs": [],
      "source": [
        "# Define the objective function\n",
        "prob4 += 4*(x11+x12)+3*(x21+x22)-(10*t1+8*t2)"
      ]
    },
    {
      "cell_type": "code",
      "execution_count": 7,
      "metadata": {
        "id": "3X29kv1K9uqP"
      },
      "outputs": [],
      "source": [
        "# Define the constraints\n",
        "prob4 += 0.7*(x11 + x12) <= x11, \"cutlet 1 70% white meat\"\n",
        "prob4 += 0.6*(x21 + x22) <= x21, \"cutlet 2 60% white meat\"\n",
        "\n",
        "prob4 += x11 + x21 <= 5*t1 + 3*t2, \"white meat\"\n",
        "prob4 += x12 + x22 <= 2*t1 + 3*t2, \"dark meat\"\n",
        "\n",
        "prob4 += x11 + x12 <= 50, \"max of cutlet 1 to be sold\"\n",
        "prob4 += x21 + x22 <= 30, \"max of cutlet 2 to be sold\""
      ]
    },
    {
      "cell_type": "code",
      "execution_count": 8,
      "metadata": {
        "colab": {
          "base_uri": "https://localhost:8080/",
          "height": 0
        },
        "id": "NLS8Le649uqP",
        "outputId": "c63953ad-885b-41ee-c38e-de8e7704d623"
      },
      "outputs": [
        {
          "output_type": "execute_result",
          "data": {
            "text/plain": [
              "1"
            ]
          },
          "metadata": {},
          "execution_count": 8
        }
      ],
      "source": [
        "# Solve the linear programming problem\n",
        "prob4.solve()"
      ]
    },
    {
      "cell_type": "code",
      "execution_count": 9,
      "metadata": {
        "colab": {
          "base_uri": "https://localhost:8080/",
          "height": 0
        },
        "id": "cTEyrSWG9uqQ",
        "outputId": "db92fe6d-75ca-48d2-8306-fb44d349ba65"
      },
      "outputs": [
        {
          "output_type": "stream",
          "name": "stdout",
          "text": [
            "Status: Optimal\n"
          ]
        }
      ],
      "source": [
        "# Print the results\n",
        "print(f\"Status: {LpStatus[prob4.status]}\")"
      ]
    },
    {
      "cell_type": "code",
      "execution_count": 10,
      "metadata": {
        "colab": {
          "base_uri": "https://localhost:8080/",
          "height": 0
        },
        "id": "8li8w7Ga9uqQ",
        "outputId": "5a5f40cc-7055-492c-ce9c-d93a7a23f57b"
      },
      "outputs": [
        {
          "output_type": "stream",
          "name": "stdout",
          "text": [
            "t1 = 8.6666667\n",
            "t2 = 3.2222222\n",
            "x11 = 35.0\n",
            "x12 = 15.0\n",
            "x21 = 18.0\n",
            "x22 = 12.0\n"
          ]
        },
        {
          "output_type": "execute_result",
          "data": {
            "text/plain": [
              "[None, None, None, None, None, None]"
            ]
          },
          "metadata": {},
          "execution_count": 10
        }
      ],
      "source": [
        "[print(v.name, \"=\", v.varValue) for v in prob4.variables()]"
      ]
    },
    {
      "cell_type": "code",
      "execution_count": 11,
      "metadata": {
        "colab": {
          "base_uri": "https://localhost:8080/",
          "height": 0
        },
        "id": "oBqBNUnd9uqQ",
        "outputId": "ac634ae8-c1ee-4b96-93bb-b0c908b15ff1"
      },
      "outputs": [
        {
          "output_type": "stream",
          "name": "stdout",
          "text": [
            "The optimal value of the objective function is = 177.55555539999997\n"
          ]
        }
      ],
      "source": [
        "print(f'''The optimal value of the objective function is = {value(prob4.objective)}''')"
      ]
    },
    {
      "cell_type": "markdown",
      "metadata": {
        "id": "3MrbXNwkWYsU"
      },
      "source": [
        "# Question 5"
      ]
    },
    {
      "cell_type": "markdown",
      "metadata": {
        "id": "kl8NXlFxBsqh"
      },
      "source": [
        "\\begin{align}\n",
        "Min \\hspace{1cm} Z & = 15q_1 + 16q_2 + 17q_3 + 18q_4 + 1.50(e_1 + e_2 + e_4) \\\\\n",
        "\\hspace{0.5cm} q_1,q_2, q_3,q_4 & \\leq 200 \\\\\n",
        "\\hspace{0.5cm} q_1 & \\geq 130 \\\\\n",
        "\\hspace{0.5cm} q_2 & \\geq 160 \\\\\n",
        "\\hspace{0.5cm} q_3 + e_1 + e_2 & = 250 \\\\\n",
        "\\hspace{0.5cm} q_4 & \\geq 150 \\\\\n",
        "\\hspace{0.5cm} e_1 + e_2 & = 50 \\\\\n",
        "\\hspace{0.5cm} e_4 & \\leq 60 \\\\\n",
        "\\hspace{0.5cm} e_1  & = q_1 - 130 \\\\\n",
        "\\hspace{0.5cm} e_1  & = q_1 - 130 \\\\\n",
        "\\hspace{0.5cm} e_2  & = q_2 - 160 \\\\\n",
        "\\hspace{0.5cm} e_4  & = q_4 - 150 \\\\\n",
        "\\end{align}"
      ]
    },
    {
      "cell_type": "code",
      "execution_count": 21,
      "metadata": {
        "id": "qM6liZagWFhV"
      },
      "outputs": [],
      "source": [
        "# Create an object of a model\n",
        "prob5 = LpProblem(\"Question_5_LP\", LpMinimize)\n",
        "\n",
        "# Define the decision variables\n",
        "q1 = LpVariable(\"products manufactured in quarter 1\",0)\n",
        "q2 = LpVariable(\"products manufactured in quarter 2\",0)\n",
        "q3 = LpVariable(\"products manufactured in quarter 3\",0)\n",
        "q4 = LpVariable(\"products manufactured in quarter 4\",0)\n",
        "e1 = LpVariable(\"excess products stored in quarter 1\", 0)\n",
        "e2 = LpVariable(\"excess products stored in quarter 2\", 0)\n",
        "e4 = LpVariable(\"excess products stored in quarter 4\", 0)\n",
        "\n",
        "# Define the objective function\n",
        "prob5 += 15*q1 + 16*q2 + 17*q3 + 18*q4 + 1.50*(e1 + e2 + e4)\n",
        "\n",
        "# Define the constraints\n",
        "prob5 += q1 <= 200, \"max product1\"\n",
        "prob5 += q2 <= 200, \"max product2\"\n",
        "prob5 += q3 <= 200, \"max product3\"\n",
        "prob5 += q4 <= 200, \"max product4\"\n",
        "\n",
        "prob5 += q1 >= 130, \"products to meet demand q1\"\n",
        "prob5 += q2 >= 160, \"products to meet demand q2\"\n",
        "prob5 += q3+ e1 + e2 == 250, \"products to meet demand quarter 3\"\n",
        "prob5 += q4 >= 150, \"products to meet demand q4\"\n",
        "\n",
        "prob5 += e1 + e2 == 50, \"excess products combined e1 + e2\"\n",
        "prob5 += e4 <= 60, \"excess products q4 less than 60\"\n",
        "\n",
        "prob5 += e1 == q1-130, \"excess products q1\"\n",
        "prob5 += e2 == q2-160, \"excess products q2\"\n",
        "prob5 += e4 == q4-150, \"excess products q4\""
      ]
    },
    {
      "cell_type": "code",
      "execution_count": 22,
      "metadata": {
        "colab": {
          "base_uri": "https://localhost:8080/"
        },
        "id": "arfTGe78-wrp",
        "outputId": "24f02b3b-95c0-4ad9-9bc1-42a03bacbe4e"
      },
      "outputs": [
        {
          "output_type": "stream",
          "name": "stdout",
          "text": [
            "Status: Optimal\n",
            "excess_products_stored_in_quarter_1 = 50.0\n",
            "excess_products_stored_in_quarter_2 = 0.0\n",
            "excess_products_stored_in_quarter_4 = 0.0\n",
            "products_manufactured_in_quarter_1 = 180.0\n",
            "products_manufactured_in_quarter_2 = 160.0\n",
            "products_manufactured_in_quarter_3 = 200.0\n",
            "products_manufactured_in_quarter_4 = 150.0\n",
            "The optimal value of the objective function is = 11435.0\n"
          ]
        }
      ],
      "source": [
        "# Solve the linear programming problem\n",
        "prob5.solve()\n",
        "\n",
        "# Print the results\n",
        "print(f\"Status: {LpStatus[prob5.status]}\")\n",
        "\n",
        "[print(v.name, \"=\", v.varValue) for v in prob5.variables()]\n",
        "\n",
        "print(f'''The optimal value of the objective function is = {value(prob5.objective)}''')"
      ]
    },
    {
      "cell_type": "code",
      "source": [
        ""
      ],
      "metadata": {
        "id": "7ia7xd09SjWa"
      },
      "execution_count": 22,
      "outputs": []
    }
  ],
  "metadata": {
    "colab": {
      "collapsed_sections": [],
      "name": "hw1_q2",
      "provenance": [],
      "authorship_tag": "ABX9TyOQYGGLskvuA/wpM1vO9ymj",
      "include_colab_link": true
    },
    "kernelspec": {
      "display_name": "Python 3",
      "name": "python3"
    },
    "language_info": {
      "name": "python"
    }
  },
  "nbformat": 4,
  "nbformat_minor": 0
}