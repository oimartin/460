{
  "nbformat": 4,
  "nbformat_minor": 0,
  "metadata": {
    "colab": {
      "name": "hw4.ipynb",
      "provenance": [],
      "authorship_tag": "ABX9TyOn2IdJ2158i68ViJgfsJ7v",
      "include_colab_link": true
    },
    "kernelspec": {
      "name": "python3",
      "display_name": "Python 3"
    },
    "language_info": {
      "name": "python"
    }
  },
  "cells": [
    {
      "cell_type": "markdown",
      "metadata": {
        "id": "view-in-github",
        "colab_type": "text"
      },
      "source": [
        "<a href=\"https://colab.research.google.com/github/oimartin/460/blob/main/hw4.ipynb\" target=\"_parent\"><img src=\"https://colab.research.google.com/assets/colab-badge.svg\" alt=\"Open In Colab\"/></a>"
      ]
    },
    {
      "cell_type": "code",
      "source": [
        "import numpy as np\n",
        "import random\n",
        "import pandas as pd\n",
        "from scipy.stats import sem #standard error of the mean\n",
        "from statistics import stdev"
      ],
      "metadata": {
        "id": "TzZfpUfUnLW5"
      },
      "execution_count": 1,
      "outputs": []
    },
    {
      "cell_type": "markdown",
      "source": [
        "# Question 1\n",
        "Monte Carlo simulation: points in a circle"
      ],
      "metadata": {
        "id": "J0o0TAPDrW4B"
      }
    },
    {
      "cell_type": "markdown",
      "source": [
        "## Part a"
      ],
      "metadata": {
        "id": "jeNORM8ertAX"
      }
    },
    {
      "cell_type": "code",
      "source": [
        "# determine points inside or outside the quarter circle\n",
        "# r = 1\n",
        "def inside_a_circle (x,y):\n",
        "\n",
        "  # points inside the circle\n",
        "  if x**2 + y**2 < 1:\n",
        "    return 1\n",
        "  \n",
        "  # points outside the circle\n",
        "  elif x**2 + y**2 >= 1:\n",
        "    return 0"
      ],
      "metadata": {
        "id": "6zAPVaYkrW4D"
      },
      "execution_count": 18,
      "outputs": []
    },
    {
      "cell_type": "markdown",
      "source": [
        "## Part b"
      ],
      "metadata": {
        "id": "g2fL6CphsthA"
      }
    },
    {
      "cell_type": "code",
      "source": [
        "# func to estimate pi, standard error\n",
        "def estimate_pi (N):\n",
        "  \n",
        "  # set up variables\n",
        "  xy_points = []\n",
        "\n",
        "  # loop through N pairs\n",
        "  for i in range(0,N):\n",
        "    x = np.random.uniform(0,1)\n",
        "    y = np.random.uniform(0,1)\n",
        "\n",
        "    result = inside_a_circle(x,y)\n",
        "\n",
        "    # update list of xy_points\n",
        "    xy_points.append(result)\n",
        "\n",
        "  print(xy_points)\n",
        "  # estimate of pi for N pairs \n",
        "  pi_est = 4*sum(xy_points) / len(xy_points)\n",
        "  print(sum(xy_points))\n",
        "  print(len(xy_points))\n",
        "  print(pi_est)\n",
        "\n",
        "  # standard error of points inside quarter circle\n",
        "  standard_error = stdev(xy_points)\n",
        "  print(pi_est)\n",
        "\n",
        "  # standard error of pi\n",
        "  pi_se = standard_error * 4\n",
        "  print(pi_se)\n",
        "\n",
        "  # confidence interval \n",
        "  ci_95 = (1.96*pi_se/ np.sqrt(len(xy_points)))\n",
        "  print(ci_95)\n",
        "\n",
        "  return pi_est, pi_se, ci_95"
      ],
      "metadata": {
        "id": "Tk0qDCpCsvFo"
      },
      "execution_count": 19,
      "outputs": []
    },
    {
      "cell_type": "code",
      "source": [
        "test = [0, 0, 1, 0, 1, 0, 0, 1, 1, 0, 0, 0, 1, 0, 0, 0, 0, 0, 0, 0, 0, 1, 0, 1, 0, 0, 0, 0, 0, 0, 0, 0, 1, 0, 0, 0, 0, 0, 0, 1, 0, 0, 1, 0, 1, 0, 0, 1, 0, 0]\n",
        "sum(test)"
      ],
      "metadata": {
        "id": "P9YRzV92lq3U",
        "outputId": "04fb3b2f-1091-490a-d7fd-db44bdf7d8f3",
        "colab": {
          "base_uri": "https://localhost:8080/"
        }
      },
      "execution_count": 14,
      "outputs": [
        {
          "output_type": "execute_result",
          "data": {
            "text/plain": [
              "12"
            ]
          },
          "metadata": {},
          "execution_count": 14
        }
      ]
    },
    {
      "cell_type": "code",
      "source": [
        "estimate_pi(50)"
      ],
      "metadata": {
        "id": "OLq-sCRPkpDa",
        "outputId": "39375717-f6a3-4731-bf3e-e4e751f7264c",
        "colab": {
          "base_uri": "https://localhost:8080/"
        }
      },
      "execution_count": 20,
      "outputs": [
        {
          "output_type": "stream",
          "name": "stdout",
          "text": [
            "[1, 1, 0, 0, 0, 1, 0, 1, 1, 1, 0, 1, 0, 1, 1, 0, 0, 1, 1, 1, 1, 1, 0, 1, 1, 1, 1, 0, 1, 1, 1, 1, 0, 1, 0, 1, 1, 1, 0, 1, 1, 1, 1, 1, 1, 1, 1, 1, 0, 1]\n",
            "36\n",
            "50\n",
            "2.88\n",
            "2.88\n",
            "1.8142294704442907\n",
            "0.5028787527824177\n"
          ]
        },
        {
          "output_type": "execute_result",
          "data": {
            "text/plain": [
              "(2.88, 1.8142294704442907, 0.5028787527824177)"
            ]
          },
          "metadata": {},
          "execution_count": 20
        }
      ]
    },
    {
      "cell_type": "markdown",
      "source": [
        "## Part C"
      ],
      "metadata": {
        "id": "Wr-yUIYo279s"
      }
    },
    {
      "cell_type": "code",
      "source": [
        "pi_estimate = []\n",
        "pi_standard_error = []\n",
        "confidence_int_95 = []\n",
        "pi_upper = []\n",
        "pi_lower = []\n",
        "interval = []\n",
        "N = []\n",
        "\n",
        "for i in range(1000, 10500, 500):\n",
        "  N.append(i)\n",
        "  pi_est, pi_se, ci_95 = estimate_pi(i)\n",
        "\n",
        "  pi_estimate.append(pi_est)\n",
        "  pi_standard_error.append(pi_se)\n",
        "  confidence_int_95.append(ci_95)\n",
        "  pi_upper.append(pi_est + ci_95)\n",
        "  pi_lower.append(pi_est - ci_95)\n",
        "  interval.append(ci_95*2)\n",
        "\n",
        "\n",
        "df = {'N': N,\n",
        "      'estimate': pi_estimate,\n",
        "      'se': pi_standard_error,\n",
        "      'upper': pi_upper,\n",
        "      'lower': pi_lower,\n",
        "      'interval': interval}\n",
        "\n",
        "pd.DataFrame(df)"
      ],
      "metadata": {
        "id": "1727OVtt25VK",
        "outputId": "c77d45a5-2de6-406c-9ebe-ab52f64a4a4a",
        "colab": {
          "base_uri": "https://localhost:8080/",
          "height": 645
        }
      },
      "execution_count": 4,
      "outputs": [
        {
          "output_type": "execute_result",
          "data": {
            "text/plain": [
              "        N  estimate        se     upper     lower  interval\n",
              "0    1000  0.560000  1.388643  0.646069  0.473931  0.172138\n",
              "1    1500  0.528000  1.354415  0.596543  0.459457  0.137086\n",
              "2    2000  0.480000  1.300171  0.536983  0.423017  0.113965\n",
              "3    2500  0.497600  1.320413  0.549360  0.445840  0.103520\n",
              "4    3000  0.508000  1.332114  0.555669  0.460331  0.095338\n",
              "5    3500  0.486857  1.308009  0.530192  0.443523  0.086669\n",
              "6    4000  0.487000  1.308151  0.527540  0.446460  0.081080\n",
              "7    4500  0.543111  1.370362  0.583150  0.503072  0.080078\n",
              "8    5000  0.460000  1.276215  0.495375  0.424625  0.070750\n",
              "9    5500  0.502545  1.325877  0.537587  0.467504  0.070082\n",
              "10   6000  0.492000  1.313858  0.525245  0.458755  0.066490\n",
              "11   6500  0.515692  1.340562  0.548282  0.483102  0.065180\n",
              "12   7000  0.514857  1.339629  0.546240  0.483474  0.062766\n",
              "13   7500  0.503467  1.326885  0.533497  0.473436  0.060060\n",
              "14   8000  0.503000  1.326352  0.532065  0.473935  0.058130\n",
              "15   8500  0.505412  1.329065  0.533667  0.477157  0.056510\n",
              "16   9000  0.502222  1.325465  0.529607  0.474838  0.054769\n",
              "17   9500  0.506105  1.329836  0.532847  0.479363  0.053484\n",
              "18  10000  0.486800  1.307821  0.512433  0.461167  0.051267"
            ],
            "text/html": [
              "\n",
              "  <div id=\"df-73361299-c970-4eee-b85b-1bb9fcc67234\">\n",
              "    <div class=\"colab-df-container\">\n",
              "      <div>\n",
              "<style scoped>\n",
              "    .dataframe tbody tr th:only-of-type {\n",
              "        vertical-align: middle;\n",
              "    }\n",
              "\n",
              "    .dataframe tbody tr th {\n",
              "        vertical-align: top;\n",
              "    }\n",
              "\n",
              "    .dataframe thead th {\n",
              "        text-align: right;\n",
              "    }\n",
              "</style>\n",
              "<table border=\"1\" class=\"dataframe\">\n",
              "  <thead>\n",
              "    <tr style=\"text-align: right;\">\n",
              "      <th></th>\n",
              "      <th>N</th>\n",
              "      <th>estimate</th>\n",
              "      <th>se</th>\n",
              "      <th>upper</th>\n",
              "      <th>lower</th>\n",
              "      <th>interval</th>\n",
              "    </tr>\n",
              "  </thead>\n",
              "  <tbody>\n",
              "    <tr>\n",
              "      <th>0</th>\n",
              "      <td>1000</td>\n",
              "      <td>0.560000</td>\n",
              "      <td>1.388643</td>\n",
              "      <td>0.646069</td>\n",
              "      <td>0.473931</td>\n",
              "      <td>0.172138</td>\n",
              "    </tr>\n",
              "    <tr>\n",
              "      <th>1</th>\n",
              "      <td>1500</td>\n",
              "      <td>0.528000</td>\n",
              "      <td>1.354415</td>\n",
              "      <td>0.596543</td>\n",
              "      <td>0.459457</td>\n",
              "      <td>0.137086</td>\n",
              "    </tr>\n",
              "    <tr>\n",
              "      <th>2</th>\n",
              "      <td>2000</td>\n",
              "      <td>0.480000</td>\n",
              "      <td>1.300171</td>\n",
              "      <td>0.536983</td>\n",
              "      <td>0.423017</td>\n",
              "      <td>0.113965</td>\n",
              "    </tr>\n",
              "    <tr>\n",
              "      <th>3</th>\n",
              "      <td>2500</td>\n",
              "      <td>0.497600</td>\n",
              "      <td>1.320413</td>\n",
              "      <td>0.549360</td>\n",
              "      <td>0.445840</td>\n",
              "      <td>0.103520</td>\n",
              "    </tr>\n",
              "    <tr>\n",
              "      <th>4</th>\n",
              "      <td>3000</td>\n",
              "      <td>0.508000</td>\n",
              "      <td>1.332114</td>\n",
              "      <td>0.555669</td>\n",
              "      <td>0.460331</td>\n",
              "      <td>0.095338</td>\n",
              "    </tr>\n",
              "    <tr>\n",
              "      <th>5</th>\n",
              "      <td>3500</td>\n",
              "      <td>0.486857</td>\n",
              "      <td>1.308009</td>\n",
              "      <td>0.530192</td>\n",
              "      <td>0.443523</td>\n",
              "      <td>0.086669</td>\n",
              "    </tr>\n",
              "    <tr>\n",
              "      <th>6</th>\n",
              "      <td>4000</td>\n",
              "      <td>0.487000</td>\n",
              "      <td>1.308151</td>\n",
              "      <td>0.527540</td>\n",
              "      <td>0.446460</td>\n",
              "      <td>0.081080</td>\n",
              "    </tr>\n",
              "    <tr>\n",
              "      <th>7</th>\n",
              "      <td>4500</td>\n",
              "      <td>0.543111</td>\n",
              "      <td>1.370362</td>\n",
              "      <td>0.583150</td>\n",
              "      <td>0.503072</td>\n",
              "      <td>0.080078</td>\n",
              "    </tr>\n",
              "    <tr>\n",
              "      <th>8</th>\n",
              "      <td>5000</td>\n",
              "      <td>0.460000</td>\n",
              "      <td>1.276215</td>\n",
              "      <td>0.495375</td>\n",
              "      <td>0.424625</td>\n",
              "      <td>0.070750</td>\n",
              "    </tr>\n",
              "    <tr>\n",
              "      <th>9</th>\n",
              "      <td>5500</td>\n",
              "      <td>0.502545</td>\n",
              "      <td>1.325877</td>\n",
              "      <td>0.537587</td>\n",
              "      <td>0.467504</td>\n",
              "      <td>0.070082</td>\n",
              "    </tr>\n",
              "    <tr>\n",
              "      <th>10</th>\n",
              "      <td>6000</td>\n",
              "      <td>0.492000</td>\n",
              "      <td>1.313858</td>\n",
              "      <td>0.525245</td>\n",
              "      <td>0.458755</td>\n",
              "      <td>0.066490</td>\n",
              "    </tr>\n",
              "    <tr>\n",
              "      <th>11</th>\n",
              "      <td>6500</td>\n",
              "      <td>0.515692</td>\n",
              "      <td>1.340562</td>\n",
              "      <td>0.548282</td>\n",
              "      <td>0.483102</td>\n",
              "      <td>0.065180</td>\n",
              "    </tr>\n",
              "    <tr>\n",
              "      <th>12</th>\n",
              "      <td>7000</td>\n",
              "      <td>0.514857</td>\n",
              "      <td>1.339629</td>\n",
              "      <td>0.546240</td>\n",
              "      <td>0.483474</td>\n",
              "      <td>0.062766</td>\n",
              "    </tr>\n",
              "    <tr>\n",
              "      <th>13</th>\n",
              "      <td>7500</td>\n",
              "      <td>0.503467</td>\n",
              "      <td>1.326885</td>\n",
              "      <td>0.533497</td>\n",
              "      <td>0.473436</td>\n",
              "      <td>0.060060</td>\n",
              "    </tr>\n",
              "    <tr>\n",
              "      <th>14</th>\n",
              "      <td>8000</td>\n",
              "      <td>0.503000</td>\n",
              "      <td>1.326352</td>\n",
              "      <td>0.532065</td>\n",
              "      <td>0.473935</td>\n",
              "      <td>0.058130</td>\n",
              "    </tr>\n",
              "    <tr>\n",
              "      <th>15</th>\n",
              "      <td>8500</td>\n",
              "      <td>0.505412</td>\n",
              "      <td>1.329065</td>\n",
              "      <td>0.533667</td>\n",
              "      <td>0.477157</td>\n",
              "      <td>0.056510</td>\n",
              "    </tr>\n",
              "    <tr>\n",
              "      <th>16</th>\n",
              "      <td>9000</td>\n",
              "      <td>0.502222</td>\n",
              "      <td>1.325465</td>\n",
              "      <td>0.529607</td>\n",
              "      <td>0.474838</td>\n",
              "      <td>0.054769</td>\n",
              "    </tr>\n",
              "    <tr>\n",
              "      <th>17</th>\n",
              "      <td>9500</td>\n",
              "      <td>0.506105</td>\n",
              "      <td>1.329836</td>\n",
              "      <td>0.532847</td>\n",
              "      <td>0.479363</td>\n",
              "      <td>0.053484</td>\n",
              "    </tr>\n",
              "    <tr>\n",
              "      <th>18</th>\n",
              "      <td>10000</td>\n",
              "      <td>0.486800</td>\n",
              "      <td>1.307821</td>\n",
              "      <td>0.512433</td>\n",
              "      <td>0.461167</td>\n",
              "      <td>0.051267</td>\n",
              "    </tr>\n",
              "  </tbody>\n",
              "</table>\n",
              "</div>\n",
              "      <button class=\"colab-df-convert\" onclick=\"convertToInteractive('df-73361299-c970-4eee-b85b-1bb9fcc67234')\"\n",
              "              title=\"Convert this dataframe to an interactive table.\"\n",
              "              style=\"display:none;\">\n",
              "        \n",
              "  <svg xmlns=\"http://www.w3.org/2000/svg\" height=\"24px\"viewBox=\"0 0 24 24\"\n",
              "       width=\"24px\">\n",
              "    <path d=\"M0 0h24v24H0V0z\" fill=\"none\"/>\n",
              "    <path d=\"M18.56 5.44l.94 2.06.94-2.06 2.06-.94-2.06-.94-.94-2.06-.94 2.06-2.06.94zm-11 1L8.5 8.5l.94-2.06 2.06-.94-2.06-.94L8.5 2.5l-.94 2.06-2.06.94zm10 10l.94 2.06.94-2.06 2.06-.94-2.06-.94-.94-2.06-.94 2.06-2.06.94z\"/><path d=\"M17.41 7.96l-1.37-1.37c-.4-.4-.92-.59-1.43-.59-.52 0-1.04.2-1.43.59L10.3 9.45l-7.72 7.72c-.78.78-.78 2.05 0 2.83L4 21.41c.39.39.9.59 1.41.59.51 0 1.02-.2 1.41-.59l7.78-7.78 2.81-2.81c.8-.78.8-2.07 0-2.86zM5.41 20L4 18.59l7.72-7.72 1.47 1.35L5.41 20z\"/>\n",
              "  </svg>\n",
              "      </button>\n",
              "      \n",
              "  <style>\n",
              "    .colab-df-container {\n",
              "      display:flex;\n",
              "      flex-wrap:wrap;\n",
              "      gap: 12px;\n",
              "    }\n",
              "\n",
              "    .colab-df-convert {\n",
              "      background-color: #E8F0FE;\n",
              "      border: none;\n",
              "      border-radius: 50%;\n",
              "      cursor: pointer;\n",
              "      display: none;\n",
              "      fill: #1967D2;\n",
              "      height: 32px;\n",
              "      padding: 0 0 0 0;\n",
              "      width: 32px;\n",
              "    }\n",
              "\n",
              "    .colab-df-convert:hover {\n",
              "      background-color: #E2EBFA;\n",
              "      box-shadow: 0px 1px 2px rgba(60, 64, 67, 0.3), 0px 1px 3px 1px rgba(60, 64, 67, 0.15);\n",
              "      fill: #174EA6;\n",
              "    }\n",
              "\n",
              "    [theme=dark] .colab-df-convert {\n",
              "      background-color: #3B4455;\n",
              "      fill: #D2E3FC;\n",
              "    }\n",
              "\n",
              "    [theme=dark] .colab-df-convert:hover {\n",
              "      background-color: #434B5C;\n",
              "      box-shadow: 0px 1px 3px 1px rgba(0, 0, 0, 0.15);\n",
              "      filter: drop-shadow(0px 1px 2px rgba(0, 0, 0, 0.3));\n",
              "      fill: #FFFFFF;\n",
              "    }\n",
              "  </style>\n",
              "\n",
              "      <script>\n",
              "        const buttonEl =\n",
              "          document.querySelector('#df-73361299-c970-4eee-b85b-1bb9fcc67234 button.colab-df-convert');\n",
              "        buttonEl.style.display =\n",
              "          google.colab.kernel.accessAllowed ? 'block' : 'none';\n",
              "\n",
              "        async function convertToInteractive(key) {\n",
              "          const element = document.querySelector('#df-73361299-c970-4eee-b85b-1bb9fcc67234');\n",
              "          const dataTable =\n",
              "            await google.colab.kernel.invokeFunction('convertToInteractive',\n",
              "                                                     [key], {});\n",
              "          if (!dataTable) return;\n",
              "\n",
              "          const docLinkHtml = 'Like what you see? Visit the ' +\n",
              "            '<a target=\"_blank\" href=https://colab.research.google.com/notebooks/data_table.ipynb>data table notebook</a>'\n",
              "            + ' to learn more about interactive tables.';\n",
              "          element.innerHTML = '';\n",
              "          dataTable['output_type'] = 'display_data';\n",
              "          await google.colab.output.renderOutput(dataTable, element);\n",
              "          const docLink = document.createElement('div');\n",
              "          docLink.innerHTML = docLinkHtml;\n",
              "          element.appendChild(docLink);\n",
              "        }\n",
              "      </script>\n",
              "    </div>\n",
              "  </div>\n",
              "  "
            ]
          },
          "metadata": {},
          "execution_count": 4
        }
      ]
    },
    {
      "cell_type": "markdown",
      "source": [
        "# Question 2\n",
        "Simulation: selling bikes and making bonus on bike sales"
      ],
      "metadata": {
        "id": "nL7L9xjjnAgW"
      }
    },
    {
      "cell_type": "code",
      "source": [
        "# determine number of bikes sold\n",
        "possible_bikes = [4,5,6,7,8]\n",
        "bikes_sold = random.choices(possible_bikes, weights=(0.4, 0.35, 0.45, 0.15, 0.05))[0]\n",
        "bikes_sold\n",
        "\n",
        "# Set up variables\n",
        "day_bonus = 0\n",
        "model_A = 0\n",
        "model_B = 0\n",
        "model_C = 0\n",
        "model_D = 0\n",
        "\n",
        "# Determine bonus made if sold more than 4 bikes\n",
        "if bikes_sold > 4:\n",
        "\n",
        "  # iterate over the number of bikes to determine model and bonus\n",
        "  for k in range(1,bikes_sold):\n",
        "\n",
        "    # Generate random probability to pick a bike model\n",
        "    bike_type = np.random.uniform(0,1)\n",
        "\n",
        "    # Model A Bike\n",
        "    if bike_type < 0.4:\n",
        "      bonus = 10\n",
        "      day_bonus += bonus\n",
        "      model_A += 1\n",
        "\n",
        "    # Model B Bike\n",
        "    elif bike_type < 0.75:\n",
        "      bonus = 15\n",
        "      day_bonus += bonus\n",
        "      model_B += 1\n",
        "\n",
        "    # Model C Bike\n",
        "    elif bike_type < 0.95:\n",
        "      bonus = 20\n",
        "      day_bonus += bonus\n",
        "      model_C += 1\n",
        "\n",
        "    # Model D Bike\n",
        "    else:\n",
        "      sold = 25\n",
        "      day_bonus += bonus\n",
        "      model_D += 1\n",
        "\n",
        "  # Potential bonus made\n",
        "  print(f'''The salesperson sold {bikes_sold} bikes, and made ${day_bonus} in bonus money.\n",
        "\n",
        "The salesperson sold the following bikes: \n",
        "  {model_A} model A bikes\n",
        "  {model_B} model B bikes\n",
        "  {model_C} model C bikes\n",
        "  {model_C} model D bikes''')\n",
        "\n",
        "# If less than 4 bikes were sold, no bonus\n",
        "elif bikes_sold <= 4:\n",
        "  print(f'The salesperson sold 4 or less bikes and did not get a bonus.')\n"
      ],
      "metadata": {
        "colab": {
          "base_uri": "https://localhost:8080/"
        },
        "id": "FaZ5kwdpnChS",
        "outputId": "283e7cab-2665-467f-925b-b4f8b35007ab"
      },
      "execution_count": null,
      "outputs": [
        {
          "output_type": "stream",
          "name": "stdout",
          "text": [
            "The salesperson sold 5 bikes, and made $70 in bonus money.\n",
            "\n",
            "The salesperson sold the following bikes: \n",
            "  0 model A bikes\n",
            "  2 model B bikes\n",
            "  2 model C bikes\n",
            "  2 model D bikes\n"
          ]
        }
      ]
    },
    {
      "cell_type": "code",
      "source": [
        ""
      ],
      "metadata": {
        "id": "A-xipVd65UY4"
      },
      "execution_count": null,
      "outputs": []
    },
    {
      "cell_type": "markdown",
      "source": [
        "# Practice"
      ],
      "metadata": {
        "id": "hlM_jBJ_uFHz"
      }
    },
    {
      "cell_type": "code",
      "execution_count": null,
      "metadata": {
        "colab": {
          "base_uri": "https://localhost:8080/"
        },
        "id": "ywTi_oa5uDkw",
        "outputId": "e7be6302-b382-459c-f4bb-add6f715ec4e"
      },
      "outputs": [
        {
          "output_type": "stream",
          "name": "stdout",
          "text": [
            "2.9899999999999975\n"
          ]
        }
      ],
      "source": [
        "demand = 32\n",
        "\n",
        "N = 100\n",
        "dayprofit = []\n",
        "\n",
        "for k in range(1,N):\n",
        "  ordered = demand\n",
        "  soldRN = np.random.uniform(0,1)\n",
        "  if soldRN < 0.05:\n",
        "    sold = 30\n",
        "  elif soldRN < 0.2:\n",
        "    sold = 31\n",
        "  elif soldRN < 0.42:\n",
        "    sold = 32\n",
        "  elif soldRN < 0.8:\n",
        "    sold = 33\n",
        "  elif soldRN < 0.94:\n",
        "    sold = 34\n",
        "  else:\n",
        "    sold = 35\n",
        "\n",
        "  demand = sold\n",
        "  dayprofit.append(min(sold,ordered)*0.1 - abs(sold-ordered)*0.1)\n",
        "\n",
        "endbalance = sum(dayprofit)/N\n",
        "print(endbalance)\n"
      ]
    }
  ]
}