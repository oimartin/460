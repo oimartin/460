{
  "nbformat": 4,
  "nbformat_minor": 0,
  "metadata": {
    "colab": {
      "name": "hw4.ipynb",
      "provenance": [],
      "authorship_tag": "ABX9TyMSSZBZykz89gaRkllv4q+I",
      "include_colab_link": true
    },
    "kernelspec": {
      "name": "python3",
      "display_name": "Python 3"
    },
    "language_info": {
      "name": "python"
    }
  },
  "cells": [
    {
      "cell_type": "markdown",
      "metadata": {
        "id": "view-in-github",
        "colab_type": "text"
      },
      "source": [
        "<a href=\"https://colab.research.google.com/github/oimartin/460/blob/main/hw4.ipynb\" target=\"_parent\"><img src=\"https://colab.research.google.com/assets/colab-badge.svg\" alt=\"Open In Colab\"/></a>"
      ]
    },
    {
      "cell_type": "code",
      "source": [
        "import numpy as np\n",
        "import random"
      ],
      "metadata": {
        "id": "TzZfpUfUnLW5"
      },
      "execution_count": 13,
      "outputs": []
    },
    {
      "cell_type": "markdown",
      "source": [
        "# Practice"
      ],
      "metadata": {
        "id": "hlM_jBJ_uFHz"
      }
    },
    {
      "cell_type": "code",
      "execution_count": null,
      "metadata": {
        "colab": {
          "base_uri": "https://localhost:8080/"
        },
        "id": "ywTi_oa5uDkw",
        "outputId": "e7be6302-b382-459c-f4bb-add6f715ec4e"
      },
      "outputs": [
        {
          "output_type": "stream",
          "name": "stdout",
          "text": [
            "2.9899999999999975\n"
          ]
        }
      ],
      "source": [
        "demand = 32\n",
        "\n",
        "N = 100\n",
        "dayprofit = []\n",
        "\n",
        "for k in range(1,N):\n",
        "  ordered = demand\n",
        "  soldRN = np.random.uniform(0,1)\n",
        "  if soldRN < 0.05:\n",
        "    sold = 30\n",
        "  elif soldRN < 0.2:\n",
        "    sold = 31\n",
        "  elif soldRN < 0.42:\n",
        "    sold = 32\n",
        "  elif soldRN < 0.8:\n",
        "    sold = 33\n",
        "  elif soldRN < 0.94:\n",
        "    sold = 34\n",
        "  else:\n",
        "    sold = 35\n",
        "\n",
        "  demand = sold\n",
        "  dayprofit.append(min(sold,ordered)*0.1 - abs(sold-ordered)*0.1)\n",
        "\n",
        "endbalance = sum(dayprofit)/N\n",
        "print(endbalance)\n"
      ]
    },
    {
      "cell_type": "markdown",
      "source": [
        "# Question 2\n",
        "Simulation: selling bikes and making bonus on bike sales"
      ],
      "metadata": {
        "id": "nL7L9xjjnAgW"
      }
    },
    {
      "cell_type": "code",
      "source": [
        "# determine number of bikes sold\n",
        "possible_bikes = [4,5,6,7,8]\n",
        "bikes_sold = random.choices(possible_bikes, weights=(0.4, 0.35, 0.45, 0.15, 0.05))[0]\n",
        "bikes_sold\n",
        "\n",
        "# Set up variables\n",
        "day_bonus = 0\n",
        "model_A = 0\n",
        "model_B = 0\n",
        "model_C = 0\n",
        "model_D = 0\n",
        "\n",
        "# Determine bonus made if sold more than 4 bikes\n",
        "if bikes_sold > 4:\n",
        "\n",
        "  # iterate over the number of bikes to determine model and bonus\n",
        "  for k in range(1,bikes_sold):\n",
        "\n",
        "    # Generate random probability to pick a bike model\n",
        "    bike_type = np.random.uniform(0,1)\n",
        "\n",
        "    # Model A Bike\n",
        "    if bike_type < 0.4:\n",
        "      bonus = 10\n",
        "      day_bonus += bonus\n",
        "      model_A += 1\n",
        "\n",
        "    # Model B Bike\n",
        "    elif bike_type < 0.75:\n",
        "      bonus = 15\n",
        "      day_bonus += bonus\n",
        "      model_B += 1\n",
        "\n",
        "    # Model C Bike\n",
        "    elif bike_type < 0.95:\n",
        "      bonus = 20\n",
        "      day_bonus += bonus\n",
        "      model_C += 1\n",
        "\n",
        "    # Model D Bike\n",
        "    else:\n",
        "      sold = 25\n",
        "      day_bonus += bonus\n",
        "      model_D += 1\n",
        "\n",
        "  # Potential bonus made\n",
        "  print(f'''The salesperson sold {bikes_sold} bikes, and made ${day_bonus} in bonus money.\n",
        "\n",
        "The salesperson sold the following bikes: \n",
        "  {model_A} model A bikes\n",
        "  {model_B} model B bikes\n",
        "  {model_C} model C bikes\n",
        "  {model_C} model D bikes''')\n",
        "\n",
        "# If less than 4 bikes were sold, no bonus\n",
        "elif bikes_sold <= 4:\n",
        "  print(f'The salesperson sold 4 or less bikes and did not get a bonus.')\n"
      ],
      "metadata": {
        "colab": {
          "base_uri": "https://localhost:8080/"
        },
        "id": "FaZ5kwdpnChS",
        "outputId": "283e7cab-2665-467f-925b-b4f8b35007ab"
      },
      "execution_count": 48,
      "outputs": [
        {
          "output_type": "stream",
          "name": "stdout",
          "text": [
            "The salesperson sold 5 bikes, and made $70 in bonus money.\n",
            "\n",
            "The salesperson sold the following bikes: \n",
            "  0 model A bikes\n",
            "  2 model B bikes\n",
            "  2 model C bikes\n",
            "  2 model D bikes\n"
          ]
        }
      ]
    },
    {
      "cell_type": "code",
      "source": [
        ""
      ],
      "metadata": {
        "id": "A-xipVd65UY4"
      },
      "execution_count": null,
      "outputs": []
    }
  ]
}