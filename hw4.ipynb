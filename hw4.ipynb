{
  "nbformat": 4,
  "nbformat_minor": 0,
  "metadata": {
    "colab": {
      "name": "hw4.ipynb",
      "provenance": [],
      "authorship_tag": "ABX9TyPAIT857+TTfZIUn7wYa8K6",
      "include_colab_link": true
    },
    "kernelspec": {
      "name": "python3",
      "display_name": "Python 3"
    },
    "language_info": {
      "name": "python"
    }
  },
  "cells": [
    {
      "cell_type": "markdown",
      "metadata": {
        "id": "view-in-github",
        "colab_type": "text"
      },
      "source": [
        "<a href=\"https://colab.research.google.com/github/oimartin/460/blob/main/hw4.ipynb\" target=\"_parent\"><img src=\"https://colab.research.google.com/assets/colab-badge.svg\" alt=\"Open In Colab\"/></a>"
      ]
    },
    {
      "cell_type": "code",
      "source": [
        "import numpy as np\n",
        "import random\n",
        "import pandas as pd\n",
        "from scipy.stats import sem"
      ],
      "metadata": {
        "id": "TzZfpUfUnLW5"
      },
      "execution_count": 1,
      "outputs": []
    },
    {
      "cell_type": "markdown",
      "source": [
        "# Practice"
      ],
      "metadata": {
        "id": "hlM_jBJ_uFHz"
      }
    },
    {
      "cell_type": "code",
      "execution_count": null,
      "metadata": {
        "colab": {
          "base_uri": "https://localhost:8080/"
        },
        "id": "ywTi_oa5uDkw",
        "outputId": "e7be6302-b382-459c-f4bb-add6f715ec4e"
      },
      "outputs": [
        {
          "output_type": "stream",
          "name": "stdout",
          "text": [
            "2.9899999999999975\n"
          ]
        }
      ],
      "source": [
        "demand = 32\n",
        "\n",
        "N = 100\n",
        "dayprofit = []\n",
        "\n",
        "for k in range(1,N):\n",
        "  ordered = demand\n",
        "  soldRN = np.random.uniform(0,1)\n",
        "  if soldRN < 0.05:\n",
        "    sold = 30\n",
        "  elif soldRN < 0.2:\n",
        "    sold = 31\n",
        "  elif soldRN < 0.42:\n",
        "    sold = 32\n",
        "  elif soldRN < 0.8:\n",
        "    sold = 33\n",
        "  elif soldRN < 0.94:\n",
        "    sold = 34\n",
        "  else:\n",
        "    sold = 35\n",
        "\n",
        "  demand = sold\n",
        "  dayprofit.append(min(sold,ordered)*0.1 - abs(sold-ordered)*0.1)\n",
        "\n",
        "endbalance = sum(dayprofit)/N\n",
        "print(endbalance)\n"
      ]
    },
    {
      "cell_type": "markdown",
      "source": [
        "# Question 1\n",
        "Monte Carlo simulation: points in a circle"
      ],
      "metadata": {
        "id": "J0o0TAPDrW4B"
      }
    },
    {
      "cell_type": "code",
      "source": [
        "x = np.random.uniform(0,1)\n",
        "y = np.random.uniform(0,1)"
      ],
      "metadata": {
        "id": "q0xAxD18tCd2"
      },
      "execution_count": null,
      "outputs": []
    },
    {
      "cell_type": "markdown",
      "source": [
        "## Part a"
      ],
      "metadata": {
        "id": "jeNORM8ertAX"
      }
    },
    {
      "cell_type": "code",
      "source": [
        "def inside_a_circle (x,y):\n",
        "  if x*2 + y*2 < 1:\n",
        "    return 1\n",
        "\n",
        "  elif x*2 + y*2 >= 1:\n",
        "    return 0"
      ],
      "metadata": {
        "id": "6zAPVaYkrW4D"
      },
      "execution_count": 3,
      "outputs": []
    },
    {
      "cell_type": "markdown",
      "source": [
        "## Part b"
      ],
      "metadata": {
        "id": "g2fL6CphsthA"
      }
    },
    {
      "cell_type": "code",
      "source": [
        "def estimate_pi (N):\n",
        "  inside = []\n",
        "  pi_est = []\n",
        "  standard_error = []\n",
        "\n",
        "  for i in range(0,N):\n",
        "    x = np.random.uniform(0,1)\n",
        "    y = np.random.uniform(0,1)\n",
        "\n",
        "    result = inside_a_circle(x,y)\n",
        "    inside.append(result)\n",
        "    \n",
        "  pi_est.append(4*sum(inside) / len(inside))\n",
        "  standard_error.append(sem(inside))\n",
        "  pi_se = [error * 4 for error in standard_error]\n",
        "  ci_95 = [(1.96*error/ np.sqrt(len(inside))) for error in pi_se]\n",
        "\n",
        "  return pi_est[0], pi_se[0], ci_95[0]"
      ],
      "metadata": {
        "id": "Tk0qDCpCsvFo"
      },
      "execution_count": 31,
      "outputs": []
    },
    {
      "cell_type": "markdown",
      "source": [
        "## Part C"
      ],
      "metadata": {
        "id": "Wr-yUIYo279s"
      }
    },
    {
      "cell_type": "code",
      "source": [
        "pi_estimate = []\n",
        "pi_standard_error = []\n",
        "confidence_int_95 = []\n",
        "pi_upper = []\n",
        "pi_lower = []\n",
        "interval = []\n",
        "N = []\n",
        "\n",
        "for i in range(1000, 10500, 500):\n",
        "  N.append(i)\n",
        "  pi_est, pi_se, ci_95 = estimate_pi(i)\n",
        "\n",
        "  pi_estimate.append(pi_est)\n",
        "  pi_standard_error.append(pi_se)\n",
        "  confidence_int_95.append(ci_95)\n",
        "  pi_upper.append(pi_est + ci_95)\n",
        "  pi_lower.append(pi_est - ci_95)\n",
        "  interval.append(ci_95*2)\n",
        "\n",
        "\n",
        "df = {'N': N,\n",
        "      'estimate': pi_estimate,\n",
        "      'se': pi_standard_error,\n",
        "      'upper': pi_upper,\n",
        "      'lower': pi_lower,\n",
        "      'interval': interval}\n",
        "\n",
        "pd.DataFrame(df)"
      ],
      "metadata": {
        "id": "1727OVtt25VK",
        "outputId": "c04fa424-592b-44a2-c30e-464cd00686c1",
        "colab": {
          "base_uri": "https://localhost:8080/",
          "height": 645
        }
      },
      "execution_count": 32,
      "outputs": [
        {
          "output_type": "execute_result",
          "data": {
            "text/plain": [
              "        N  estimate        se     upper     lower  interval\n",
              "0    1000  0.460000  0.040374  0.462502  0.457498  0.005005\n",
              "1    1500  0.408000  0.031268  0.409582  0.406418  0.003165\n",
              "2    2000  0.514000  0.029939  0.515312  0.512688  0.002624\n",
              "3    2500  0.488000  0.026188  0.489027  0.486973  0.002053\n",
              "4    3000  0.485333  0.023849  0.486187  0.484480  0.001707\n",
              "5    3500  0.488000  0.022132  0.488733  0.487267  0.001466\n",
              "6    4000  0.505000  0.021008  0.505651  0.504349  0.001302\n",
              "7    4500  0.514667  0.019968  0.515250  0.514083  0.001167\n",
              "8    5000  0.473600  0.018278  0.474107  0.473093  0.001013\n",
              "9    5500  0.521455  0.018162  0.521935  0.520975  0.000960\n",
              "10   6000  0.498667  0.017060  0.499098  0.498235  0.000863\n",
              "11   6500  0.472000  0.016007  0.472389  0.471611  0.000778\n",
              "12   7000  0.510857  0.015958  0.511231  0.510483  0.000748\n",
              "13   7500  0.496533  0.015231  0.496878  0.496189  0.000689\n",
              "14   8000  0.523500  0.015084  0.523831  0.523169  0.000661\n",
              "15   8500  0.508706  0.014456  0.509013  0.508399  0.000615\n",
              "16   9000  0.525333  0.014242  0.525628  0.525039  0.000588\n",
              "17   9500  0.498105  0.013551  0.498378  0.497833  0.000545\n",
              "18  10000  0.482400  0.013027  0.482655  0.482145  0.000511"
            ],
            "text/html": [
              "\n",
              "  <div id=\"df-b652c51c-c98c-4895-b508-fa441520db9c\">\n",
              "    <div class=\"colab-df-container\">\n",
              "      <div>\n",
              "<style scoped>\n",
              "    .dataframe tbody tr th:only-of-type {\n",
              "        vertical-align: middle;\n",
              "    }\n",
              "\n",
              "    .dataframe tbody tr th {\n",
              "        vertical-align: top;\n",
              "    }\n",
              "\n",
              "    .dataframe thead th {\n",
              "        text-align: right;\n",
              "    }\n",
              "</style>\n",
              "<table border=\"1\" class=\"dataframe\">\n",
              "  <thead>\n",
              "    <tr style=\"text-align: right;\">\n",
              "      <th></th>\n",
              "      <th>N</th>\n",
              "      <th>estimate</th>\n",
              "      <th>se</th>\n",
              "      <th>upper</th>\n",
              "      <th>lower</th>\n",
              "      <th>interval</th>\n",
              "    </tr>\n",
              "  </thead>\n",
              "  <tbody>\n",
              "    <tr>\n",
              "      <th>0</th>\n",
              "      <td>1000</td>\n",
              "      <td>0.460000</td>\n",
              "      <td>0.040374</td>\n",
              "      <td>0.462502</td>\n",
              "      <td>0.457498</td>\n",
              "      <td>0.005005</td>\n",
              "    </tr>\n",
              "    <tr>\n",
              "      <th>1</th>\n",
              "      <td>1500</td>\n",
              "      <td>0.408000</td>\n",
              "      <td>0.031268</td>\n",
              "      <td>0.409582</td>\n",
              "      <td>0.406418</td>\n",
              "      <td>0.003165</td>\n",
              "    </tr>\n",
              "    <tr>\n",
              "      <th>2</th>\n",
              "      <td>2000</td>\n",
              "      <td>0.514000</td>\n",
              "      <td>0.029939</td>\n",
              "      <td>0.515312</td>\n",
              "      <td>0.512688</td>\n",
              "      <td>0.002624</td>\n",
              "    </tr>\n",
              "    <tr>\n",
              "      <th>3</th>\n",
              "      <td>2500</td>\n",
              "      <td>0.488000</td>\n",
              "      <td>0.026188</td>\n",
              "      <td>0.489027</td>\n",
              "      <td>0.486973</td>\n",
              "      <td>0.002053</td>\n",
              "    </tr>\n",
              "    <tr>\n",
              "      <th>4</th>\n",
              "      <td>3000</td>\n",
              "      <td>0.485333</td>\n",
              "      <td>0.023849</td>\n",
              "      <td>0.486187</td>\n",
              "      <td>0.484480</td>\n",
              "      <td>0.001707</td>\n",
              "    </tr>\n",
              "    <tr>\n",
              "      <th>5</th>\n",
              "      <td>3500</td>\n",
              "      <td>0.488000</td>\n",
              "      <td>0.022132</td>\n",
              "      <td>0.488733</td>\n",
              "      <td>0.487267</td>\n",
              "      <td>0.001466</td>\n",
              "    </tr>\n",
              "    <tr>\n",
              "      <th>6</th>\n",
              "      <td>4000</td>\n",
              "      <td>0.505000</td>\n",
              "      <td>0.021008</td>\n",
              "      <td>0.505651</td>\n",
              "      <td>0.504349</td>\n",
              "      <td>0.001302</td>\n",
              "    </tr>\n",
              "    <tr>\n",
              "      <th>7</th>\n",
              "      <td>4500</td>\n",
              "      <td>0.514667</td>\n",
              "      <td>0.019968</td>\n",
              "      <td>0.515250</td>\n",
              "      <td>0.514083</td>\n",
              "      <td>0.001167</td>\n",
              "    </tr>\n",
              "    <tr>\n",
              "      <th>8</th>\n",
              "      <td>5000</td>\n",
              "      <td>0.473600</td>\n",
              "      <td>0.018278</td>\n",
              "      <td>0.474107</td>\n",
              "      <td>0.473093</td>\n",
              "      <td>0.001013</td>\n",
              "    </tr>\n",
              "    <tr>\n",
              "      <th>9</th>\n",
              "      <td>5500</td>\n",
              "      <td>0.521455</td>\n",
              "      <td>0.018162</td>\n",
              "      <td>0.521935</td>\n",
              "      <td>0.520975</td>\n",
              "      <td>0.000960</td>\n",
              "    </tr>\n",
              "    <tr>\n",
              "      <th>10</th>\n",
              "      <td>6000</td>\n",
              "      <td>0.498667</td>\n",
              "      <td>0.017060</td>\n",
              "      <td>0.499098</td>\n",
              "      <td>0.498235</td>\n",
              "      <td>0.000863</td>\n",
              "    </tr>\n",
              "    <tr>\n",
              "      <th>11</th>\n",
              "      <td>6500</td>\n",
              "      <td>0.472000</td>\n",
              "      <td>0.016007</td>\n",
              "      <td>0.472389</td>\n",
              "      <td>0.471611</td>\n",
              "      <td>0.000778</td>\n",
              "    </tr>\n",
              "    <tr>\n",
              "      <th>12</th>\n",
              "      <td>7000</td>\n",
              "      <td>0.510857</td>\n",
              "      <td>0.015958</td>\n",
              "      <td>0.511231</td>\n",
              "      <td>0.510483</td>\n",
              "      <td>0.000748</td>\n",
              "    </tr>\n",
              "    <tr>\n",
              "      <th>13</th>\n",
              "      <td>7500</td>\n",
              "      <td>0.496533</td>\n",
              "      <td>0.015231</td>\n",
              "      <td>0.496878</td>\n",
              "      <td>0.496189</td>\n",
              "      <td>0.000689</td>\n",
              "    </tr>\n",
              "    <tr>\n",
              "      <th>14</th>\n",
              "      <td>8000</td>\n",
              "      <td>0.523500</td>\n",
              "      <td>0.015084</td>\n",
              "      <td>0.523831</td>\n",
              "      <td>0.523169</td>\n",
              "      <td>0.000661</td>\n",
              "    </tr>\n",
              "    <tr>\n",
              "      <th>15</th>\n",
              "      <td>8500</td>\n",
              "      <td>0.508706</td>\n",
              "      <td>0.014456</td>\n",
              "      <td>0.509013</td>\n",
              "      <td>0.508399</td>\n",
              "      <td>0.000615</td>\n",
              "    </tr>\n",
              "    <tr>\n",
              "      <th>16</th>\n",
              "      <td>9000</td>\n",
              "      <td>0.525333</td>\n",
              "      <td>0.014242</td>\n",
              "      <td>0.525628</td>\n",
              "      <td>0.525039</td>\n",
              "      <td>0.000588</td>\n",
              "    </tr>\n",
              "    <tr>\n",
              "      <th>17</th>\n",
              "      <td>9500</td>\n",
              "      <td>0.498105</td>\n",
              "      <td>0.013551</td>\n",
              "      <td>0.498378</td>\n",
              "      <td>0.497833</td>\n",
              "      <td>0.000545</td>\n",
              "    </tr>\n",
              "    <tr>\n",
              "      <th>18</th>\n",
              "      <td>10000</td>\n",
              "      <td>0.482400</td>\n",
              "      <td>0.013027</td>\n",
              "      <td>0.482655</td>\n",
              "      <td>0.482145</td>\n",
              "      <td>0.000511</td>\n",
              "    </tr>\n",
              "  </tbody>\n",
              "</table>\n",
              "</div>\n",
              "      <button class=\"colab-df-convert\" onclick=\"convertToInteractive('df-b652c51c-c98c-4895-b508-fa441520db9c')\"\n",
              "              title=\"Convert this dataframe to an interactive table.\"\n",
              "              style=\"display:none;\">\n",
              "        \n",
              "  <svg xmlns=\"http://www.w3.org/2000/svg\" height=\"24px\"viewBox=\"0 0 24 24\"\n",
              "       width=\"24px\">\n",
              "    <path d=\"M0 0h24v24H0V0z\" fill=\"none\"/>\n",
              "    <path d=\"M18.56 5.44l.94 2.06.94-2.06 2.06-.94-2.06-.94-.94-2.06-.94 2.06-2.06.94zm-11 1L8.5 8.5l.94-2.06 2.06-.94-2.06-.94L8.5 2.5l-.94 2.06-2.06.94zm10 10l.94 2.06.94-2.06 2.06-.94-2.06-.94-.94-2.06-.94 2.06-2.06.94z\"/><path d=\"M17.41 7.96l-1.37-1.37c-.4-.4-.92-.59-1.43-.59-.52 0-1.04.2-1.43.59L10.3 9.45l-7.72 7.72c-.78.78-.78 2.05 0 2.83L4 21.41c.39.39.9.59 1.41.59.51 0 1.02-.2 1.41-.59l7.78-7.78 2.81-2.81c.8-.78.8-2.07 0-2.86zM5.41 20L4 18.59l7.72-7.72 1.47 1.35L5.41 20z\"/>\n",
              "  </svg>\n",
              "      </button>\n",
              "      \n",
              "  <style>\n",
              "    .colab-df-container {\n",
              "      display:flex;\n",
              "      flex-wrap:wrap;\n",
              "      gap: 12px;\n",
              "    }\n",
              "\n",
              "    .colab-df-convert {\n",
              "      background-color: #E8F0FE;\n",
              "      border: none;\n",
              "      border-radius: 50%;\n",
              "      cursor: pointer;\n",
              "      display: none;\n",
              "      fill: #1967D2;\n",
              "      height: 32px;\n",
              "      padding: 0 0 0 0;\n",
              "      width: 32px;\n",
              "    }\n",
              "\n",
              "    .colab-df-convert:hover {\n",
              "      background-color: #E2EBFA;\n",
              "      box-shadow: 0px 1px 2px rgba(60, 64, 67, 0.3), 0px 1px 3px 1px rgba(60, 64, 67, 0.15);\n",
              "      fill: #174EA6;\n",
              "    }\n",
              "\n",
              "    [theme=dark] .colab-df-convert {\n",
              "      background-color: #3B4455;\n",
              "      fill: #D2E3FC;\n",
              "    }\n",
              "\n",
              "    [theme=dark] .colab-df-convert:hover {\n",
              "      background-color: #434B5C;\n",
              "      box-shadow: 0px 1px 3px 1px rgba(0, 0, 0, 0.15);\n",
              "      filter: drop-shadow(0px 1px 2px rgba(0, 0, 0, 0.3));\n",
              "      fill: #FFFFFF;\n",
              "    }\n",
              "  </style>\n",
              "\n",
              "      <script>\n",
              "        const buttonEl =\n",
              "          document.querySelector('#df-b652c51c-c98c-4895-b508-fa441520db9c button.colab-df-convert');\n",
              "        buttonEl.style.display =\n",
              "          google.colab.kernel.accessAllowed ? 'block' : 'none';\n",
              "\n",
              "        async function convertToInteractive(key) {\n",
              "          const element = document.querySelector('#df-b652c51c-c98c-4895-b508-fa441520db9c');\n",
              "          const dataTable =\n",
              "            await google.colab.kernel.invokeFunction('convertToInteractive',\n",
              "                                                     [key], {});\n",
              "          if (!dataTable) return;\n",
              "\n",
              "          const docLinkHtml = 'Like what you see? Visit the ' +\n",
              "            '<a target=\"_blank\" href=https://colab.research.google.com/notebooks/data_table.ipynb>data table notebook</a>'\n",
              "            + ' to learn more about interactive tables.';\n",
              "          element.innerHTML = '';\n",
              "          dataTable['output_type'] = 'display_data';\n",
              "          await google.colab.output.renderOutput(dataTable, element);\n",
              "          const docLink = document.createElement('div');\n",
              "          docLink.innerHTML = docLinkHtml;\n",
              "          element.appendChild(docLink);\n",
              "        }\n",
              "      </script>\n",
              "    </div>\n",
              "  </div>\n",
              "  "
            ]
          },
          "metadata": {},
          "execution_count": 32
        }
      ]
    },
    {
      "cell_type": "markdown",
      "source": [
        "# Question 2\n",
        "Simulation: selling bikes and making bonus on bike sales"
      ],
      "metadata": {
        "id": "nL7L9xjjnAgW"
      }
    },
    {
      "cell_type": "code",
      "source": [
        "# determine number of bikes sold\n",
        "possible_bikes = [4,5,6,7,8]\n",
        "bikes_sold = random.choices(possible_bikes, weights=(0.4, 0.35, 0.45, 0.15, 0.05))[0]\n",
        "bikes_sold\n",
        "\n",
        "# Set up variables\n",
        "day_bonus = 0\n",
        "model_A = 0\n",
        "model_B = 0\n",
        "model_C = 0\n",
        "model_D = 0\n",
        "\n",
        "# Determine bonus made if sold more than 4 bikes\n",
        "if bikes_sold > 4:\n",
        "\n",
        "  # iterate over the number of bikes to determine model and bonus\n",
        "  for k in range(1,bikes_sold):\n",
        "\n",
        "    # Generate random probability to pick a bike model\n",
        "    bike_type = np.random.uniform(0,1)\n",
        "\n",
        "    # Model A Bike\n",
        "    if bike_type < 0.4:\n",
        "      bonus = 10\n",
        "      day_bonus += bonus\n",
        "      model_A += 1\n",
        "\n",
        "    # Model B Bike\n",
        "    elif bike_type < 0.75:\n",
        "      bonus = 15\n",
        "      day_bonus += bonus\n",
        "      model_B += 1\n",
        "\n",
        "    # Model C Bike\n",
        "    elif bike_type < 0.95:\n",
        "      bonus = 20\n",
        "      day_bonus += bonus\n",
        "      model_C += 1\n",
        "\n",
        "    # Model D Bike\n",
        "    else:\n",
        "      sold = 25\n",
        "      day_bonus += bonus\n",
        "      model_D += 1\n",
        "\n",
        "  # Potential bonus made\n",
        "  print(f'''The salesperson sold {bikes_sold} bikes, and made ${day_bonus} in bonus money.\n",
        "\n",
        "The salesperson sold the following bikes: \n",
        "  {model_A} model A bikes\n",
        "  {model_B} model B bikes\n",
        "  {model_C} model C bikes\n",
        "  {model_C} model D bikes''')\n",
        "\n",
        "# If less than 4 bikes were sold, no bonus\n",
        "elif bikes_sold <= 4:\n",
        "  print(f'The salesperson sold 4 or less bikes and did not get a bonus.')\n"
      ],
      "metadata": {
        "colab": {
          "base_uri": "https://localhost:8080/"
        },
        "id": "FaZ5kwdpnChS",
        "outputId": "283e7cab-2665-467f-925b-b4f8b35007ab"
      },
      "execution_count": null,
      "outputs": [
        {
          "output_type": "stream",
          "name": "stdout",
          "text": [
            "The salesperson sold 5 bikes, and made $70 in bonus money.\n",
            "\n",
            "The salesperson sold the following bikes: \n",
            "  0 model A bikes\n",
            "  2 model B bikes\n",
            "  2 model C bikes\n",
            "  2 model D bikes\n"
          ]
        }
      ]
    },
    {
      "cell_type": "code",
      "source": [
        ""
      ],
      "metadata": {
        "id": "A-xipVd65UY4"
      },
      "execution_count": null,
      "outputs": []
    }
  ]
}