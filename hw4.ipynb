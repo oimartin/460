{
  "nbformat": 4,
  "nbformat_minor": 0,
  "metadata": {
    "colab": {
      "name": "hw4.ipynb",
      "provenance": [],
      "authorship_tag": "ABX9TyPMCUYMfEWs8CUWuMGZDACS",
      "include_colab_link": true
    },
    "kernelspec": {
      "name": "python3",
      "display_name": "Python 3"
    },
    "language_info": {
      "name": "python"
    }
  },
  "cells": [
    {
      "cell_type": "markdown",
      "metadata": {
        "id": "view-in-github",
        "colab_type": "text"
      },
      "source": [
        "<a href=\"https://colab.research.google.com/github/oimartin/460/blob/main/hw4.ipynb\" target=\"_parent\"><img src=\"https://colab.research.google.com/assets/colab-badge.svg\" alt=\"Open In Colab\"/></a>"
      ]
    },
    {
      "cell_type": "code",
      "source": [
        "import numpy as np\n",
        "import random\n",
        "import pandas as pd\n",
        "from statistics import stdev\n",
        "from matplotlib import pyplot as plt\n",
        "import seaborn as sns"
      ],
      "metadata": {
        "id": "TzZfpUfUnLW5"
      },
      "execution_count": 48,
      "outputs": []
    },
    {
      "cell_type": "markdown",
      "source": [
        "# Question 1\n",
        "Monte Carlo simulation: points in a circle"
      ],
      "metadata": {
        "id": "J0o0TAPDrW4B"
      }
    },
    {
      "cell_type": "markdown",
      "source": [
        "## Part a"
      ],
      "metadata": {
        "id": "jeNORM8ertAX"
      }
    },
    {
      "cell_type": "code",
      "source": [
        "# determine points inside or outside the quarter circle\n",
        "# r = 1\n",
        "def inside_a_circle (x,y):\n",
        "\n",
        "  # points inside the circle\n",
        "  if x**2 + y**2 < 1:\n",
        "    return 1\n",
        "  \n",
        "  # points outside the circle\n",
        "  elif x**2 + y**2 >= 1:\n",
        "    return 0"
      ],
      "metadata": {
        "id": "6zAPVaYkrW4D"
      },
      "execution_count": 21,
      "outputs": []
    },
    {
      "cell_type": "markdown",
      "source": [
        "## Part b"
      ],
      "metadata": {
        "id": "g2fL6CphsthA"
      }
    },
    {
      "cell_type": "code",
      "source": [
        "# func to estimate pi, standard error\n",
        "def estimate_pi (N):\n",
        "  \n",
        "  # set up variables\n",
        "  xy_points = []\n",
        "\n",
        "  # loop through N pairs\n",
        "  for i in range(0,N):\n",
        "    x = np.random.uniform(0,1)\n",
        "    y = np.random.uniform(0,1)\n",
        "\n",
        "    result = inside_a_circle(x,y)\n",
        "\n",
        "    # update list of xy_points\n",
        "    xy_points.append(result)\n",
        "\n",
        "  # estimate of pi for N pairs \n",
        "  pi_est = 4*sum(xy_points) / len(xy_points)\n",
        "\n",
        "  # standard error of points inside quarter circle\n",
        "  standard_error = stdev(xy_points)\n",
        "\n",
        "  # standard error of pi\n",
        "  pi_se = standard_error * 4\n",
        "\n",
        "  # confidence interval \n",
        "  ci_95 = (1.96*pi_se/ np.sqrt(len(xy_points)))\n",
        "\n",
        "  return pi_est, pi_se, ci_95"
      ],
      "metadata": {
        "id": "Tk0qDCpCsvFo"
      },
      "execution_count": 24,
      "outputs": []
    },
    {
      "cell_type": "markdown",
      "source": [
        "## Part C"
      ],
      "metadata": {
        "id": "Wr-yUIYo279s"
      }
    },
    {
      "cell_type": "code",
      "source": [
        "# Prepare variable lists\n",
        "N = []\n",
        "pi_estimate = []\n",
        "pi_standard_error = []\n",
        "confidence_int_95 = []\n",
        "pi_upper = []\n",
        "pi_lower = []\n",
        "interval = []\n",
        "\n",
        "# iterate in increments of 500\n",
        "for i in range(1000, 10500, 500):\n",
        "\n",
        "  # add current increment to N pairs list\n",
        "  N.append(i)\n",
        "\n",
        "  # perform metrics for N pairs\n",
        "  pi_est, pi_se, ci_95 = estimate_pi(i)\n",
        "  pi_estimate.append(pi_est)\n",
        "  pi_standard_error.append(pi_se)\n",
        "  confidence_int_95.append(ci_95)\n",
        "\n",
        "  # caclulate additional metrics for pi estimation\n",
        "  pi_upper.append(pi_est + ci_95)\n",
        "  pi_lower.append(pi_est - ci_95)\n",
        "  interval.append(ci_95*2)\n",
        "\n",
        "# create dictionary of lists\n",
        "df = {'N': N,\n",
        "      'estimate': pi_estimate,\n",
        "      'se': pi_standard_error,\n",
        "      'upper': pi_upper,\n",
        "      'lower': pi_lower,\n",
        "      'interval': interval}\n",
        "\n",
        "# convert dictionary to df\n",
        "pd.DataFrame(df)"
      ],
      "metadata": {
        "id": "1727OVtt25VK",
        "outputId": "46ff4e22-6dfc-467a-e841-d29a0468924b",
        "colab": {
          "base_uri": "https://localhost:8080/",
          "height": 645
        }
      },
      "execution_count": 25,
      "outputs": [
        {
          "output_type": "execute_result",
          "data": {
            "text/plain": [
              "        N  estimate        se     upper     lower  interval\n",
              "0    1000  3.136000  1.646881  3.238075  3.033925  0.204149\n",
              "1    1500  3.152000  1.635445  3.234765  3.069235  0.165530\n",
              "2    2000  3.142000  1.642311  3.213977  3.070023  0.143955\n",
              "3    2500  3.180800  1.614545  3.244090  3.117510  0.126580\n",
              "4    3000  3.118667  1.658162  3.178003  3.059330  0.118673\n",
              "5    3500  3.126857  1.652566  3.181607  3.072108  0.109499\n",
              "6    4000  3.139000  1.644188  3.189954  3.088046  0.101908\n",
              "7    4500  3.094222  1.674306  3.143142  3.045302  0.097840\n",
              "8    5000  3.141600  1.642343  3.187123  3.096077  0.091047\n",
              "9    5500  3.133818  1.647711  3.177365  3.090271  0.087093\n",
              "10   6000  3.146667  1.638781  3.188134  3.105200  0.082934\n",
              "11   6500  3.152615  1.634591  3.192354  3.112877  0.079476\n",
              "12   7000  3.156000  1.632190  3.194236  3.117764  0.076473\n",
              "13   7500  3.158933  1.630101  3.195826  3.122041  0.073785\n",
              "14   8000  3.140500  1.643045  3.176505  3.104495  0.072010\n",
              "15   8500  3.148706  1.637312  3.183514  3.113898  0.069616\n",
              "16   9000  3.129778  1.650426  3.163876  3.095680  0.068196\n",
              "17   9500  3.120000  1.657072  3.153322  3.086678  0.066645\n",
              "18  10000  3.182400  1.613131  3.214017  3.150783  0.063235"
            ],
            "text/html": [
              "\n",
              "  <div id=\"df-b0c76a7d-0097-4ed2-890e-45fd8ca65ad3\">\n",
              "    <div class=\"colab-df-container\">\n",
              "      <div>\n",
              "<style scoped>\n",
              "    .dataframe tbody tr th:only-of-type {\n",
              "        vertical-align: middle;\n",
              "    }\n",
              "\n",
              "    .dataframe tbody tr th {\n",
              "        vertical-align: top;\n",
              "    }\n",
              "\n",
              "    .dataframe thead th {\n",
              "        text-align: right;\n",
              "    }\n",
              "</style>\n",
              "<table border=\"1\" class=\"dataframe\">\n",
              "  <thead>\n",
              "    <tr style=\"text-align: right;\">\n",
              "      <th></th>\n",
              "      <th>N</th>\n",
              "      <th>estimate</th>\n",
              "      <th>se</th>\n",
              "      <th>upper</th>\n",
              "      <th>lower</th>\n",
              "      <th>interval</th>\n",
              "    </tr>\n",
              "  </thead>\n",
              "  <tbody>\n",
              "    <tr>\n",
              "      <th>0</th>\n",
              "      <td>1000</td>\n",
              "      <td>3.136000</td>\n",
              "      <td>1.646881</td>\n",
              "      <td>3.238075</td>\n",
              "      <td>3.033925</td>\n",
              "      <td>0.204149</td>\n",
              "    </tr>\n",
              "    <tr>\n",
              "      <th>1</th>\n",
              "      <td>1500</td>\n",
              "      <td>3.152000</td>\n",
              "      <td>1.635445</td>\n",
              "      <td>3.234765</td>\n",
              "      <td>3.069235</td>\n",
              "      <td>0.165530</td>\n",
              "    </tr>\n",
              "    <tr>\n",
              "      <th>2</th>\n",
              "      <td>2000</td>\n",
              "      <td>3.142000</td>\n",
              "      <td>1.642311</td>\n",
              "      <td>3.213977</td>\n",
              "      <td>3.070023</td>\n",
              "      <td>0.143955</td>\n",
              "    </tr>\n",
              "    <tr>\n",
              "      <th>3</th>\n",
              "      <td>2500</td>\n",
              "      <td>3.180800</td>\n",
              "      <td>1.614545</td>\n",
              "      <td>3.244090</td>\n",
              "      <td>3.117510</td>\n",
              "      <td>0.126580</td>\n",
              "    </tr>\n",
              "    <tr>\n",
              "      <th>4</th>\n",
              "      <td>3000</td>\n",
              "      <td>3.118667</td>\n",
              "      <td>1.658162</td>\n",
              "      <td>3.178003</td>\n",
              "      <td>3.059330</td>\n",
              "      <td>0.118673</td>\n",
              "    </tr>\n",
              "    <tr>\n",
              "      <th>5</th>\n",
              "      <td>3500</td>\n",
              "      <td>3.126857</td>\n",
              "      <td>1.652566</td>\n",
              "      <td>3.181607</td>\n",
              "      <td>3.072108</td>\n",
              "      <td>0.109499</td>\n",
              "    </tr>\n",
              "    <tr>\n",
              "      <th>6</th>\n",
              "      <td>4000</td>\n",
              "      <td>3.139000</td>\n",
              "      <td>1.644188</td>\n",
              "      <td>3.189954</td>\n",
              "      <td>3.088046</td>\n",
              "      <td>0.101908</td>\n",
              "    </tr>\n",
              "    <tr>\n",
              "      <th>7</th>\n",
              "      <td>4500</td>\n",
              "      <td>3.094222</td>\n",
              "      <td>1.674306</td>\n",
              "      <td>3.143142</td>\n",
              "      <td>3.045302</td>\n",
              "      <td>0.097840</td>\n",
              "    </tr>\n",
              "    <tr>\n",
              "      <th>8</th>\n",
              "      <td>5000</td>\n",
              "      <td>3.141600</td>\n",
              "      <td>1.642343</td>\n",
              "      <td>3.187123</td>\n",
              "      <td>3.096077</td>\n",
              "      <td>0.091047</td>\n",
              "    </tr>\n",
              "    <tr>\n",
              "      <th>9</th>\n",
              "      <td>5500</td>\n",
              "      <td>3.133818</td>\n",
              "      <td>1.647711</td>\n",
              "      <td>3.177365</td>\n",
              "      <td>3.090271</td>\n",
              "      <td>0.087093</td>\n",
              "    </tr>\n",
              "    <tr>\n",
              "      <th>10</th>\n",
              "      <td>6000</td>\n",
              "      <td>3.146667</td>\n",
              "      <td>1.638781</td>\n",
              "      <td>3.188134</td>\n",
              "      <td>3.105200</td>\n",
              "      <td>0.082934</td>\n",
              "    </tr>\n",
              "    <tr>\n",
              "      <th>11</th>\n",
              "      <td>6500</td>\n",
              "      <td>3.152615</td>\n",
              "      <td>1.634591</td>\n",
              "      <td>3.192354</td>\n",
              "      <td>3.112877</td>\n",
              "      <td>0.079476</td>\n",
              "    </tr>\n",
              "    <tr>\n",
              "      <th>12</th>\n",
              "      <td>7000</td>\n",
              "      <td>3.156000</td>\n",
              "      <td>1.632190</td>\n",
              "      <td>3.194236</td>\n",
              "      <td>3.117764</td>\n",
              "      <td>0.076473</td>\n",
              "    </tr>\n",
              "    <tr>\n",
              "      <th>13</th>\n",
              "      <td>7500</td>\n",
              "      <td>3.158933</td>\n",
              "      <td>1.630101</td>\n",
              "      <td>3.195826</td>\n",
              "      <td>3.122041</td>\n",
              "      <td>0.073785</td>\n",
              "    </tr>\n",
              "    <tr>\n",
              "      <th>14</th>\n",
              "      <td>8000</td>\n",
              "      <td>3.140500</td>\n",
              "      <td>1.643045</td>\n",
              "      <td>3.176505</td>\n",
              "      <td>3.104495</td>\n",
              "      <td>0.072010</td>\n",
              "    </tr>\n",
              "    <tr>\n",
              "      <th>15</th>\n",
              "      <td>8500</td>\n",
              "      <td>3.148706</td>\n",
              "      <td>1.637312</td>\n",
              "      <td>3.183514</td>\n",
              "      <td>3.113898</td>\n",
              "      <td>0.069616</td>\n",
              "    </tr>\n",
              "    <tr>\n",
              "      <th>16</th>\n",
              "      <td>9000</td>\n",
              "      <td>3.129778</td>\n",
              "      <td>1.650426</td>\n",
              "      <td>3.163876</td>\n",
              "      <td>3.095680</td>\n",
              "      <td>0.068196</td>\n",
              "    </tr>\n",
              "    <tr>\n",
              "      <th>17</th>\n",
              "      <td>9500</td>\n",
              "      <td>3.120000</td>\n",
              "      <td>1.657072</td>\n",
              "      <td>3.153322</td>\n",
              "      <td>3.086678</td>\n",
              "      <td>0.066645</td>\n",
              "    </tr>\n",
              "    <tr>\n",
              "      <th>18</th>\n",
              "      <td>10000</td>\n",
              "      <td>3.182400</td>\n",
              "      <td>1.613131</td>\n",
              "      <td>3.214017</td>\n",
              "      <td>3.150783</td>\n",
              "      <td>0.063235</td>\n",
              "    </tr>\n",
              "  </tbody>\n",
              "</table>\n",
              "</div>\n",
              "      <button class=\"colab-df-convert\" onclick=\"convertToInteractive('df-b0c76a7d-0097-4ed2-890e-45fd8ca65ad3')\"\n",
              "              title=\"Convert this dataframe to an interactive table.\"\n",
              "              style=\"display:none;\">\n",
              "        \n",
              "  <svg xmlns=\"http://www.w3.org/2000/svg\" height=\"24px\"viewBox=\"0 0 24 24\"\n",
              "       width=\"24px\">\n",
              "    <path d=\"M0 0h24v24H0V0z\" fill=\"none\"/>\n",
              "    <path d=\"M18.56 5.44l.94 2.06.94-2.06 2.06-.94-2.06-.94-.94-2.06-.94 2.06-2.06.94zm-11 1L8.5 8.5l.94-2.06 2.06-.94-2.06-.94L8.5 2.5l-.94 2.06-2.06.94zm10 10l.94 2.06.94-2.06 2.06-.94-2.06-.94-.94-2.06-.94 2.06-2.06.94z\"/><path d=\"M17.41 7.96l-1.37-1.37c-.4-.4-.92-.59-1.43-.59-.52 0-1.04.2-1.43.59L10.3 9.45l-7.72 7.72c-.78.78-.78 2.05 0 2.83L4 21.41c.39.39.9.59 1.41.59.51 0 1.02-.2 1.41-.59l7.78-7.78 2.81-2.81c.8-.78.8-2.07 0-2.86zM5.41 20L4 18.59l7.72-7.72 1.47 1.35L5.41 20z\"/>\n",
              "  </svg>\n",
              "      </button>\n",
              "      \n",
              "  <style>\n",
              "    .colab-df-container {\n",
              "      display:flex;\n",
              "      flex-wrap:wrap;\n",
              "      gap: 12px;\n",
              "    }\n",
              "\n",
              "    .colab-df-convert {\n",
              "      background-color: #E8F0FE;\n",
              "      border: none;\n",
              "      border-radius: 50%;\n",
              "      cursor: pointer;\n",
              "      display: none;\n",
              "      fill: #1967D2;\n",
              "      height: 32px;\n",
              "      padding: 0 0 0 0;\n",
              "      width: 32px;\n",
              "    }\n",
              "\n",
              "    .colab-df-convert:hover {\n",
              "      background-color: #E2EBFA;\n",
              "      box-shadow: 0px 1px 2px rgba(60, 64, 67, 0.3), 0px 1px 3px 1px rgba(60, 64, 67, 0.15);\n",
              "      fill: #174EA6;\n",
              "    }\n",
              "\n",
              "    [theme=dark] .colab-df-convert {\n",
              "      background-color: #3B4455;\n",
              "      fill: #D2E3FC;\n",
              "    }\n",
              "\n",
              "    [theme=dark] .colab-df-convert:hover {\n",
              "      background-color: #434B5C;\n",
              "      box-shadow: 0px 1px 3px 1px rgba(0, 0, 0, 0.15);\n",
              "      filter: drop-shadow(0px 1px 2px rgba(0, 0, 0, 0.3));\n",
              "      fill: #FFFFFF;\n",
              "    }\n",
              "  </style>\n",
              "\n",
              "      <script>\n",
              "        const buttonEl =\n",
              "          document.querySelector('#df-b0c76a7d-0097-4ed2-890e-45fd8ca65ad3 button.colab-df-convert');\n",
              "        buttonEl.style.display =\n",
              "          google.colab.kernel.accessAllowed ? 'block' : 'none';\n",
              "\n",
              "        async function convertToInteractive(key) {\n",
              "          const element = document.querySelector('#df-b0c76a7d-0097-4ed2-890e-45fd8ca65ad3');\n",
              "          const dataTable =\n",
              "            await google.colab.kernel.invokeFunction('convertToInteractive',\n",
              "                                                     [key], {});\n",
              "          if (!dataTable) return;\n",
              "\n",
              "          const docLinkHtml = 'Like what you see? Visit the ' +\n",
              "            '<a target=\"_blank\" href=https://colab.research.google.com/notebooks/data_table.ipynb>data table notebook</a>'\n",
              "            + ' to learn more about interactive tables.';\n",
              "          element.innerHTML = '';\n",
              "          dataTable['output_type'] = 'display_data';\n",
              "          await google.colab.output.renderOutput(dataTable, element);\n",
              "          const docLink = document.createElement('div');\n",
              "          docLink.innerHTML = docLinkHtml;\n",
              "          element.appendChild(docLink);\n",
              "        }\n",
              "      </script>\n",
              "    </div>\n",
              "  </div>\n",
              "  "
            ]
          },
          "metadata": {},
          "execution_count": 25
        }
      ]
    },
    {
      "cell_type": "markdown",
      "source": [
        "## Part d"
      ],
      "metadata": {
        "id": "YBvPUEYsrP3I"
      }
    },
    {
      "cell_type": "code",
      "source": [
        "pi_est_4000 = []\n",
        "\n",
        "for i in range(0,501):\n",
        "  pi_est, pi_se, ci_95 = estimate_pi(4000)\n",
        "  pi_est_4000.append(pi_est)"
      ],
      "metadata": {
        "id": "1JAtywDLrRTq"
      },
      "execution_count": 28,
      "outputs": []
    },
    {
      "cell_type": "code",
      "source": [
        "pi_est_series = pd.Series(pi_est_4000)"
      ],
      "metadata": {
        "id": "HUpBrT73sTO4"
      },
      "execution_count": 38,
      "outputs": []
    },
    {
      "cell_type": "code",
      "source": [
        "sns.set_theme(style='darkgrid')\n",
        "g = sns.displot(data=pi_est_series, kde=True)\n",
        "g.set_axis_labels('Pi Estimate')\n",
        "plt.title('Estimating pi with 4000 points, 500 times')"
      ],
      "metadata": {
        "id": "V5Wn378os4s6",
        "outputId": "3368cd5a-d304-487e-8a65-92b452f87775",
        "colab": {
          "base_uri": "https://localhost:8080/",
          "height": 415
        }
      },
      "execution_count": 49,
      "outputs": [
        {
          "output_type": "execute_result",
          "data": {
            "text/plain": [
              "Text(0.5, 1.0, 'Estimating pi with 4000 points, 500 times')"
            ]
          },
          "metadata": {},
          "execution_count": 49
        },
        {
          "output_type": "display_data",
          "data": {
            "text/plain": [
              "<Figure size 360x360 with 1 Axes>"
            ],
            "image/png": "[encoded data removed]"
          },
          "metadata": {}
        }
      ]
    },
    {
      "cell_type": "code",
      "source": [
        "print(f'The standard deviation is {stdev(pi_est_4000)}')"
      ],
      "metadata": {
        "id": "_pSLTtYHv21S",
        "outputId": "e52147fb-0177-4b2d-843c-685bb52d3e6c",
        "colab": {
          "base_uri": "https://localhost:8080/"
        }
      },
      "execution_count": 51,
      "outputs": [
        {
          "output_type": "stream",
          "name": "stdout",
          "text": [
            "The standard deviation is 0.025112707537028312\n"
          ]
        }
      ]
    },
    {
      "cell_type": "code",
      "source": [
        "within_interval = 0\n",
        "\n",
        "for i in pi_est_4000:\n",
        "  if i <= 3.189954:\n",
        "    within_interval += 1\n",
        "  if i >= 3.088046:\n",
        "    within_interval += 1\n",
        "\n",
        "print(f'''There are {within_interval} pi estimates within the 95% CI interval.\n",
        "{round(within_interval/len(pi_est_4000), 2)}% is the percentage of pi estimates within the 95% CI interval.''')"
      ],
      "metadata": {
        "id": "Kz53S6-8wRU_",
        "outputId": "c1a8f4e2-9ac0-4a5f-ccf2-2b245599275d",
        "colab": {
          "base_uri": "https://localhost:8080/"
        }
      },
      "execution_count": 60,
      "outputs": [
        {
          "output_type": "stream",
          "name": "stdout",
          "text": [
            "There are 982 pi estimates within the 95% CI interval.\n",
            "1.96% is the percentage of pi estimates within the 95% CI interval.\n"
          ]
        }
      ]
    },
    {
      "cell_type": "markdown",
      "source": [
        "# Question 2\n",
        "Simulation: selling bikes and making bonus on bike sales"
      ],
      "metadata": {
        "id": "nL7L9xjjnAgW"
      }
    },
    {
      "cell_type": "code",
      "source": [
        "# determine number of bikes sold\n",
        "possible_bikes = [4,5,6,7,8]\n",
        "bikes_sold = random.choices(possible_bikes, weights=(0.4, 0.35, 0.45, 0.15, 0.05))[0]\n",
        "bikes_sold\n",
        "\n",
        "# Set up variables\n",
        "day_bonus = 0\n",
        "model_A = 0\n",
        "model_B = 0\n",
        "model_C = 0\n",
        "model_D = 0\n",
        "\n",
        "# Determine bonus made if sold more than 4 bikes\n",
        "if bikes_sold > 4:\n",
        "\n",
        "  # iterate over the number of bikes to determine model and bonus\n",
        "  for k in range(1,bikes_sold):\n",
        "\n",
        "    # Generate random probability to pick a bike model\n",
        "    bike_type = np.random.uniform(0,1)\n",
        "\n",
        "    # Model A Bike\n",
        "    if bike_type < 0.4:\n",
        "      bonus = 10\n",
        "      day_bonus += bonus\n",
        "      model_A += 1\n",
        "\n",
        "    # Model B Bike\n",
        "    elif bike_type < 0.75:\n",
        "      bonus = 15\n",
        "      day_bonus += bonus\n",
        "      model_B += 1\n",
        "\n",
        "    # Model C Bike\n",
        "    elif bike_type < 0.95:\n",
        "      bonus = 20\n",
        "      day_bonus += bonus\n",
        "      model_C += 1\n",
        "\n",
        "    # Model D Bike\n",
        "    else:\n",
        "      sold = 25\n",
        "      day_bonus += bonus\n",
        "      model_D += 1\n",
        "\n",
        "  # Potential bonus made\n",
        "  print(f'''The salesperson sold {bikes_sold} bikes, and made ${day_bonus} in bonus money.\n",
        "\n",
        "The salesperson sold the following bikes: \n",
        "  {model_A} model A bikes\n",
        "  {model_B} model B bikes\n",
        "  {model_C} model C bikes\n",
        "  {model_C} model D bikes''')\n",
        "\n",
        "# If less than 4 bikes were sold, no bonus\n",
        "elif bikes_sold <= 4:\n",
        "  print(f'The salesperson sold 4 or less bikes and did not get a bonus.')\n"
      ],
      "metadata": {
        "colab": {
          "base_uri": "https://localhost:8080/"
        },
        "id": "FaZ5kwdpnChS",
        "outputId": "283e7cab-2665-467f-925b-b4f8b35007ab"
      },
      "execution_count": null,
      "outputs": [
        {
          "output_type": "stream",
          "name": "stdout",
          "text": [
            "The salesperson sold 5 bikes, and made $70 in bonus money.\n",
            "\n",
            "The salesperson sold the following bikes: \n",
            "  0 model A bikes\n",
            "  2 model B bikes\n",
            "  2 model C bikes\n",
            "  2 model D bikes\n"
          ]
        }
      ]
    },
    {
      "cell_type": "code",
      "source": [
        ""
      ],
      "metadata": {
        "id": "A-xipVd65UY4"
      },
      "execution_count": null,
      "outputs": []
    },
    {
      "cell_type": "markdown",
      "source": [
        "# Practice"
      ],
      "metadata": {
        "id": "hlM_jBJ_uFHz"
      }
    },
    {
      "cell_type": "code",
      "execution_count": null,
      "metadata": {
        "colab": {
          "base_uri": "https://localhost:8080/"
        },
        "id": "ywTi_oa5uDkw",
        "outputId": "e7be6302-b382-459c-f4bb-add6f715ec4e"
      },
      "outputs": [
        {
          "output_type": "stream",
          "name": "stdout",
          "text": [
            "2.9899999999999975\n"
          ]
        }
      ],
      "source": [
        "demand = 32\n",
        "\n",
        "N = 100\n",
        "dayprofit = []\n",
        "\n",
        "for k in range(1,N):\n",
        "  ordered = demand\n",
        "  soldRN = np.random.uniform(0,1)\n",
        "  if soldRN < 0.05:\n",
        "    sold = 30\n",
        "  elif soldRN < 0.2:\n",
        "    sold = 31\n",
        "  elif soldRN < 0.42:\n",
        "    sold = 32\n",
        "  elif soldRN < 0.8:\n",
        "    sold = 33\n",
        "  elif soldRN < 0.94:\n",
        "    sold = 34\n",
        "  else:\n",
        "    sold = 35\n",
        "\n",
        "  demand = sold\n",
        "  dayprofit.append(min(sold,ordered)*0.1 - abs(sold-ordered)*0.1)\n",
        "\n",
        "endbalance = sum(dayprofit)/N\n",
        "print(endbalance)\n"
      ]
    }
  ]
}