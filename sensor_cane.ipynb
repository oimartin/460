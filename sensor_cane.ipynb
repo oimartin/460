{
  "nbformat": 4,
  "nbformat_minor": 0,
  "metadata": {
    "colab": {
      "name": "Untitled1.ipynb",
      "provenance": [],
      "authorship_tag": "ABX9TyPmIgU3YUDR3Ai3w8v9NBlh",
      "include_colab_link": true
    },
    "kernelspec": {
      "name": "python3",
      "display_name": "Python 3"
    },
    "language_info": {
      "name": "python"
    }
  },
  "cells": [
    {
      "cell_type": "markdown",
      "metadata": {
        "id": "view-in-github",
        "colab_type": "text"
      },
      "source": [
        "<a href=\"https://colab.research.google.com/github/oimartin/460/blob/main/sensor_cane.ipynb\" target=\"_parent\"><img src=\"https://colab.research.google.com/assets/colab-badge.svg\" alt=\"Open In Colab\"/></a>"
      ]
    },
    {
      "cell_type": "code",
      "execution_count": 1,
      "metadata": {
        "id": "qbpTE0TpVgcy"
      },
      "outputs": [],
      "source": [
        "import pandas as pd\n",
        "import plotly.express as px\n",
        "import matplotlib.pyplot as plt\n"
      ]
    },
    {
      "cell_type": "code",
      "source": [
        "data = pd.read_csv('https://raw.githubusercontent.com/oimartin/Older-and-Wiser/relational/data/cStick.csv')\n",
        "display(data.info())\n",
        "print(\"\")\n",
        "display(data.describe())"
      ],
      "metadata": {
        "colab": {
          "base_uri": "https://localhost:8080/",
          "height": 590
        },
        "id": "69_wQIzEVmfy",
        "outputId": "ade75241-9dd5-4fa5-a4ab-957587e2b913"
      },
      "execution_count": 2,
      "outputs": [
        {
          "output_type": "stream",
          "name": "stdout",
          "text": [
            "<class 'pandas.core.frame.DataFrame'>\n",
            "RangeIndex: 2039 entries, 0 to 2038\n",
            "Data columns (total 7 columns):\n",
            " #   Column         Non-Null Count  Dtype  \n",
            "---  ------         --------------  -----  \n",
            " 0   Distance       2039 non-null   float64\n",
            " 1   Pressure       2039 non-null   float64\n",
            " 2   HRV            2039 non-null   float64\n",
            " 3   Sugar level    2039 non-null   float64\n",
            " 4   SpO2           2039 non-null   float64\n",
            " 5   Accelerometer  2039 non-null   float64\n",
            " 6   Decision       2039 non-null   int64  \n",
            "dtypes: float64(6), int64(1)\n",
            "memory usage: 111.6 KB\n"
          ]
        },
        {
          "output_type": "display_data",
          "data": {
            "text/plain": [
              "None"
            ]
          },
          "metadata": {}
        },
        {
          "output_type": "stream",
          "name": "stdout",
          "text": [
            "\n"
          ]
        },
        {
          "output_type": "display_data",
          "data": {
            "text/plain": [
              "          Distance     Pressure          HRV  Sugar level         SpO2  \\\n",
              "count  2039.000000  2039.000000  2039.000000  2039.000000  2039.000000   \n",
              "mean     28.694527     0.988720    95.657002    72.909243    83.563649   \n",
              "std      23.773644     0.815918    17.576499    46.940110    11.111592   \n",
              "min       0.000000     0.000000    60.000000    10.000000    60.000000   \n",
              "25%       7.642500     0.000000    82.418000    40.230000    75.285000   \n",
              "50%      20.560000     1.000000    97.238000    69.960000    85.280000   \n",
              "75%      55.205500     2.000000   109.695000    77.612500    92.692500   \n",
              "max      69.981000     2.000000   124.980000   179.293000    99.990000   \n",
              "\n",
              "       Accelerometer    Decision   \n",
              "count    2039.000000  2039.000000  \n",
              "mean        0.661599     0.988720  \n",
              "std         0.473282     0.815918  \n",
              "min         0.000000     0.000000  \n",
              "25%         0.000000     0.000000  \n",
              "50%         1.000000     1.000000  \n",
              "75%         1.000000     2.000000  \n",
              "max         1.000000     2.000000  "
            ],
            "text/html": [
              "\n",
              "  <div id=\"df-ac2bfda5-6fb7-4a44-98fc-3e5ce0bbcdd5\">\n",
              "    <div class=\"colab-df-container\">\n",
              "      <div>\n",
              "<style scoped>\n",
              "    .dataframe tbody tr th:only-of-type {\n",
              "        vertical-align: middle;\n",
              "    }\n",
              "\n",
              "    .dataframe tbody tr th {\n",
              "        vertical-align: top;\n",
              "    }\n",
              "\n",
              "    .dataframe thead th {\n",
              "        text-align: right;\n",
              "    }\n",
              "</style>\n",
              "<table border=\"1\" class=\"dataframe\">\n",
              "  <thead>\n",
              "    <tr style=\"text-align: right;\">\n",
              "      <th></th>\n",
              "      <th>Distance</th>\n",
              "      <th>Pressure</th>\n",
              "      <th>HRV</th>\n",
              "      <th>Sugar level</th>\n",
              "      <th>SpO2</th>\n",
              "      <th>Accelerometer</th>\n",
              "      <th>Decision</th>\n",
              "    </tr>\n",
              "  </thead>\n",
              "  <tbody>\n",
              "    <tr>\n",
              "      <th>count</th>\n",
              "      <td>2039.000000</td>\n",
              "      <td>2039.000000</td>\n",
              "      <td>2039.000000</td>\n",
              "      <td>2039.000000</td>\n",
              "      <td>2039.000000</td>\n",
              "      <td>2039.000000</td>\n",
              "      <td>2039.000000</td>\n",
              "    </tr>\n",
              "    <tr>\n",
              "      <th>mean</th>\n",
              "      <td>28.694527</td>\n",
              "      <td>0.988720</td>\n",
              "      <td>95.657002</td>\n",
              "      <td>72.909243</td>\n",
              "      <td>83.563649</td>\n",
              "      <td>0.661599</td>\n",
              "      <td>0.988720</td>\n",
              "    </tr>\n",
              "    <tr>\n",
              "      <th>std</th>\n",
              "      <td>23.773644</td>\n",
              "      <td>0.815918</td>\n",
              "      <td>17.576499</td>\n",
              "      <td>46.940110</td>\n",
              "      <td>11.111592</td>\n",
              "      <td>0.473282</td>\n",
              "      <td>0.815918</td>\n",
              "    </tr>\n",
              "    <tr>\n",
              "      <th>min</th>\n",
              "      <td>0.000000</td>\n",
              "      <td>0.000000</td>\n",
              "      <td>60.000000</td>\n",
              "      <td>10.000000</td>\n",
              "      <td>60.000000</td>\n",
              "      <td>0.000000</td>\n",
              "      <td>0.000000</td>\n",
              "    </tr>\n",
              "    <tr>\n",
              "      <th>25%</th>\n",
              "      <td>7.642500</td>\n",
              "      <td>0.000000</td>\n",
              "      <td>82.418000</td>\n",
              "      <td>40.230000</td>\n",
              "      <td>75.285000</td>\n",
              "      <td>0.000000</td>\n",
              "      <td>0.000000</td>\n",
              "    </tr>\n",
              "    <tr>\n",
              "      <th>50%</th>\n",
              "      <td>20.560000</td>\n",
              "      <td>1.000000</td>\n",
              "      <td>97.238000</td>\n",
              "      <td>69.960000</td>\n",
              "      <td>85.280000</td>\n",
              "      <td>1.000000</td>\n",
              "      <td>1.000000</td>\n",
              "    </tr>\n",
              "    <tr>\n",
              "      <th>75%</th>\n",
              "      <td>55.205500</td>\n",
              "      <td>2.000000</td>\n",
              "      <td>109.695000</td>\n",
              "      <td>77.612500</td>\n",
              "      <td>92.692500</td>\n",
              "      <td>1.000000</td>\n",
              "      <td>2.000000</td>\n",
              "    </tr>\n",
              "    <tr>\n",
              "      <th>max</th>\n",
              "      <td>69.981000</td>\n",
              "      <td>2.000000</td>\n",
              "      <td>124.980000</td>\n",
              "      <td>179.293000</td>\n",
              "      <td>99.990000</td>\n",
              "      <td>1.000000</td>\n",
              "      <td>2.000000</td>\n",
              "    </tr>\n",
              "  </tbody>\n",
              "</table>\n",
              "</div>\n",
              "      <button class=\"colab-df-convert\" onclick=\"convertToInteractive('df-ac2bfda5-6fb7-4a44-98fc-3e5ce0bbcdd5')\"\n",
              "              title=\"Convert this dataframe to an interactive table.\"\n",
              "              style=\"display:none;\">\n",
              "        \n",
              "  <svg xmlns=\"http://www.w3.org/2000/svg\" height=\"24px\"viewBox=\"0 0 24 24\"\n",
              "       width=\"24px\">\n",
              "    <path d=\"M0 0h24v24H0V0z\" fill=\"none\"/>\n",
              "    <path d=\"M18.56 5.44l.94 2.06.94-2.06 2.06-.94-2.06-.94-.94-2.06-.94 2.06-2.06.94zm-11 1L8.5 8.5l.94-2.06 2.06-.94-2.06-.94L8.5 2.5l-.94 2.06-2.06.94zm10 10l.94 2.06.94-2.06 2.06-.94-2.06-.94-.94-2.06-.94 2.06-2.06.94z\"/><path d=\"M17.41 7.96l-1.37-1.37c-.4-.4-.92-.59-1.43-.59-.52 0-1.04.2-1.43.59L10.3 9.45l-7.72 7.72c-.78.78-.78 2.05 0 2.83L4 21.41c.39.39.9.59 1.41.59.51 0 1.02-.2 1.41-.59l7.78-7.78 2.81-2.81c.8-.78.8-2.07 0-2.86zM5.41 20L4 18.59l7.72-7.72 1.47 1.35L5.41 20z\"/>\n",
              "  </svg>\n",
              "      </button>\n",
              "      \n",
              "  <style>\n",
              "    .colab-df-container {\n",
              "      display:flex;\n",
              "      flex-wrap:wrap;\n",
              "      gap: 12px;\n",
              "    }\n",
              "\n",
              "    .colab-df-convert {\n",
              "      background-color: #E8F0FE;\n",
              "      border: none;\n",
              "      border-radius: 50%;\n",
              "      cursor: pointer;\n",
              "      display: none;\n",
              "      fill: #1967D2;\n",
              "      height: 32px;\n",
              "      padding: 0 0 0 0;\n",
              "      width: 32px;\n",
              "    }\n",
              "\n",
              "    .colab-df-convert:hover {\n",
              "      background-color: #E2EBFA;\n",
              "      box-shadow: 0px 1px 2px rgba(60, 64, 67, 0.3), 0px 1px 3px 1px rgba(60, 64, 67, 0.15);\n",
              "      fill: #174EA6;\n",
              "    }\n",
              "\n",
              "    [theme=dark] .colab-df-convert {\n",
              "      background-color: #3B4455;\n",
              "      fill: #D2E3FC;\n",
              "    }\n",
              "\n",
              "    [theme=dark] .colab-df-convert:hover {\n",
              "      background-color: #434B5C;\n",
              "      box-shadow: 0px 1px 3px 1px rgba(0, 0, 0, 0.15);\n",
              "      filter: drop-shadow(0px 1px 2px rgba(0, 0, 0, 0.3));\n",
              "      fill: #FFFFFF;\n",
              "    }\n",
              "  </style>\n",
              "\n",
              "      <script>\n",
              "        const buttonEl =\n",
              "          document.querySelector('#df-ac2bfda5-6fb7-4a44-98fc-3e5ce0bbcdd5 button.colab-df-convert');\n",
              "        buttonEl.style.display =\n",
              "          google.colab.kernel.accessAllowed ? 'block' : 'none';\n",
              "\n",
              "        async function convertToInteractive(key) {\n",
              "          const element = document.querySelector('#df-ac2bfda5-6fb7-4a44-98fc-3e5ce0bbcdd5');\n",
              "          const dataTable =\n",
              "            await google.colab.kernel.invokeFunction('convertToInteractive',\n",
              "                                                     [key], {});\n",
              "          if (!dataTable) return;\n",
              "\n",
              "          const docLinkHtml = 'Like what you see? Visit the ' +\n",
              "            '<a target=\"_blank\" href=https://colab.research.google.com/notebooks/data_table.ipynb>data table notebook</a>'\n",
              "            + ' to learn more about interactive tables.';\n",
              "          element.innerHTML = '';\n",
              "          dataTable['output_type'] = 'display_data';\n",
              "          await google.colab.output.renderOutput(dataTable, element);\n",
              "          const docLink = document.createElement('div');\n",
              "          docLink.innerHTML = docLinkHtml;\n",
              "          element.appendChild(docLink);\n",
              "        }\n",
              "      </script>\n",
              "    </div>\n",
              "  </div>\n",
              "  "
            ]
          },
          "metadata": {}
        }
      ]
    },
    {
      "cell_type": "code",
      "source": [
        "\n",
        "data.iloc[:, -1] = data.iloc[:, -1].replace(to_replace={0: 'No Fall Detected',\n",
        "                                            1: 'Person Slipped/Tripped/Prediction of Fall',\n",
        "                                            2: 'Definite Fall'})"
      ],
      "metadata": {
        "id": "6zn9OzNFfen6"
      },
      "execution_count": 3,
      "outputs": []
    },
    {
      "cell_type": "code",
      "source": [
        "data.isna().value_counts()"
      ],
      "metadata": {
        "colab": {
          "base_uri": "https://localhost:8080/"
        },
        "id": "SuGsM-hhX0q_",
        "outputId": "0d17d9f5-0987-4d03-d91e-ba78d2eb8957"
      },
      "execution_count": 4,
      "outputs": [
        {
          "output_type": "execute_result",
          "data": {
            "text/plain": [
              "Distance  Pressure  HRV    Sugar level  SpO2   Accelerometer  Decision \n",
              "False     False     False  False        False  False          False        2039\n",
              "dtype: int64"
            ]
          },
          "metadata": {},
          "execution_count": 4
        }
      ]
    },
    {
      "cell_type": "code",
      "source": [
        "data['Accelerometer'].plot(kind='box')"
      ],
      "metadata": {
        "colab": {
          "base_uri": "https://localhost:8080/",
          "height": 283
        },
        "id": "eydy2aWBdcf1",
        "outputId": "f2610c2a-42d3-46d0-e9bc-173e9dbcd968"
      },
      "execution_count": 5,
      "outputs": [
        {
          "output_type": "execute_result",
          "data": {
            "text/plain": [
              "<matplotlib.axes._subplots.AxesSubplot at 0x7fc3923e8e10>"
            ]
          },
          "metadata": {},
          "execution_count": 5
        },
        {
          "output_type": "display_data",
          "data": {
            "text/plain": [
              "<Figure size 432x288 with 1 Axes>"
            ],
            "image/png": "[encoded data removed]"
          },
          "metadata": {
            "needs_background": "light"
          }
        }
      ]
    },
    {
      "cell_type": "code",
      "source": [
        "data['Distance'].plot(kind='box')"
      ],
      "metadata": {
        "colab": {
          "base_uri": "https://localhost:8080/",
          "height": 283
        },
        "id": "WfRuMYfreYmr",
        "outputId": "1e6ca549-1367-4cb3-d597-661564502031"
      },
      "execution_count": 6,
      "outputs": [
        {
          "output_type": "execute_result",
          "data": {
            "text/plain": [
              "<matplotlib.axes._subplots.AxesSubplot at 0x7fc39231dad0>"
            ]
          },
          "metadata": {},
          "execution_count": 6
        },
        {
          "output_type": "display_data",
          "data": {
            "text/plain": [
              "<Figure size 432x288 with 1 Axes>"
            ],
            "image/png": "[encoded data removed]"
          },
          "metadata": {
            "needs_background": "light"
          }
        }
      ]
    },
    {
      "cell_type": "code",
      "source": [
        "data"
      ],
      "metadata": {
        "colab": {
          "base_uri": "https://localhost:8080/",
          "height": 423
        },
        "id": "P3yfV75jfXr0",
        "outputId": "9d80ccf0-fe0f-496e-e3e9-533076ab53f8"
      },
      "execution_count": 7,
      "outputs": [
        {
          "output_type": "execute_result",
          "data": {
            "text/plain": [
              "      Distance  Pressure      HRV  Sugar level    SpO2  Accelerometer  \\\n",
              "0       25.540       1.0  101.396       61.080  87.770            1.0   \n",
              "1        2.595       2.0  110.190       20.207  65.190            1.0   \n",
              "2       68.067       0.0   87.412       79.345  99.345            0.0   \n",
              "3       13.090       1.0   92.266       36.180  81.545            1.0   \n",
              "4       69.430       0.0   89.480       80.000  99.990            0.0   \n",
              "...        ...       ...      ...          ...     ...            ...   \n",
              "2034     5.655       2.0  116.310      162.242  71.310            1.0   \n",
              "2035     9.660       2.0  124.320      177.995  79.320            1.0   \n",
              "2036    15.220       1.0   93.828       40.440  82.610            1.0   \n",
              "2037     9.120       2.0  123.240      175.871  78.240            1.0   \n",
              "2038    62.441       0.0   78.876       76.435  96.435            0.0   \n",
              "\n",
              "                                      Decision   \n",
              "0     Person Slipped/Tripped/Prediction of Fall  \n",
              "1                                 Definite Fall  \n",
              "2                              No Fall Detected  \n",
              "3     Person Slipped/Tripped/Prediction of Fall  \n",
              "4                              No Fall Detected  \n",
              "...                                         ...  \n",
              "2034                              Definite Fall  \n",
              "2035                              Definite Fall  \n",
              "2036  Person Slipped/Tripped/Prediction of Fall  \n",
              "2037                              Definite Fall  \n",
              "2038                           No Fall Detected  \n",
              "\n",
              "[2039 rows x 7 columns]"
            ],
            "text/html": [
              "\n",
              "  <div id=\"df-c6beb62d-ebab-4fe0-9f2a-1f45ff96c84d\">\n",
              "    <div class=\"colab-df-container\">\n",
              "      <div>\n",
              "<style scoped>\n",
              "    .dataframe tbody tr th:only-of-type {\n",
              "        vertical-align: middle;\n",
              "    }\n",
              "\n",
              "    .dataframe tbody tr th {\n",
              "        vertical-align: top;\n",
              "    }\n",
              "\n",
              "    .dataframe thead th {\n",
              "        text-align: right;\n",
              "    }\n",
              "</style>\n",
              "<table border=\"1\" class=\"dataframe\">\n",
              "  <thead>\n",
              "    <tr style=\"text-align: right;\">\n",
              "      <th></th>\n",
              "      <th>Distance</th>\n",
              "      <th>Pressure</th>\n",
              "      <th>HRV</th>\n",
              "      <th>Sugar level</th>\n",
              "      <th>SpO2</th>\n",
              "      <th>Accelerometer</th>\n",
              "      <th>Decision</th>\n",
              "    </tr>\n",
              "  </thead>\n",
              "  <tbody>\n",
              "    <tr>\n",
              "      <th>0</th>\n",
              "      <td>25.540</td>\n",
              "      <td>1.0</td>\n",
              "      <td>101.396</td>\n",
              "      <td>61.080</td>\n",
              "      <td>87.770</td>\n",
              "      <td>1.0</td>\n",
              "      <td>Person Slipped/Tripped/Prediction of Fall</td>\n",
              "    </tr>\n",
              "    <tr>\n",
              "      <th>1</th>\n",
              "      <td>2.595</td>\n",
              "      <td>2.0</td>\n",
              "      <td>110.190</td>\n",
              "      <td>20.207</td>\n",
              "      <td>65.190</td>\n",
              "      <td>1.0</td>\n",
              "      <td>Definite Fall</td>\n",
              "    </tr>\n",
              "    <tr>\n",
              "      <th>2</th>\n",
              "      <td>68.067</td>\n",
              "      <td>0.0</td>\n",
              "      <td>87.412</td>\n",
              "      <td>79.345</td>\n",
              "      <td>99.345</td>\n",
              "      <td>0.0</td>\n",
              "      <td>No Fall Detected</td>\n",
              "    </tr>\n",
              "    <tr>\n",
              "      <th>3</th>\n",
              "      <td>13.090</td>\n",
              "      <td>1.0</td>\n",
              "      <td>92.266</td>\n",
              "      <td>36.180</td>\n",
              "      <td>81.545</td>\n",
              "      <td>1.0</td>\n",
              "      <td>Person Slipped/Tripped/Prediction of Fall</td>\n",
              "    </tr>\n",
              "    <tr>\n",
              "      <th>4</th>\n",
              "      <td>69.430</td>\n",
              "      <td>0.0</td>\n",
              "      <td>89.480</td>\n",
              "      <td>80.000</td>\n",
              "      <td>99.990</td>\n",
              "      <td>0.0</td>\n",
              "      <td>No Fall Detected</td>\n",
              "    </tr>\n",
              "    <tr>\n",
              "      <th>...</th>\n",
              "      <td>...</td>\n",
              "      <td>...</td>\n",
              "      <td>...</td>\n",
              "      <td>...</td>\n",
              "      <td>...</td>\n",
              "      <td>...</td>\n",
              "      <td>...</td>\n",
              "    </tr>\n",
              "    <tr>\n",
              "      <th>2034</th>\n",
              "      <td>5.655</td>\n",
              "      <td>2.0</td>\n",
              "      <td>116.310</td>\n",
              "      <td>162.242</td>\n",
              "      <td>71.310</td>\n",
              "      <td>1.0</td>\n",
              "      <td>Definite Fall</td>\n",
              "    </tr>\n",
              "    <tr>\n",
              "      <th>2035</th>\n",
              "      <td>9.660</td>\n",
              "      <td>2.0</td>\n",
              "      <td>124.320</td>\n",
              "      <td>177.995</td>\n",
              "      <td>79.320</td>\n",
              "      <td>1.0</td>\n",
              "      <td>Definite Fall</td>\n",
              "    </tr>\n",
              "    <tr>\n",
              "      <th>2036</th>\n",
              "      <td>15.220</td>\n",
              "      <td>1.0</td>\n",
              "      <td>93.828</td>\n",
              "      <td>40.440</td>\n",
              "      <td>82.610</td>\n",
              "      <td>1.0</td>\n",
              "      <td>Person Slipped/Tripped/Prediction of Fall</td>\n",
              "    </tr>\n",
              "    <tr>\n",
              "      <th>2037</th>\n",
              "      <td>9.120</td>\n",
              "      <td>2.0</td>\n",
              "      <td>123.240</td>\n",
              "      <td>175.871</td>\n",
              "      <td>78.240</td>\n",
              "      <td>1.0</td>\n",
              "      <td>Definite Fall</td>\n",
              "    </tr>\n",
              "    <tr>\n",
              "      <th>2038</th>\n",
              "      <td>62.441</td>\n",
              "      <td>0.0</td>\n",
              "      <td>78.876</td>\n",
              "      <td>76.435</td>\n",
              "      <td>96.435</td>\n",
              "      <td>0.0</td>\n",
              "      <td>No Fall Detected</td>\n",
              "    </tr>\n",
              "  </tbody>\n",
              "</table>\n",
              "<p>2039 rows × 7 columns</p>\n",
              "</div>\n",
              "      <button class=\"colab-df-convert\" onclick=\"convertToInteractive('df-c6beb62d-ebab-4fe0-9f2a-1f45ff96c84d')\"\n",
              "              title=\"Convert this dataframe to an interactive table.\"\n",
              "              style=\"display:none;\">\n",
              "        \n",
              "  <svg xmlns=\"http://www.w3.org/2000/svg\" height=\"24px\"viewBox=\"0 0 24 24\"\n",
              "       width=\"24px\">\n",
              "    <path d=\"M0 0h24v24H0V0z\" fill=\"none\"/>\n",
              "    <path d=\"M18.56 5.44l.94 2.06.94-2.06 2.06-.94-2.06-.94-.94-2.06-.94 2.06-2.06.94zm-11 1L8.5 8.5l.94-2.06 2.06-.94-2.06-.94L8.5 2.5l-.94 2.06-2.06.94zm10 10l.94 2.06.94-2.06 2.06-.94-2.06-.94-.94-2.06-.94 2.06-2.06.94z\"/><path d=\"M17.41 7.96l-1.37-1.37c-.4-.4-.92-.59-1.43-.59-.52 0-1.04.2-1.43.59L10.3 9.45l-7.72 7.72c-.78.78-.78 2.05 0 2.83L4 21.41c.39.39.9.59 1.41.59.51 0 1.02-.2 1.41-.59l7.78-7.78 2.81-2.81c.8-.78.8-2.07 0-2.86zM5.41 20L4 18.59l7.72-7.72 1.47 1.35L5.41 20z\"/>\n",
              "  </svg>\n",
              "      </button>\n",
              "      \n",
              "  <style>\n",
              "    .colab-df-container {\n",
              "      display:flex;\n",
              "      flex-wrap:wrap;\n",
              "      gap: 12px;\n",
              "    }\n",
              "\n",
              "    .colab-df-convert {\n",
              "      background-color: #E8F0FE;\n",
              "      border: none;\n",
              "      border-radius: 50%;\n",
              "      cursor: pointer;\n",
              "      display: none;\n",
              "      fill: #1967D2;\n",
              "      height: 32px;\n",
              "      padding: 0 0 0 0;\n",
              "      width: 32px;\n",
              "    }\n",
              "\n",
              "    .colab-df-convert:hover {\n",
              "      background-color: #E2EBFA;\n",
              "      box-shadow: 0px 1px 2px rgba(60, 64, 67, 0.3), 0px 1px 3px 1px rgba(60, 64, 67, 0.15);\n",
              "      fill: #174EA6;\n",
              "    }\n",
              "\n",
              "    [theme=dark] .colab-df-convert {\n",
              "      background-color: #3B4455;\n",
              "      fill: #D2E3FC;\n",
              "    }\n",
              "\n",
              "    [theme=dark] .colab-df-convert:hover {\n",
              "      background-color: #434B5C;\n",
              "      box-shadow: 0px 1px 3px 1px rgba(0, 0, 0, 0.15);\n",
              "      filter: drop-shadow(0px 1px 2px rgba(0, 0, 0, 0.3));\n",
              "      fill: #FFFFFF;\n",
              "    }\n",
              "  </style>\n",
              "\n",
              "      <script>\n",
              "        const buttonEl =\n",
              "          document.querySelector('#df-c6beb62d-ebab-4fe0-9f2a-1f45ff96c84d button.colab-df-convert');\n",
              "        buttonEl.style.display =\n",
              "          google.colab.kernel.accessAllowed ? 'block' : 'none';\n",
              "\n",
              "        async function convertToInteractive(key) {\n",
              "          const element = document.querySelector('#df-c6beb62d-ebab-4fe0-9f2a-1f45ff96c84d');\n",
              "          const dataTable =\n",
              "            await google.colab.kernel.invokeFunction('convertToInteractive',\n",
              "                                                     [key], {});\n",
              "          if (!dataTable) return;\n",
              "\n",
              "          const docLinkHtml = 'Like what you see? Visit the ' +\n",
              "            '<a target=\"_blank\" href=https://colab.research.google.com/notebooks/data_table.ipynb>data table notebook</a>'\n",
              "            + ' to learn more about interactive tables.';\n",
              "          element.innerHTML = '';\n",
              "          dataTable['output_type'] = 'display_data';\n",
              "          await google.colab.output.renderOutput(dataTable, element);\n",
              "          const docLink = document.createElement('div');\n",
              "          docLink.innerHTML = docLinkHtml;\n",
              "          element.appendChild(docLink);\n",
              "        }\n",
              "      </script>\n",
              "    </div>\n",
              "  </div>\n",
              "  "
            ]
          },
          "metadata": {},
          "execution_count": 7
        }
      ]
    },
    {
      "cell_type": "code",
      "source": [
        "px.scatter(data, x='Sugar level', y='SpO2', color='Decision ')"
      ],
      "metadata": {
        "colab": {
          "base_uri": "https://localhost:8080/",
          "height": 542
        },
        "id": "CsP_EHM3ehNG",
        "outputId": "2369105b-5d9c-4560-ef6e-00a050536206"
      },
      "execution_count": 8,
      "outputs": [
        {
          "output_type": "display_data",
          "data": {
            "text/html": [
              "<html>\n",
              "<head><meta charset=\"utf-8\" /></head>\n",
              "<body>\n",
              "    <div>            <script src=\"https://cdnjs.cloudflare.com/ajax/libs/mathjax/2.7.5/MathJax.js?config=TeX-AMS-MML_SVG\"></script><script type=\"text/javascript\">if (window.MathJax) {MathJax.Hub.Config({SVG: {font: \"STIX-Web\"}});}</script>                <script type=\"text/javascript\">window.PlotlyConfig = {MathJaxConfig: 'local'};</script>\n",
              "        <script src=\"https://cdn.plot.ly/plotly-2.8.3.min.js\"></script>                <div id=\"0e5d0fb4-aa36-45d4-bfce-4c4486d3217d\" class=\"plotly-graph-div\" style=\"height:525px; width:100%;\"></div>            <script type=\"text/javascript\">                                    window.PLOTLYENV=window.PLOTLYENV || {};                                    if (document.getElementById(\"0e5d0fb4-aa36-45d4-bfce-4c4486d3217d\")) {                    Plotly.newPlot(                        \"0e5d0fb4-aa36-45d4-bfce-4c4486d3217d\",                        [{\"hovertemplate\":\"Decision =Person Slipped/Tripped/Prediction of Fall<br>Sugar level=%{x}<br>SpO2=%{y}<extra></extra>\",\"legendgroup\":\"Person Slipped/Tripped/Prediction of Fall\",\"marker\":{\"color\":\"#636efa\",\"symbol\":\"circle\"},\"mode\":\"markers\",\"name\":\"Person Slipped/Tripped/Prediction of Fall\",\"showlegend\":true,\"x\":[61.08,36.18,64.32,56.34,59.16,57.96,63.72,47.34,47.52,65.16,32.58,66.3,65.46,56.4,63.48,36.3,59.1,47.58,33.0,61.02,59.52,65.1,54.48,65.22,51.66,65.94,64.5,48.54,34.02,57.0,43.56,40.68,67.26,64.38,52.86,45.66,67.44,69.24,32.28,69.96,41.94,39.78,48.48,30.0,50.82,35.7,39.9,34.32,61.68,69.96,60.24,35.52,42.54,39.6,49.5,37.38,45.9,52.74,68.94,32.16,63.96,54.42,30.84,50.46,34.68,39.66,36.54,49.98,47.46,31.98,39.06,44.64,46.44,50.88,57.18,42.84,59.04,33.96,33.72,53.22,41.22,37.68,35.76,63.18,36.0,69.78,69.96,34.98,30.42,49.14,54.24,62.16,63.42,50.34,35.22,52.68,30.48,44.34,37.92,43.5,69.96,57.42,58.08,51.0,38.1,31.32,62.82,62.52,30.72,68.82,42.36,54.66,39.48,54.54,35.82,37.98,51.9,54.36,64.86,43.74,51.36,47.22,43.86,57.24,46.14,50.94,32.1,54.3,69.96,55.68,43.32,58.32,37.14,48.42,42.48,54.78,44.82,34.44,68.34,61.62,38.28,69.96,42.96,50.7,32.7,60.42,33.54,31.8,68.64,57.66,59.82,69.6,56.64,31.44,55.32,52.02,52.14,44.1,47.88,50.22,43.68,31.86,53.52,49.68,63.36,37.02,31.08,43.2,57.36,62.7,58.38,44.28,46.68,62.04,66.96,54.72,35.04,59.28,68.04,51.24,67.14,62.46,38.88,48.6,34.8,32.52,49.44,52.92,53.88,49.2,58.98,49.32,46.74,37.86,49.02,55.92,51.96,65.52,55.14,54.84,49.26,55.02,39.54,32.82,69.96,65.88,64.14,56.22,56.1,68.52,57.06,48.78,41.28,59.46,41.1,69.96,59.64,67.92,67.98,33.06,41.04,33.3,38.52,48.12,39.36,42.18,62.64,60.66,41.7,46.2,58.62,55.8,38.58,45.18,49.56,40.62,64.98,46.02,53.46,49.86,59.4,53.76,41.34,57.72,49.8,58.86,61.56,32.88,35.94,42.24,66.24,61.44,41.16,65.04,31.92,65.76,57.9,63.6,65.34,61.38,39.96,50.58,57.6,64.44,58.68,36.36,63.3,34.26,61.26,69.36,40.8,43.8,38.22,30.24,53.94,38.94,55.08,38.46,66.48,35.34,56.04,58.02,47.76,48.3,56.46,40.38,54.06,47.04,30.78,63.12,31.68,69.18,68.1,39.42,69.48,37.32,64.56,36.84,45.78,68.4,50.28,45.06,37.5,30.3,33.78,69.96,69.54,42.3,69.96,36.72,66.9,48.0,51.12,51.6,63.0,56.82,39.24,41.82,60.96,65.4,46.38,53.58,59.76,41.46,48.9,62.34,54.18,56.16,43.26,57.84,34.2,45.42,58.2,37.8,44.76,42.12,41.52,57.54,51.54,67.5,49.74,69.84,34.62,67.86,34.38,40.02,54.9,39.84,52.32,36.12,66.06,54.6,69.06,48.96,34.14,50.64,33.12,48.36,49.92,67.8,60.18,30.54,32.64,40.92,42.0,50.4,33.9,48.06,42.66,64.92,36.24,52.08,60.12,69.72,61.98,31.62,39.3,32.94,57.48,52.2,30.6,31.14,36.96,44.4,58.74,64.62,49.38,55.98,60.36,31.26,66.0,46.32,44.58,66.66,69.3,60.6,59.34,45.12,48.72,45.3,43.14,35.1,53.34,37.44,55.56,40.56,66.6,55.86,67.68,63.06,65.58,56.52,34.5,63.24,35.88,53.28,68.16,32.34,46.08,36.78,33.84,45.96,58.8,68.22,62.88,43.02,33.66,51.18,66.84,66.36,59.22,40.2,40.98,63.54,30.12,46.26,44.94,53.4,51.78,44.52,31.74,60.06,62.1,46.62,64.02,69.9,43.62,62.22,62.76,59.88,45.6,32.22,47.16,65.28,52.26,30.36,47.94,64.26,66.72,55.38,69.96,35.16,34.56,34.08,47.1,31.38,40.14,52.98,38.64,36.66,69.96,44.46,67.2,51.42,53.1,48.84,33.24,38.34,69.96,35.46,58.44,35.28,46.92,61.32,30.06,36.42,30.66,34.92,58.92,37.74,33.6,55.26,34.74,35.4,52.8,64.08,40.26,58.26,40.5,63.84,55.5,39.72,45.48,60.3,52.5,55.62,40.32,61.5,65.82,52.44,67.38,32.76,42.9,61.86,50.16,56.76,57.78,67.62,45.24,60.48,47.7,36.06,53.16,37.62,41.4,39.12,48.66,46.56,68.58,50.52,64.8,61.74,46.8,47.28,56.58,30.96,62.94,68.76,41.88,58.56,69.96,45.84,65.64,56.7,43.92,44.16,57.3,50.76,59.7,66.78,37.56,52.56,62.28,67.32,59.94,64.68,51.84,51.72,44.88,55.44,33.48,69.0,35.64,30.9,47.4,54.0,68.7,66.54,41.58,38.04,41.76,42.72,35.58,63.9,37.2,60.78,38.4,53.82,62.58,60.84,58.5,42.6,37.26,31.5,66.42,57.12,51.48,47.64,45.72,53.64,36.6,60.0,32.4,67.56,68.88,69.96,33.36,32.46,39.18,55.2,43.98,41.64,65.7,32.04,50.04,44.04,33.42,50.1,31.2,38.16,47.82,37.08,67.08,69.66,38.7,49.08,56.94,52.38,34.86,58.14,66.12,59.58,63.78,42.78,36.48,56.28,33.18,60.54,43.44,45.54,31.02,40.08,66.18,45.36,56.88,38.76,67.02,69.42,44.22,39.0,42.42,51.06,38.82,64.74,46.98,61.92,55.74,61.2,49.62,53.7,61.14,40.86,63.66,30.18,54.96,40.74,68.28,54.12,62.4,43.08,46.86,69.12,42.06,48.18,52.62,67.74,43.38,36.9,60.72,46.5,61.8,53.04,60.9,44.7,51.3,48.24,68.46,31.56,45.0,69.96,64.2,40.44],\"xaxis\":\"x\",\"y\":[87.77,81.545,88.58,86.585,87.29,86.99,88.43,84.335,84.38,88.79,80.645,89.075,88.865,86.6,88.37,81.575,87.275,84.395,80.75,87.755,87.38,88.775,86.12,88.805,85.415,88.985,88.625,84.635,81.005,86.75,83.39,82.67,89.315,88.595,85.715,83.915,89.36,89.81,80.57,89.99,82.985,82.445,84.62,80.0,85.205,81.425,82.475,81.08,87.92,89.99,87.56,81.38,83.135,82.4,84.875,81.845,83.975,85.685,89.735,80.54,88.49,86.105,80.21,85.115,81.17,82.415,81.635,84.995,84.365,80.495,82.265,83.66,84.11,85.22,86.795,83.21,87.26,80.99,80.93,85.805,82.805,81.92,81.44,88.295,81.5,89.945,89.99,81.245,80.105,84.785,86.06,88.04,88.355,85.085,81.305,85.67,80.12,83.585,81.98,83.375,89.99,86.855,87.02,85.25,82.025,80.33,88.205,88.13,80.18,89.705,83.09,86.165,82.37,86.135,81.455,81.995,85.475,86.09,88.715,83.435,85.34,84.305,83.465,86.81,84.035,85.235,80.525,86.075,89.99,86.42,83.33,87.08,81.785,84.605,83.12,86.195,83.705,81.11,89.585,87.905,82.07,89.99,83.24,85.175,80.675,87.605,80.885,80.45,89.66,86.915,87.455,89.9,86.66,80.36,86.33,85.505,85.535,83.525,84.47,85.055,83.42,80.465,85.88,84.92,88.34,81.755,80.27,83.3,86.84,88.175,87.095,83.57,84.17,88.01,89.24,86.18,81.26,87.32,89.51,85.31,89.285,88.115,82.22,84.65,81.2,80.63,84.86,85.73,85.97,84.8,87.245,84.83,84.185,81.965,84.755,86.48,85.49,88.88,86.285,86.21,84.815,86.255,82.385,80.705,89.99,88.97,88.535,86.555,86.525,89.63,86.765,84.695,82.82,87.365,82.775,89.99,87.41,89.48,89.495,80.765,82.76,80.825,82.13,84.53,82.34,83.045,88.16,87.665,82.925,84.05,87.155,86.45,82.145,83.795,84.89,82.655,88.745,84.005,85.865,84.965,87.35,85.94,82.835,86.93,84.95,87.215,87.89,80.72,81.485,83.06,89.06,87.86,82.79,88.76,80.48,88.94,86.975,88.4,88.835,87.845,82.49,85.145,86.9,88.61,87.17,81.59,88.325,81.065,87.815,89.84,82.7,83.45,82.055,80.06,85.985,82.235,86.27,82.115,89.12,81.335,86.51,87.005,84.44,84.575,86.615,82.595,86.015,84.26,80.195,88.28,80.42,89.795,89.525,82.355,89.87,81.83,88.64,81.71,83.945,89.6,85.07,83.765,81.875,80.075,80.945,89.99,89.885,83.075,89.99,81.68,89.225,84.5,85.28,85.4,88.25,86.705,82.31,82.955,87.74,88.85,84.095,85.895,87.44,82.865,84.725,88.085,86.045,86.54,83.315,86.96,81.05,83.855,87.05,81.95,83.69,83.03,82.88,86.885,85.385,89.375,84.935,89.96,81.155,89.465,81.095,82.505,86.225,82.46,85.58,81.53,89.015,86.15,89.765,84.74,81.035,85.16,80.78,84.59,84.98,89.45,87.545,80.135,80.66,82.73,83.0,85.1,80.975,84.515,83.165,88.73,81.56,85.52,87.53,89.93,87.995,80.405,82.325,80.735,86.87,85.55,80.15,80.285,81.74,83.6,87.185,88.655,84.845,86.495,87.59,80.315,89.0,84.08,83.645,89.165,89.825,87.65,87.335,83.78,84.68,83.825,83.285,81.275,85.835,81.86,86.39,82.64,89.15,86.465,89.42,88.265,88.895,86.63,81.125,88.31,81.47,85.82,89.54,80.585,84.02,81.695,80.96,83.99,87.2,89.555,88.22,83.255,80.915,85.295,89.21,89.09,87.305,82.55,82.745,88.385,80.03,84.065,83.735,85.85,85.445,83.63,80.435,87.515,88.025,84.155,88.505,89.975,83.405,88.055,88.19,87.47,83.9,80.555,84.29,88.82,85.565,80.09,84.485,88.565,89.18,86.345,89.99,81.29,81.14,81.02,84.275,80.345,82.535,85.745,82.16,81.665,89.99,83.615,89.3,85.355,85.775,84.71,80.81,82.085,89.99,81.365,87.11,81.32,84.23,87.83,80.015,81.605,80.165,81.23,87.23,81.935,80.9,86.315,81.185,81.35,85.7,88.52,82.565,87.065,82.625,88.46,86.375,82.43,83.87,87.575,85.625,86.405,82.58,87.875,88.955,85.61,89.345,80.69,83.225,87.965,85.04,86.69,86.945,89.405,83.81,87.62,84.425,81.515,85.79,81.905,82.85,82.28,84.665,84.14,89.645,85.13,88.7,87.935,84.2,84.32,86.645,80.24,88.235,89.69,82.97,87.14,89.99,83.96,88.91,86.675,83.48,83.54,86.825,85.19,87.425,89.195,81.89,85.64,88.07,89.33,87.485,88.67,85.46,85.43,83.72,86.36,80.87,89.75,81.41,80.225,84.35,86.0,89.675,89.135,82.895,82.01,82.94,83.18,81.395,88.475,81.8,87.695,82.1,85.955,88.145,87.71,87.125,83.15,81.815,80.375,89.105,86.78,85.37,84.41,83.93,85.91,81.65,87.5,80.6,89.39,89.72,89.99,80.84,80.615,82.295,86.3,83.495,82.91,88.925,80.51,85.01,83.51,80.855,85.025,80.3,82.04,84.455,81.77,89.27,89.915,82.175,84.77,86.735,85.595,81.215,87.035,89.03,87.395,88.445,83.195,81.62,86.57,80.795,87.635,83.36,83.885,80.255,82.52,89.045,83.84,86.72,82.19,89.255,89.855,83.555,82.25,83.105,85.265,82.205,88.685,84.245,87.98,86.435,87.8,84.905,85.925,87.785,82.715,88.415,80.045,86.24,82.685,89.57,86.03,88.1,83.27,84.215,89.78,83.015,84.545,85.655,89.435,83.345,81.725,87.68,84.125,87.95,85.76,87.725,83.675,85.325,84.56,89.615,80.39,83.75,89.99,88.55,82.61],\"yaxis\":\"y\",\"type\":\"scattergl\"},{\"hovertemplate\":\"Decision =Definite Fall<br>Sugar level=%{x}<br>SpO2=%{y}<extra></extra>\",\"legendgroup\":\"Definite Fall\",\"marker\":{\"color\":\"#EF553B\",\"symbol\":\"circle\"},\"mode\":\"markers\",\"name\":\"Definite Fall\",\"showlegend\":true,\"x\":[20.207,21.151,27.169,174.337,163.009,19.558,28.821,168.26,13.068,12.124,166.844,174.455,28.349,15.487,167.434,12.95,161.593,24.809,24.396,172.272,167.847,163.658,24.101,18.968,167.316,22.685,16.549,169.617,160.59,164.602,25.517,18.791,174.219,172.921,173.452,176.697,12.006,177.464,165.251,28.408,168.142,22.331,170.974,26.343,12.478,163.54,173.806,169.44,160.708,174.75,27.464,172.862,165.605,27.7,171.8,10.767,14.72,173.039,175.163,10.177,175.399,28.231,160.413,27.936,17.67,163.127,177.759,22.803,168.614,14.425,26.933,164.956,176.284,173.629,162.301,25.93,24.986,19.499,15.428,167.611,168.083,168.496,167.198,29.47,162.006,17.847,178.526,10.944,165.31,29.942,10.236,12.832,20.797,23.629,21.092,19.145,167.493,28.585,177.641,13.422,29.824,174.868,16.844,167.08,29.293,172.685,166.785,166.431,27.818,16.195,25.045,28.762,172.803,173.157,23.039,25.576,173.334,168.732,171.387,174.514,10.295,170.915,168.319,11.239,160.885,177.287,161.711,171.623,162.596,179.116,10.059,177.11,169.912,16.49,14.13,20.03,163.068,11.829,169.204,168.85,18.909,176.874,169.676,19.912,29.057,162.537,173.747,14.189,19.971,173.098,12.301,19.853,21.623,15.015,12.065,178.762,16.254,160.177,25.635,176.107,170.089,12.419,22.921,168.673,26.874,178.408,12.891,18.496,10.649,166.549,162.95,171.682,163.304,20.148,29.234,21.21,172.331,169.263,28.644,25.222,162.419,15.369,23.275,163.835,20.974,162.832,20.384,169.145,162.773,11.888,161.416,161.888,160.295,174.042,16.667,16.962,22.744,161.947,23.452,170.325,165.664,25.399,178.939,11.475,164.838,160.531,13.835,166.195,164.425,19.617,164.779,167.67,165.074,164.248,13.717,171.741,23.57,169.971,177.346,168.201,25.104,25.163,173.983,169.735,18.201,27.759,27.11,13.186,24.042,19.381,14.661,172.508,164.012,15.959,12.655,13.363,16.077,173.393,169.794,18.319,13.245,171.092,174.691,13.953,18.024,170.561,162.714,170.679,176.52,178.88,27.641,26.815,178.998,168.437,168.909,177.877,20.856,28.526,11.298,11.003,172.036,165.723,171.21,19.204,175.34,23.511,166.077,10.472,171.151,176.579,15.192,172.095,178.054,29.588,14.012,16.726,14.602,20.502,170.207,16.903,167.788,28.172,29.352,26.52,14.897,26.284,15.074,171.977,175.045,25.281,168.024,175.104,26.638,11.357,12.773,21.328,163.422,20.266,13.127,173.275,22.213,25.871,169.381,18.083,27.051,26.107,25.753,166.018,26.225,161.475,12.183,15.605,160.472,20.561,13.009,160.354,175.989,21.682,171.446,15.546,15.841,167.552,175.93,166.726,26.461,28.113,25.694,24.219,176.402,22.095,172.626,170.797,17.139,14.838,23.806,160.649,20.325,23.216,21.505,21.859,178.29,177.405,173.688,15.251,172.39,164.72,10.118,23.393,11.652,21.446,19.086,24.514,170.443,20.738,10.826,13.54,15.9,170.148,29.765,176.933,177.7,168.555,169.499,174.278,23.688,14.366,18.85,167.257,13.304,163.717,17.611,24.455,175.694,16.018,23.865,27.877,27.523,19.735,169.853,17.257,24.927,23.157,11.121,175.635,179.057,10.354,19.027,170.502,176.815,163.363,24.16,177.169,171.033,161.298,22.449,13.894,164.543,28.703,27.346,27.405,178.585,26.756,178.644,29.647,28.29,22.272,164.071,15.664,22.39,177.523,24.632,24.868,175.576,162.478,22.154,22.567,27.287,14.484,21.387,165.959,21.564,15.31,20.089,176.638,25.34,162.36,26.579,17.021,166.608,23.334,172.744,28.939,17.552,17.729,163.953,19.322,170.738,19.44,29.116,17.316,175.458,16.372,166.254,178.703,21.269,12.714,11.947,162.891,172.98,163.894,12.596,170.62,167.021,165.428,165.369,178.821,17.906,172.213,162.655,172.567,160.944,29.883,166.667,20.62,161.18,11.18,17.965,166.903,173.216,16.313,174.986,160.236,171.564,166.962,165.133,18.142,167.965,165.487,171.505,26.402,28.467,160.118,23.747,23.098,23.924,17.434,163.776,163.599,11.416,26.992,164.307,177.228,11.062,165.782,14.307,176.048,18.673,175.753,167.906,12.242,165.546,21.918,161.534,164.484,172.449,161.062,176.225,22.626,175.517,169.086,29.706,27.228,165.192,174.809,27.995,174.632,176.461,161.239,13.599,177.582,13.776,20.679,161.829,165.015,17.08,29.175,174.573,24.573,12.537,24.278,160.059,171.269,28.998,27.582,164.366,24.75,168.791,14.779,170.03,174.927,178.113,15.782,164.189,176.756,162.124,24.337,176.343,175.281,21.741,20.443,161.121,167.139,15.723,166.313,13.481,11.711,28.88,166.49,12.36,21.033,25.812,160.0,25.989,10.708,167.375,163.481,29.411,161.357,170.266,160.826,162.183,28.054,14.248,164.661,171.859,16.608,172.154,26.697,164.897,171.328,173.57,16.136,161.77,22.862,176.992,25.458,168.378,178.467,169.322,10.59,166.372,178.231,11.77,23.983,175.222,171.918,19.794,162.065,10.0,26.048,26.166,177.051,174.396,163.186,13.658,165.841,169.027,168.968,14.071,18.614,14.956,11.593,17.198,20.915,21.8,169.558,16.431,10.413,176.166,161.003,174.101,177.936,17.375,19.263,173.865,22.98,178.172,179.293,174.16,19.676,173.511,10.885,173.924,161.652,18.437,10.531,175.812,18.26,24.691,178.349,17.493,22.508,163.245,11.534,18.378,18.555,165.9,160.767,21.977,17.788,177.818,15.133,179.234,29.529,170.384,179.175,164.13,170.856,166.136,18.732,16.785,14.543,167.729,22.036,162.242,177.995,175.871],\"xaxis\":\"x\",\"y\":[65.19,65.67,68.73,77.46,71.7,64.86,69.57,74.37,61.56,61.08,73.65,77.52,69.33,62.79,73.95,61.5,70.98,67.53,67.32,76.41,74.16,72.03,67.17,64.56,73.89,66.45,63.33,75.06,70.47,72.51,67.89,64.47,77.4,76.74,77.01,78.66,61.02,79.05,72.84,69.36,74.31,66.27,75.75,68.31,61.26,71.97,77.19,74.97,70.53,77.67,68.88,76.71,73.02,69.0,76.17,60.39,62.4,76.8,77.88,60.09,78.0,69.27,70.38,69.12,63.9,71.76,79.2,66.51,74.55,62.25,68.61,72.69,78.45,77.1,71.34,68.1,67.62,64.83,62.76,74.04,74.28,74.49,73.83,69.9,71.19,63.99,79.59,60.48,72.87,70.14,60.12,61.44,65.49,66.93,65.64,64.65,73.98,69.45,79.14,61.74,70.08,77.73,63.48,73.77,69.81,76.62,73.62,73.44,69.06,63.15,67.65,69.54,76.68,76.86,66.63,67.92,76.95,74.61,75.96,77.55,60.15,75.72,74.4,60.63,70.62,78.96,71.04,76.08,71.49,79.89,60.03,78.87,75.21,63.3,62.1,65.1,71.73,60.93,74.85,74.67,64.53,78.75,75.09,65.04,69.69,71.46,77.16,62.13,65.07,76.83,61.17,65.01,65.91,62.55,61.05,79.71,63.18,70.26,67.95,78.36,75.3,61.23,66.57,74.58,68.58,79.53,61.47,64.32,60.33,73.5,71.67,76.11,71.85,65.16,69.78,65.7,76.44,74.88,69.48,67.74,71.4,62.73,66.75,72.12,65.58,71.61,65.28,74.82,71.58,60.96,70.89,71.13,70.32,77.31,63.39,63.54,66.48,71.16,66.84,75.42,73.05,67.83,79.8,60.75,72.63,70.44,61.95,73.32,72.42,64.89,72.6,74.07,72.75,72.33,61.89,76.14,66.9,75.24,78.99,74.34,67.68,67.71,77.28,75.12,64.17,69.03,68.7,61.62,67.14,64.77,62.37,76.53,72.21,63.03,61.35,61.71,63.09,76.98,75.15,64.23,61.65,75.81,77.64,62.01,64.08,75.54,71.55,75.6,78.57,79.77,68.97,68.55,79.83,74.46,74.7,79.26,65.52,69.42,60.66,60.51,76.29,73.08,75.87,64.68,77.97,66.87,73.26,60.24,75.84,78.6,62.64,76.32,79.35,69.96,62.04,63.42,62.34,65.34,75.36,63.51,74.13,69.24,69.84,68.4,62.49,68.28,62.58,76.26,77.82,67.77,74.25,77.85,68.46,60.69,61.41,65.76,71.91,65.22,61.59,76.92,66.21,68.07,74.94,64.11,68.67,68.19,68.01,73.23,68.25,70.92,61.11,62.85,70.41,65.37,61.53,70.35,78.3,65.94,75.99,62.82,62.97,74.01,78.27,73.59,68.37,69.21,67.98,67.23,78.51,66.15,76.59,75.66,63.63,62.46,67.02,70.5,65.25,66.72,65.85,66.03,79.47,79.02,77.13,62.67,76.47,72.57,60.06,66.81,60.84,65.82,64.62,67.38,75.48,65.46,60.42,61.8,63.0,75.33,70.05,78.78,79.17,74.52,75.0,77.43,66.96,62.22,64.5,73.86,61.68,72.06,63.87,67.35,78.15,63.06,67.05,69.09,68.91,64.95,75.18,63.69,67.59,66.69,60.57,78.12,79.86,60.18,64.59,75.51,78.72,71.88,67.2,78.9,75.78,70.83,66.33,61.98,72.48,69.51,68.82,68.85,79.62,68.52,79.65,69.99,69.3,66.24,72.24,62.88,66.3,79.08,67.44,67.56,78.09,71.43,66.18,66.39,68.79,62.28,65.79,73.2,65.88,62.7,65.13,78.63,67.8,71.37,68.43,63.57,73.53,66.78,76.65,69.63,63.84,63.93,72.18,64.74,75.63,64.8,69.72,63.72,78.03,63.24,73.35,79.68,65.73,61.38,60.99,71.64,76.77,72.15,61.32,75.57,73.74,72.93,72.9,79.74,64.02,76.38,71.52,76.56,70.65,70.11,73.56,65.4,70.77,60.6,64.05,73.68,76.89,63.21,77.79,70.29,76.05,73.71,72.78,64.14,74.22,72.96,76.02,68.34,69.39,70.23,66.99,66.66,67.08,63.78,72.09,72.0,60.72,68.64,72.36,78.93,60.54,73.11,62.19,78.33,64.41,78.18,74.19,61.14,72.99,66.06,70.95,72.45,76.5,70.71,78.42,66.42,78.06,74.79,70.02,68.76,72.81,77.7,69.15,77.61,78.54,70.8,61.83,79.11,61.92,65.43,71.1,72.72,63.6,69.75,77.58,67.41,61.29,67.26,70.2,75.9,69.66,68.94,72.39,67.5,74.64,62.43,75.27,77.76,79.38,62.94,72.3,78.69,71.25,67.29,78.48,77.94,65.97,65.31,70.74,73.8,62.91,73.38,61.77,60.87,69.6,73.47,61.2,65.61,68.04,70.17,68.13,60.36,73.92,71.94,69.87,70.86,75.39,70.59,71.28,69.18,62.16,72.54,76.2,63.36,76.35,68.49,72.66,75.93,77.07,63.12,71.07,66.54,78.81,67.86,74.43,79.56,74.91,60.3,73.41,79.44,60.9,67.11,77.91,76.23,64.98,71.22,60.0,68.16,68.22,78.84,77.49,71.79,61.86,73.14,74.76,74.73,62.07,64.38,62.52,60.81,63.66,65.55,66.0,75.03,63.27,60.21,78.39,70.68,77.34,79.29,63.75,64.71,77.22,66.6,79.41,79.98,77.37,64.92,77.04,60.45,77.25,71.01,64.29,60.27,78.21,64.2,67.47,79.5,63.81,66.36,71.82,60.78,64.26,64.35,73.17,70.56,66.09,63.96,79.23,62.61,79.95,69.93,75.45,79.92,72.27,75.69,73.29,64.44,63.45,62.31,74.1,66.12,71.31,79.32,78.24],\"yaxis\":\"y\",\"type\":\"scattergl\"},{\"hovertemplate\":\"Decision =No Fall Detected<br>Sugar level=%{x}<br>SpO2=%{y}<extra></extra>\",\"legendgroup\":\"No Fall Detected\",\"marker\":{\"color\":\"#00cc96\",\"symbol\":\"circle\"},\"mode\":\"markers\",\"name\":\"No Fall Detected\",\"showlegend\":true,\"x\":[79.345,80.0,73.69,78.46,75.37,76.78,74.59,77.305,78.355,77.2,71.635,76.615,77.26,71.56,70.03,76.045,78.31,75.145,78.175,74.17,75.19,71.605,80.0,70.48,78.94,71.695,70.27,79.975,77.41,71.05,77.275,70.84,78.7,71.215,72.475,71.395,75.49,72.94,74.665,74.44,71.875,76.645,72.055,73.6,77.77,79.135,77.92,72.85,73.33,70.105,75.7,71.8,75.685,72.355,74.56,80.0,79.81,77.53,78.505,79.795,75.43,71.755,70.315,80.0,72.235,74.2,74.485,78.745,71.68,70.915,76.495,75.16,78.85,79.0,73.975,75.58,73.945,71.38,76.63,78.145,70.6,78.775,73.045,79.03,75.115,73.375,78.67,70.945,79.825,75.22,75.52,76.99,80.0,79.735,71.035,74.05,72.79,74.38,70.255,73.81,80.0,76.24,71.935,74.02,72.595,70.96,78.715,72.7,73.63,77.425,75.205,74.935,70.69,74.035,71.98,76.81,72.67,74.785,79.045,70.525,72.805,79.075,79.48,74.395,73.48,78.58,79.375,73.885,76.555,72.625,77.725,70.555,79.645,77.485,76.03,78.115,73.015,74.185,78.04,74.62,75.055,75.535,74.005,72.385,77.845,71.14,71.185,72.52,71.425,74.29,78.16,80.0,78.385,71.92,76.72,79.105,75.64,75.235,70.765,79.495,78.955,73.45,72.835,76.525,79.54,70.495,73.39,80.0,70.33,74.92,73.465,78.415,79.6,74.515,71.485,74.095,79.78,71.83,72.34,80.0,70.24,72.505,74.35,73.0,75.595,78.13,70.195,76.96,75.28,75.88,70.54,75.265,75.715,73.225,74.605,72.685,73.795,73.135,75.445,73.42,75.67,74.32,79.99,71.95,70.39,77.545,77.11,75.385,72.31,77.95,71.125,73.915,73.99,71.275,72.43,75.94,77.02,74.845,75.295,73.75,77.56,76.675,70.735,79.96,79.63,72.655,71.35,70.78,78.82,73.255,76.18,70.81,79.42,71.005,70.015,80.0,72.325,70.285,79.855,72.61,79.87,73.03,80.0,70.09,72.865,76.06,71.815,78.34,71.245,76.93,70.345,76.015,73.54,79.885,72.1,78.76,78.55,70.57,72.82,73.855,72.985,71.08,78.49,73.285,76.12,74.14,76.42,76.315,79.435,79.9,70.975,77.935,73.66,76.39,70.51,72.715,78.895,75.955,72.745,80.0,73.27,72.49,74.215,78.925,73.21,79.555,73.405,78.52,78.805,70.9,79.915,72.88,74.08,74.365,72.04,72.265,70.135,71.17,79.57,73.585,77.905,79.24,78.085,74.275,70.06,74.875,73.075,79.465,75.25,78.055,76.885,79.525,78.295,78.025,74.305,70.165,75.61,77.605,70.675,74.245,75.745,77.35,76.765,73.15,72.16,77.65,78.625,73.78,70.225,70.825,71.59,77.065,74.995,71.725,70.3,72.25,79.765,78.535,79.945,71.11,70.075,77.875,70.405,78.985,73.93,79.585,77.755,77.005,77.62,71.455,72.37,74.74,75.325,70.72,71.905,79.18,73.765,79.225,74.065,76.51,78.25,80.0,72.13,72.145,80.0,78.205,77.8,76.84,77.86,76.915,74.71,72.55,74.575,78.19,70.615,74.725,76.975,73.705,73.36,79.705,77.17,77.23,70.18,75.4,77.14,76.075,71.23,76.705,77.08,74.53,70.63,77.155,70.75,75.355,74.65,80.0,77.68,72.64,72.46,76.54,79.36,77.635,73.435,71.29,77.59,71.44,72.97,77.32,70.12,73.72,76.255,74.11,74.755,75.55,72.415,71.155,77.575,80.0,76.87,76.345,79.15,80.0,74.26,74.77,71.545,78.07,70.585,79.33,73.87,76.225,73.555,72.76,74.425,77.965,74.5,74.545,74.23,74.86,76.585,73.825,75.655,71.845,75.175,74.965,71.5,77.44,77.095,72.91,71.89,71.62,79.66,73.24,72.295,73.165,77.395,73.525,70.87,74.8,74.47,76.21,72.175,70.15,77.5,75.85,72.205,77.47,77.785,79.06,75.865,79.015,72.01,76.69,75.025,77.74,78.64,74.125,71.32,77.05,74.335,76.45,74.68,76.405,77.335,76.66,71.65,72.115,77.035,73.96,78.91,71.785,71.515,75.13,75.91,76.135,79.21,73.18,79.69,74.695,79.3,79.315,70.0,75.625,75.805,76.9,78.4,72.19,73.675,78.28,76.09,79.615,70.855,71.74,79.84,77.665,77.815,79.75,78.79,76.0,75.82,71.2,72.565,76.825,79.195,75.895,74.41,72.28,80.0,76.3,71.995,77.515,79.09,71.41,74.455,76.285,75.07,71.71,76.375,71.305,70.045,75.76,77.455,75.415,76.795,72.22,79.93,79.72,78.43,71.335,71.47,74.905,78.865,75.34,75.835,70.645,72.025,78.97,70.45,70.21,78.325,76.165,74.635,78.565,71.53,72.73,80.0,74.155,79.45,73.315,71.095,73.195,78.1,78.445,71.965,79.675,73.735,79.12,78.655,71.575,76.195,79.27,76.57,73.615,80.0,73.3,73.645,75.085,72.535,73.84,72.895,73.105,78.685,78.61,75.565,73.495,76.33,74.89,75.31,78.265,71.665,80.0,74.83,70.36,76.75,79.405,72.445,78.835,71.02,73.06,76.36,75.79,76.945,79.51,73.345,76.105,74.98,77.695,75.505,79.165,76.6,75.475,77.89,70.66,70.705,80.0,78.475,72.58,75.97,76.48,73.09,70.93,72.085,77.29,75.985,71.77,73.9,77.365,80.0,78.88,75.01,78.73,75.775,76.15,74.815,75.04,75.1,79.285,78.37,77.38,76.465,76.855,70.465,77.125,74.95,71.365,72.955,78.01,70.435,79.39,71.065,73.12,70.42,70.375,72.775,76.735,70.885,78.595,79.255,78.235,75.925,77.995,77.98,77.71,72.4,75.73,72.07,77.215,75.46,72.925,71.86,77.245,71.26,70.795,73.51,77.185,70.99,78.22,73.57,77.83,76.27,76.435],\"xaxis\":\"x\",\"y\":[99.345,99.99,93.69,98.46,95.37,96.78,94.59,97.305,98.355,97.2,91.635,96.615,97.26,91.56,90.03,96.045,98.31,95.145,98.175,94.17,95.19,91.605,99.99,90.48,98.94,91.695,90.27,99.975,97.41,91.05,97.275,90.84,98.7,91.215,92.475,91.395,95.49,92.94,94.665,94.44,91.875,96.645,92.055,93.6,97.77,99.135,97.92,92.85,93.33,90.105,95.7,91.8,95.685,92.355,94.56,99.99,99.81,97.53,98.505,99.795,95.43,91.755,90.315,99.99,92.235,94.2,94.485,98.745,91.68,90.915,96.495,95.16,98.85,99.0,93.975,95.58,93.945,91.38,96.63,98.145,90.6,98.775,93.045,99.03,95.115,93.375,98.67,90.945,99.825,95.22,95.52,96.99,99.99,99.735,91.035,94.05,92.79,94.38,90.255,93.81,99.99,96.24,91.935,94.02,92.595,90.96,98.715,92.7,93.63,97.425,95.205,94.935,90.69,94.035,91.98,96.81,92.67,94.785,99.045,90.525,92.805,99.075,99.48,94.395,93.48,98.58,99.375,93.885,96.555,92.625,97.725,90.555,99.645,97.485,96.03,98.115,93.015,94.185,98.04,94.62,95.055,95.535,94.005,92.385,97.845,91.14,91.185,92.52,91.425,94.29,98.16,99.99,98.385,91.92,96.72,99.105,95.64,95.235,90.765,99.495,98.955,93.45,92.835,96.525,99.54,90.495,93.39,99.99,90.33,94.92,93.465,98.415,99.6,94.515,91.485,94.095,99.78,91.83,92.34,99.99,90.24,92.505,94.35,93.0,95.595,98.13,90.195,96.96,95.28,95.88,90.54,95.265,95.715,93.225,94.605,92.685,93.795,93.135,95.445,93.42,95.67,94.32,99.99,91.95,90.39,97.545,97.11,95.385,92.31,97.95,91.125,93.915,93.99,91.275,92.43,95.94,97.02,94.845,95.295,93.75,97.56,96.675,90.735,99.96,99.63,92.655,91.35,90.78,98.82,93.255,96.18,90.81,99.42,91.005,90.015,99.99,92.325,90.285,99.855,92.61,99.87,93.03,99.99,90.09,92.865,96.06,91.815,98.34,91.245,96.93,90.345,96.015,93.54,99.885,92.1,98.76,98.55,90.57,92.82,93.855,92.985,91.08,98.49,93.285,96.12,94.14,96.42,96.315,99.435,99.9,90.975,97.935,93.66,96.39,90.51,92.715,98.895,95.955,92.745,99.99,93.27,92.49,94.215,98.925,93.21,99.555,93.405,98.52,98.805,90.9,99.915,92.88,94.08,94.365,92.04,92.265,90.135,91.17,99.57,93.585,97.905,99.24,98.085,94.275,90.06,94.875,93.075,99.465,95.25,98.055,96.885,99.525,98.295,98.025,94.305,90.165,95.61,97.605,90.675,94.245,95.745,97.35,96.765,93.15,92.16,97.65,98.625,93.78,90.225,90.825,91.59,97.065,94.995,91.725,90.3,92.25,99.765,98.535,99.945,91.11,90.075,97.875,90.405,98.985,93.93,99.585,97.755,97.005,97.62,91.455,92.37,94.74,95.325,90.72,91.905,99.18,93.765,99.225,94.065,96.51,98.25,99.99,92.13,92.145,99.99,98.205,97.8,96.84,97.86,96.915,94.71,92.55,94.575,98.19,90.615,94.725,96.975,93.705,93.36,99.705,97.17,97.23,90.18,95.4,97.14,96.075,91.23,96.705,97.08,94.53,90.63,97.155,90.75,95.355,94.65,99.99,97.68,92.64,92.46,96.54,99.36,97.635,93.435,91.29,97.59,91.44,92.97,97.32,90.12,93.72,96.255,94.11,94.755,95.55,92.415,91.155,97.575,99.99,96.87,96.345,99.15,99.99,94.26,94.77,91.545,98.07,90.585,99.33,93.87,96.225,93.555,92.76,94.425,97.965,94.5,94.545,94.23,94.86,96.585,93.825,95.655,91.845,95.175,94.965,91.5,97.44,97.095,92.91,91.89,91.62,99.66,93.24,92.295,93.165,97.395,93.525,90.87,94.8,94.47,96.21,92.175,90.15,97.5,95.85,92.205,97.47,97.785,99.06,95.865,99.015,92.01,96.69,95.025,97.74,98.64,94.125,91.32,97.05,94.335,96.45,94.68,96.405,97.335,96.66,91.65,92.115,97.035,93.96,98.91,91.785,91.515,95.13,95.91,96.135,99.21,93.18,99.69,94.695,99.3,99.315,90.0,95.625,95.805,96.9,98.4,92.19,93.675,98.28,96.09,99.615,90.855,91.74,99.84,97.665,97.815,99.75,98.79,96.0,95.82,91.2,92.565,96.825,99.195,95.895,94.41,92.28,99.99,96.3,91.995,97.515,99.09,91.41,94.455,96.285,95.07,91.71,96.375,91.305,90.045,95.76,97.455,95.415,96.795,92.22,99.93,99.72,98.43,91.335,91.47,94.905,98.865,95.34,95.835,90.645,92.025,98.97,90.45,90.21,98.325,96.165,94.635,98.565,91.53,92.73,99.99,94.155,99.45,93.315,91.095,93.195,98.1,98.445,91.965,99.675,93.735,99.12,98.655,91.575,96.195,99.27,96.57,93.615,99.99,93.3,93.645,95.085,92.535,93.84,92.895,93.105,98.685,98.61,95.565,93.495,96.33,94.89,95.31,98.265,91.665,99.99,94.83,90.36,96.75,99.405,92.445,98.835,91.02,93.06,96.36,95.79,96.945,99.51,93.345,96.105,94.98,97.695,95.505,99.165,96.6,95.475,97.89,90.66,90.705,99.99,98.475,92.58,95.97,96.48,93.09,90.93,92.085,97.29,95.985,91.77,93.9,97.365,99.99,98.88,95.01,98.73,95.775,96.15,94.815,95.04,95.1,99.285,98.37,97.38,96.465,96.855,90.465,97.125,94.95,91.365,92.955,98.01,90.435,99.39,91.065,93.12,90.42,90.375,92.775,96.735,90.885,98.595,99.255,98.235,95.925,97.995,97.98,97.71,92.4,95.73,92.07,97.215,95.46,92.925,91.86,97.245,91.26,90.795,93.51,97.185,90.99,98.22,93.57,97.83,96.27,96.435],\"yaxis\":\"y\",\"type\":\"scattergl\"}],                        {\"template\":{\"data\":{\"bar\":[{\"error_x\":{\"color\":\"#2a3f5f\"},\"error_y\":{\"color\":\"#2a3f5f\"},\"marker\":{\"line\":{\"color\":\"#E5ECF6\",\"width\":0.5},\"pattern\":{\"fillmode\":\"overlay\",\"size\":10,\"solidity\":0.2}},\"type\":\"bar\"}],\"barpolar\":[{\"marker\":{\"line\":{\"color\":\"#E5ECF6\",\"width\":0.5},\"pattern\":{\"fillmode\":\"overlay\",\"size\":10,\"solidity\":0.2}},\"type\":\"barpolar\"}],\"carpet\":[{\"aaxis\":{\"endlinecolor\":\"#2a3f5f\",\"gridcolor\":\"white\",\"linecolor\":\"white\",\"minorgridcolor\":\"white\",\"startlinecolor\":\"#2a3f5f\"},\"baxis\":{\"endlinecolor\":\"#2a3f5f\",\"gridcolor\":\"white\",\"linecolor\":\"white\",\"minorgridcolor\":\"white\",\"startlinecolor\":\"#2a3f5f\"},\"type\":\"carpet\"}],\"choropleth\":[{\"colorbar\":{\"outlinewidth\":0,\"ticks\":\"\"},\"type\":\"choropleth\"}],\"contour\":[{\"colorbar\":{\"outlinewidth\":0,\"ticks\":\"\"},\"colorscale\":[[0.0,\"#0d0887\"],[0.1111111111111111,\"#46039f\"],[0.2222222222222222,\"#7201a8\"],[0.3333333333333333,\"#9c179e\"],[0.4444444444444444,\"#bd3786\"],[0.5555555555555556,\"#d8576b\"],[0.6666666666666666,\"#ed7953\"],[0.7777777777777778,\"#fb9f3a\"],[0.8888888888888888,\"#fdca26\"],[1.0,\"#f0f921\"]],\"type\":\"contour\"}],\"contourcarpet\":[{\"colorbar\":{\"outlinewidth\":0,\"ticks\":\"\"},\"type\":\"contourcarpet\"}],\"heatmap\":[{\"colorbar\":{\"outlinewidth\":0,\"ticks\":\"\"},\"colorscale\":[[0.0,\"#0d0887\"],[0.1111111111111111,\"#46039f\"],[0.2222222222222222,\"#7201a8\"],[0.3333333333333333,\"#9c179e\"],[0.4444444444444444,\"#bd3786\"],[0.5555555555555556,\"#d8576b\"],[0.6666666666666666,\"#ed7953\"],[0.7777777777777778,\"#fb9f3a\"],[0.8888888888888888,\"#fdca26\"],[1.0,\"#f0f921\"]],\"type\":\"heatmap\"}],\"heatmapgl\":[{\"colorbar\":{\"outlinewidth\":0,\"ticks\":\"\"},\"colorscale\":[[0.0,\"#0d0887\"],[0.1111111111111111,\"#46039f\"],[0.2222222222222222,\"#7201a8\"],[0.3333333333333333,\"#9c179e\"],[0.4444444444444444,\"#bd3786\"],[0.5555555555555556,\"#d8576b\"],[0.6666666666666666,\"#ed7953\"],[0.7777777777777778,\"#fb9f3a\"],[0.8888888888888888,\"#fdca26\"],[1.0,\"#f0f921\"]],\"type\":\"heatmapgl\"}],\"histogram\":[{\"marker\":{\"pattern\":{\"fillmode\":\"overlay\",\"size\":10,\"solidity\":0.2}},\"type\":\"histogram\"}],\"histogram2d\":[{\"colorbar\":{\"outlinewidth\":0,\"ticks\":\"\"},\"colorscale\":[[0.0,\"#0d0887\"],[0.1111111111111111,\"#46039f\"],[0.2222222222222222,\"#7201a8\"],[0.3333333333333333,\"#9c179e\"],[0.4444444444444444,\"#bd3786\"],[0.5555555555555556,\"#d8576b\"],[0.6666666666666666,\"#ed7953\"],[0.7777777777777778,\"#fb9f3a\"],[0.8888888888888888,\"#fdca26\"],[1.0,\"#f0f921\"]],\"type\":\"histogram2d\"}],\"histogram2dcontour\":[{\"colorbar\":{\"outlinewidth\":0,\"ticks\":\"\"},\"colorscale\":[[0.0,\"#0d0887\"],[0.1111111111111111,\"#46039f\"],[0.2222222222222222,\"#7201a8\"],[0.3333333333333333,\"#9c179e\"],[0.4444444444444444,\"#bd3786\"],[0.5555555555555556,\"#d8576b\"],[0.6666666666666666,\"#ed7953\"],[0.7777777777777778,\"#fb9f3a\"],[0.8888888888888888,\"#fdca26\"],[1.0,\"#f0f921\"]],\"type\":\"histogram2dcontour\"}],\"mesh3d\":[{\"colorbar\":{\"outlinewidth\":0,\"ticks\":\"\"},\"type\":\"mesh3d\"}],\"parcoords\":[{\"line\":{\"colorbar\":{\"outlinewidth\":0,\"ticks\":\"\"}},\"type\":\"parcoords\"}],\"pie\":[{\"automargin\":true,\"type\":\"pie\"}],\"scatter\":[{\"marker\":{\"colorbar\":{\"outlinewidth\":0,\"ticks\":\"\"}},\"type\":\"scatter\"}],\"scatter3d\":[{\"line\":{\"colorbar\":{\"outlinewidth\":0,\"ticks\":\"\"}},\"marker\":{\"colorbar\":{\"outlinewidth\":0,\"ticks\":\"\"}},\"type\":\"scatter3d\"}],\"scattercarpet\":[{\"marker\":{\"colorbar\":{\"outlinewidth\":0,\"ticks\":\"\"}},\"type\":\"scattercarpet\"}],\"scattergeo\":[{\"marker\":{\"colorbar\":{\"outlinewidth\":0,\"ticks\":\"\"}},\"type\":\"scattergeo\"}],\"scattergl\":[{\"marker\":{\"colorbar\":{\"outlinewidth\":0,\"ticks\":\"\"}},\"type\":\"scattergl\"}],\"scattermapbox\":[{\"marker\":{\"colorbar\":{\"outlinewidth\":0,\"ticks\":\"\"}},\"type\":\"scattermapbox\"}],\"scatterpolar\":[{\"marker\":{\"colorbar\":{\"outlinewidth\":0,\"ticks\":\"\"}},\"type\":\"scatterpolar\"}],\"scatterpolargl\":[{\"marker\":{\"colorbar\":{\"outlinewidth\":0,\"ticks\":\"\"}},\"type\":\"scatterpolargl\"}],\"scatterternary\":[{\"marker\":{\"colorbar\":{\"outlinewidth\":0,\"ticks\":\"\"}},\"type\":\"scatterternary\"}],\"surface\":[{\"colorbar\":{\"outlinewidth\":0,\"ticks\":\"\"},\"colorscale\":[[0.0,\"#0d0887\"],[0.1111111111111111,\"#46039f\"],[0.2222222222222222,\"#7201a8\"],[0.3333333333333333,\"#9c179e\"],[0.4444444444444444,\"#bd3786\"],[0.5555555555555556,\"#d8576b\"],[0.6666666666666666,\"#ed7953\"],[0.7777777777777778,\"#fb9f3a\"],[0.8888888888888888,\"#fdca26\"],[1.0,\"#f0f921\"]],\"type\":\"surface\"}],\"table\":[{\"cells\":{\"fill\":{\"color\":\"#EBF0F8\"},\"line\":{\"color\":\"white\"}},\"header\":{\"fill\":{\"color\":\"#C8D4E3\"},\"line\":{\"color\":\"white\"}},\"type\":\"table\"}]},\"layout\":{\"annotationdefaults\":{\"arrowcolor\":\"#2a3f5f\",\"arrowhead\":0,\"arrowwidth\":1},\"autotypenumbers\":\"strict\",\"coloraxis\":{\"colorbar\":{\"outlinewidth\":0,\"ticks\":\"\"}},\"colorscale\":{\"diverging\":[[0,\"#8e0152\"],[0.1,\"#c51b7d\"],[0.2,\"#de77ae\"],[0.3,\"#f1b6da\"],[0.4,\"#fde0ef\"],[0.5,\"#f7f7f7\"],[0.6,\"#e6f5d0\"],[0.7,\"#b8e186\"],[0.8,\"#7fbc41\"],[0.9,\"#4d9221\"],[1,\"#276419\"]],\"sequential\":[[0.0,\"#0d0887\"],[0.1111111111111111,\"#46039f\"],[0.2222222222222222,\"#7201a8\"],[0.3333333333333333,\"#9c179e\"],[0.4444444444444444,\"#bd3786\"],[0.5555555555555556,\"#d8576b\"],[0.6666666666666666,\"#ed7953\"],[0.7777777777777778,\"#fb9f3a\"],[0.8888888888888888,\"#fdca26\"],[1.0,\"#f0f921\"]],\"sequentialminus\":[[0.0,\"#0d0887\"],[0.1111111111111111,\"#46039f\"],[0.2222222222222222,\"#7201a8\"],[0.3333333333333333,\"#9c179e\"],[0.4444444444444444,\"#bd3786\"],[0.5555555555555556,\"#d8576b\"],[0.6666666666666666,\"#ed7953\"],[0.7777777777777778,\"#fb9f3a\"],[0.8888888888888888,\"#fdca26\"],[1.0,\"#f0f921\"]]},\"colorway\":[\"#636efa\",\"#EF553B\",\"#00cc96\",\"#ab63fa\",\"#FFA15A\",\"#19d3f3\",\"#FF6692\",\"#B6E880\",\"#FF97FF\",\"#FECB52\"],\"font\":{\"color\":\"#2a3f5f\"},\"geo\":{\"bgcolor\":\"white\",\"lakecolor\":\"white\",\"landcolor\":\"#E5ECF6\",\"showlakes\":true,\"showland\":true,\"subunitcolor\":\"white\"},\"hoverlabel\":{\"align\":\"left\"},\"hovermode\":\"closest\",\"mapbox\":{\"style\":\"light\"},\"paper_bgcolor\":\"white\",\"plot_bgcolor\":\"#E5ECF6\",\"polar\":{\"angularaxis\":{\"gridcolor\":\"white\",\"linecolor\":\"white\",\"ticks\":\"\"},\"bgcolor\":\"#E5ECF6\",\"radialaxis\":{\"gridcolor\":\"white\",\"linecolor\":\"white\",\"ticks\":\"\"}},\"scene\":{\"xaxis\":{\"backgroundcolor\":\"#E5ECF6\",\"gridcolor\":\"white\",\"gridwidth\":2,\"linecolor\":\"white\",\"showbackground\":true,\"ticks\":\"\",\"zerolinecolor\":\"white\"},\"yaxis\":{\"backgroundcolor\":\"#E5ECF6\",\"gridcolor\":\"white\",\"gridwidth\":2,\"linecolor\":\"white\",\"showbackground\":true,\"ticks\":\"\",\"zerolinecolor\":\"white\"},\"zaxis\":{\"backgroundcolor\":\"#E5ECF6\",\"gridcolor\":\"white\",\"gridwidth\":2,\"linecolor\":\"white\",\"showbackground\":true,\"ticks\":\"\",\"zerolinecolor\":\"white\"}},\"shapedefaults\":{\"line\":{\"color\":\"#2a3f5f\"}},\"ternary\":{\"aaxis\":{\"gridcolor\":\"white\",\"linecolor\":\"white\",\"ticks\":\"\"},\"baxis\":{\"gridcolor\":\"white\",\"linecolor\":\"white\",\"ticks\":\"\"},\"bgcolor\":\"#E5ECF6\",\"caxis\":{\"gridcolor\":\"white\",\"linecolor\":\"white\",\"ticks\":\"\"}},\"title\":{\"x\":0.05},\"xaxis\":{\"automargin\":true,\"gridcolor\":\"white\",\"linecolor\":\"white\",\"ticks\":\"\",\"title\":{\"standoff\":15},\"zerolinecolor\":\"white\",\"zerolinewidth\":2},\"yaxis\":{\"automargin\":true,\"gridcolor\":\"white\",\"linecolor\":\"white\",\"ticks\":\"\",\"title\":{\"standoff\":15},\"zerolinecolor\":\"white\",\"zerolinewidth\":2}}},\"xaxis\":{\"anchor\":\"y\",\"domain\":[0.0,1.0],\"title\":{\"text\":\"Sugar level\"}},\"yaxis\":{\"anchor\":\"x\",\"domain\":[0.0,1.0],\"title\":{\"text\":\"SpO2\"}},\"legend\":{\"title\":{\"text\":\"Decision \"},\"tracegroupgap\":0},\"margin\":{\"t\":60}},                        {\"responsive\": true}                    ).then(function(){\n",
              "                            \n",
              "var gd = document.getElementById('0e5d0fb4-aa36-45d4-bfce-4c4486d3217d');\n",
              "var x = new MutationObserver(function (mutations, observer) {{\n",
              "        var display = window.getComputedStyle(gd).display;\n",
              "        if (!display || display === 'none') {{\n",
              "            console.log([gd, 'removed!']);\n",
              "            Plotly.purge(gd);\n",
              "            observer.disconnect();\n",
              "        }}\n",
              "}});\n",
              "\n",
              "// Listen for the removal of the full notebook cells\n",
              "var notebookContainer = gd.closest('#notebook-container');\n",
              "if (notebookContainer) {{\n",
              "    x.observe(notebookContainer, {childList: true});\n",
              "}}\n",
              "\n",
              "// Listen for the clearing of the current output cell\n",
              "var outputEl = gd.closest('.output');\n",
              "if (outputEl) {{\n",
              "    x.observe(outputEl, {childList: true});\n",
              "}}\n",
              "\n",
              "                        })                };                            </script>        </div>\n",
              "</body>\n",
              "</html>"
            ]
          },
          "metadata": {}
        }
      ]
    },
    {
      "cell_type": "code",
      "source": [
        ""
      ],
      "metadata": {
        "id": "I6a6AjiufHNN"
      },
      "execution_count": null,
      "outputs": []
    }
  ]
}