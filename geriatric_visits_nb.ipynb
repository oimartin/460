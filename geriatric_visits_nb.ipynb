{
  "nbformat": 4,
  "nbformat_minor": 0,
  "metadata": {
    "colab": {
      "name": "geriatric_visits_nb",
      "provenance": [],
      "authorship_tag": "ABX9TyMt1UlkVV3DQIbt3Wr7lNWS",
      "include_colab_link": true
    },
    "kernelspec": {
      "name": "python3",
      "display_name": "Python 3"
    },
    "language_info": {
      "name": "python"
    }
  },
  "cells": [
    {
      "cell_type": "markdown",
      "metadata": {
        "id": "view-in-github",
        "colab_type": "text"
      },
      "source": [
        "<a href=\"https://colab.research.google.com/github/oimartin/460/blob/main/geriatric_visits_nb.ipynb\" target=\"_parent\"><img src=\"https://colab.research.google.com/assets/colab-badge.svg\" alt=\"Open In Colab\"/></a>"
      ]
    },
    {
      "cell_type": "markdown",
      "source": [
        "# Injest"
      ],
      "metadata": {
        "id": "wgo3SRtuB5gb"
      }
    },
    {
      "cell_type": "code",
      "execution_count": 1,
      "metadata": {
        "id": "E9sXflg1Bzc8"
      },
      "outputs": [],
      "source": [
        "import pandas as pd"
      ]
    },
    {
      "cell_type": "code",
      "source": [
        "visits = pd.read_csv(\"https://raw.githubusercontent.com/oimartin/Older-and-Wiser/geriatric_visits/data/Geriatric_Medicine.csv\")"
      ],
      "metadata": {
        "id": "ky0AvHomB42t"
      },
      "execution_count": 2,
      "outputs": []
    },
    {
      "cell_type": "markdown",
      "source": [
        "# EDA"
      ],
      "metadata": {
        "id": "yX4xwz0IFT3R"
      }
    },
    {
      "cell_type": "code",
      "source": [
        "visits.info()"
      ],
      "metadata": {
        "colab": {
          "base_uri": "https://localhost:8080/"
        },
        "id": "1GOB6OrjCD7w",
        "outputId": "8c29da2f-1257-4c81-ace5-78ff3afe3085"
      },
      "execution_count": 3,
      "outputs": [
        {
          "output_type": "stream",
          "name": "stdout",
          "text": [
            "<class 'pandas.core.frame.DataFrame'>\n",
            "RangeIndex: 42959 entries, 0 to 42958\n",
            "Data columns (total 15 columns):\n",
            " #   Column                                                Non-Null Count  Dtype  \n",
            "---  ------                                                --------------  -----  \n",
            " 0   zip_code                                              42959 non-null  int64  \n",
            " 1   min_medicare_pricing_for_new_patient                  42959 non-null  float64\n",
            " 2   max_medicare_pricing_for_new_patient                  42959 non-null  float64\n",
            " 3   mode_medicare_pricing_for_new_patient                 42959 non-null  float64\n",
            " 4   min_copay_for_new_patient                             42959 non-null  float64\n",
            " 5   max_copay_for_new_patient                             42959 non-null  float64\n",
            " 6   mode_copay_for_new_patient                            42959 non-null  float64\n",
            " 7   most_utilized_procedure_code_for_new_patient          42959 non-null  int64  \n",
            " 8   min_medicare_pricing_for_established_patient          42959 non-null  float64\n",
            " 9   max_medicare_pricing_for_established_patient          42959 non-null  float64\n",
            " 10  mode_medicare_pricing_for_established_patient         42959 non-null  float64\n",
            " 11  min_copay_for_established_patient                     42959 non-null  float64\n",
            " 12  max_copay_for_established_patient                     42959 non-null  float64\n",
            " 13  mode_copay_for_established_patient                    42959 non-null  float64\n",
            " 14  most_utilized_procedure_code_for_established_patient  42959 non-null  int64  \n",
            "dtypes: float64(12), int64(3)\n",
            "memory usage: 4.9 MB\n"
          ]
        }
      ]
    },
    {
      "cell_type": "code",
      "source": [
        "visits.iloc[:, 0] = visits['zip_code'].astype('string')\n",
        "visits.iloc[:, 7] = visits.iloc[:, 7].astype('string')\n",
        "visits.iloc[:, 14] = visits.iloc[:, 14].astype('string')"
      ],
      "metadata": {
        "id": "7dnTf2UVCKZX"
      },
      "execution_count": 4,
      "outputs": []
    },
    {
      "cell_type": "code",
      "source": [
        "visits.info()"
      ],
      "metadata": {
        "colab": {
          "base_uri": "https://localhost:8080/"
        },
        "id": "tRQ1eg0cCiXg",
        "outputId": "b49b949e-9e13-4daf-c653-db2328e8db04"
      },
      "execution_count": 6,
      "outputs": [
        {
          "output_type": "stream",
          "name": "stdout",
          "text": [
            "<class 'pandas.core.frame.DataFrame'>\n",
            "RangeIndex: 42959 entries, 0 to 42958\n",
            "Data columns (total 15 columns):\n",
            " #   Column                                                Non-Null Count  Dtype  \n",
            "---  ------                                                --------------  -----  \n",
            " 0   zip_code                                              42959 non-null  string \n",
            " 1   min_medicare_pricing_for_new_patient                  42959 non-null  float64\n",
            " 2   max_medicare_pricing_for_new_patient                  42959 non-null  float64\n",
            " 3   mode_medicare_pricing_for_new_patient                 42959 non-null  float64\n",
            " 4   min_copay_for_new_patient                             42959 non-null  float64\n",
            " 5   max_copay_for_new_patient                             42959 non-null  float64\n",
            " 6   mode_copay_for_new_patient                            42959 non-null  float64\n",
            " 7   most_utilized_procedure_code_for_new_patient          42959 non-null  string \n",
            " 8   min_medicare_pricing_for_established_patient          42959 non-null  float64\n",
            " 9   max_medicare_pricing_for_established_patient          42959 non-null  float64\n",
            " 10  mode_medicare_pricing_for_established_patient         42959 non-null  float64\n",
            " 11  min_copay_for_established_patient                     42959 non-null  float64\n",
            " 12  max_copay_for_established_patient                     42959 non-null  float64\n",
            " 13  mode_copay_for_established_patient                    42959 non-null  float64\n",
            " 14  most_utilized_procedure_code_for_established_patient  42959 non-null  string \n",
            "dtypes: float64(12), string(3)\n",
            "memory usage: 4.9 MB\n"
          ]
        }
      ]
    },
    {
      "cell_type": "code",
      "source": [
        "distrib_df = visits.describe()\n",
        "distrib_df"
      ],
      "metadata": {
        "colab": {
          "base_uri": "https://localhost:8080/",
          "height": 364
        },
        "id": "xXJP3i5_Ckv9",
        "outputId": "6e2cdd59-c690-4606-95b2-ba770e85f15c"
      },
      "execution_count": 20,
      "outputs": [
        {
          "output_type": "execute_result",
          "data": {
            "text/plain": [
              "       min_medicare_pricing_for_new_patient  \\\n",
              "count                          42959.000000   \n",
              "mean                              58.238339   \n",
              "std                                4.045550   \n",
              "min                               53.136000   \n",
              "25%                               55.312000   \n",
              "50%                               56.936000   \n",
              "75%                               59.432000   \n",
              "max                               74.816000   \n",
              "\n",
              "       max_medicare_pricing_for_new_patient  \\\n",
              "count                          42959.000000   \n",
              "mean                             177.239252   \n",
              "std                               11.124559   \n",
              "min                              163.672000   \n",
              "25%                              169.736000   \n",
              "50%                              174.056000   \n",
              "75%                              180.408000   \n",
              "max                              233.632000   \n",
              "\n",
              "       mode_medicare_pricing_for_new_patient  min_copay_for_new_patient  \\\n",
              "count                           42959.000000               42959.000000   \n",
              "mean                              177.239252                  14.559585   \n",
              "std                                11.124559                   1.011387   \n",
              "min                               163.672000                  13.284000   \n",
              "25%                               169.736000                  13.828000   \n",
              "50%                               174.056000                  14.234000   \n",
              "75%                               180.408000                  14.858000   \n",
              "max                               233.632000                  18.704000   \n",
              "\n",
              "       max_copay_for_new_patient  mode_copay_for_new_patient  \\\n",
              "count               42959.000000                42959.000000   \n",
              "mean                   44.309813                   44.309813   \n",
              "std                     2.781140                    2.781140   \n",
              "min                    40.918000                   40.918000   \n",
              "25%                    42.434000                   42.434000   \n",
              "50%                    43.514000                   43.514000   \n",
              "75%                    45.102000                   45.102000   \n",
              "max                    58.408000                   58.408000   \n",
              "\n",
              "       min_medicare_pricing_for_established_patient  \\\n",
              "count                                  42959.000000   \n",
              "mean                                      18.073701   \n",
              "std                                        1.459078   \n",
              "min                                       16.256000   \n",
              "25%                                       17.040000   \n",
              "50%                                       17.616000   \n",
              "75%                                       18.544000   \n",
              "max                                       23.768000   \n",
              "\n",
              "       max_medicare_pricing_for_established_patient  \\\n",
              "count                                  42959.000000   \n",
              "mean                                     144.793623   \n",
              "std                                        9.072558   \n",
              "min                                      133.848000   \n",
              "25%                                      138.800000   \n",
              "50%                                      142.080000   \n",
              "75%                                      147.312000   \n",
              "max                                      190.744000   \n",
              "\n",
              "       mode_medicare_pricing_for_established_patient  \\\n",
              "count                                   42959.000000   \n",
              "mean                                      103.643492   \n",
              "std                                         6.628021   \n",
              "min                                        95.608000   \n",
              "25%                                        98.992000   \n",
              "50%                                       101.496000   \n",
              "75%                                       105.648000   \n",
              "max                                       135.848000   \n",
              "\n",
              "       min_copay_for_established_patient  max_copay_for_established_patient  \\\n",
              "count                       42959.000000                       42959.000000   \n",
              "mean                            4.518425                          36.198406   \n",
              "std                             0.364770                           2.268139   \n",
              "min                             4.064000                          33.462000   \n",
              "25%                             4.260000                          34.700000   \n",
              "50%                             4.404000                          35.520000   \n",
              "75%                             4.636000                          36.828000   \n",
              "max                             5.942000                          47.686000   \n",
              "\n",
              "       mode_copay_for_established_patient  \n",
              "count                        42959.000000  \n",
              "mean                            25.910873  \n",
              "std                              1.657005  \n",
              "min                             23.902000  \n",
              "25%                             24.748000  \n",
              "50%                             25.374000  \n",
              "75%                             26.412000  \n",
              "max                             33.962000  "
            ],
            "text/html": [
              "\n",
              "  <div id=\"df-a276809e-d2e5-4591-b221-9353c05b5c1b\">\n",
              "    <div class=\"colab-df-container\">\n",
              "      <div>\n",
              "<style scoped>\n",
              "    .dataframe tbody tr th:only-of-type {\n",
              "        vertical-align: middle;\n",
              "    }\n",
              "\n",
              "    .dataframe tbody tr th {\n",
              "        vertical-align: top;\n",
              "    }\n",
              "\n",
              "    .dataframe thead th {\n",
              "        text-align: right;\n",
              "    }\n",
              "</style>\n",
              "<table border=\"1\" class=\"dataframe\">\n",
              "  <thead>\n",
              "    <tr style=\"text-align: right;\">\n",
              "      <th></th>\n",
              "      <th>min_medicare_pricing_for_new_patient</th>\n",
              "      <th>max_medicare_pricing_for_new_patient</th>\n",
              "      <th>mode_medicare_pricing_for_new_patient</th>\n",
              "      <th>min_copay_for_new_patient</th>\n",
              "      <th>max_copay_for_new_patient</th>\n",
              "      <th>mode_copay_for_new_patient</th>\n",
              "      <th>min_medicare_pricing_for_established_patient</th>\n",
              "      <th>max_medicare_pricing_for_established_patient</th>\n",
              "      <th>mode_medicare_pricing_for_established_patient</th>\n",
              "      <th>min_copay_for_established_patient</th>\n",
              "      <th>max_copay_for_established_patient</th>\n",
              "      <th>mode_copay_for_established_patient</th>\n",
              "    </tr>\n",
              "  </thead>\n",
              "  <tbody>\n",
              "    <tr>\n",
              "      <th>count</th>\n",
              "      <td>42959.000000</td>\n",
              "      <td>42959.000000</td>\n",
              "      <td>42959.000000</td>\n",
              "      <td>42959.000000</td>\n",
              "      <td>42959.000000</td>\n",
              "      <td>42959.000000</td>\n",
              "      <td>42959.000000</td>\n",
              "      <td>42959.000000</td>\n",
              "      <td>42959.000000</td>\n",
              "      <td>42959.000000</td>\n",
              "      <td>42959.000000</td>\n",
              "      <td>42959.000000</td>\n",
              "    </tr>\n",
              "    <tr>\n",
              "      <th>mean</th>\n",
              "      <td>58.238339</td>\n",
              "      <td>177.239252</td>\n",
              "      <td>177.239252</td>\n",
              "      <td>14.559585</td>\n",
              "      <td>44.309813</td>\n",
              "      <td>44.309813</td>\n",
              "      <td>18.073701</td>\n",
              "      <td>144.793623</td>\n",
              "      <td>103.643492</td>\n",
              "      <td>4.518425</td>\n",
              "      <td>36.198406</td>\n",
              "      <td>25.910873</td>\n",
              "    </tr>\n",
              "    <tr>\n",
              "      <th>std</th>\n",
              "      <td>4.045550</td>\n",
              "      <td>11.124559</td>\n",
              "      <td>11.124559</td>\n",
              "      <td>1.011387</td>\n",
              "      <td>2.781140</td>\n",
              "      <td>2.781140</td>\n",
              "      <td>1.459078</td>\n",
              "      <td>9.072558</td>\n",
              "      <td>6.628021</td>\n",
              "      <td>0.364770</td>\n",
              "      <td>2.268139</td>\n",
              "      <td>1.657005</td>\n",
              "    </tr>\n",
              "    <tr>\n",
              "      <th>min</th>\n",
              "      <td>53.136000</td>\n",
              "      <td>163.672000</td>\n",
              "      <td>163.672000</td>\n",
              "      <td>13.284000</td>\n",
              "      <td>40.918000</td>\n",
              "      <td>40.918000</td>\n",
              "      <td>16.256000</td>\n",
              "      <td>133.848000</td>\n",
              "      <td>95.608000</td>\n",
              "      <td>4.064000</td>\n",
              "      <td>33.462000</td>\n",
              "      <td>23.902000</td>\n",
              "    </tr>\n",
              "    <tr>\n",
              "      <th>25%</th>\n",
              "      <td>55.312000</td>\n",
              "      <td>169.736000</td>\n",
              "      <td>169.736000</td>\n",
              "      <td>13.828000</td>\n",
              "      <td>42.434000</td>\n",
              "      <td>42.434000</td>\n",
              "      <td>17.040000</td>\n",
              "      <td>138.800000</td>\n",
              "      <td>98.992000</td>\n",
              "      <td>4.260000</td>\n",
              "      <td>34.700000</td>\n",
              "      <td>24.748000</td>\n",
              "    </tr>\n",
              "    <tr>\n",
              "      <th>50%</th>\n",
              "      <td>56.936000</td>\n",
              "      <td>174.056000</td>\n",
              "      <td>174.056000</td>\n",
              "      <td>14.234000</td>\n",
              "      <td>43.514000</td>\n",
              "      <td>43.514000</td>\n",
              "      <td>17.616000</td>\n",
              "      <td>142.080000</td>\n",
              "      <td>101.496000</td>\n",
              "      <td>4.404000</td>\n",
              "      <td>35.520000</td>\n",
              "      <td>25.374000</td>\n",
              "    </tr>\n",
              "    <tr>\n",
              "      <th>75%</th>\n",
              "      <td>59.432000</td>\n",
              "      <td>180.408000</td>\n",
              "      <td>180.408000</td>\n",
              "      <td>14.858000</td>\n",
              "      <td>45.102000</td>\n",
              "      <td>45.102000</td>\n",
              "      <td>18.544000</td>\n",
              "      <td>147.312000</td>\n",
              "      <td>105.648000</td>\n",
              "      <td>4.636000</td>\n",
              "      <td>36.828000</td>\n",
              "      <td>26.412000</td>\n",
              "    </tr>\n",
              "    <tr>\n",
              "      <th>max</th>\n",
              "      <td>74.816000</td>\n",
              "      <td>233.632000</td>\n",
              "      <td>233.632000</td>\n",
              "      <td>18.704000</td>\n",
              "      <td>58.408000</td>\n",
              "      <td>58.408000</td>\n",
              "      <td>23.768000</td>\n",
              "      <td>190.744000</td>\n",
              "      <td>135.848000</td>\n",
              "      <td>5.942000</td>\n",
              "      <td>47.686000</td>\n",
              "      <td>33.962000</td>\n",
              "    </tr>\n",
              "  </tbody>\n",
              "</table>\n",
              "</div>\n",
              "      <button class=\"colab-df-convert\" onclick=\"convertToInteractive('df-a276809e-d2e5-4591-b221-9353c05b5c1b')\"\n",
              "              title=\"Convert this dataframe to an interactive table.\"\n",
              "              style=\"display:none;\">\n",
              "        \n",
              "  <svg xmlns=\"http://www.w3.org/2000/svg\" height=\"24px\"viewBox=\"0 0 24 24\"\n",
              "       width=\"24px\">\n",
              "    <path d=\"M0 0h24v24H0V0z\" fill=\"none\"/>\n",
              "    <path d=\"M18.56 5.44l.94 2.06.94-2.06 2.06-.94-2.06-.94-.94-2.06-.94 2.06-2.06.94zm-11 1L8.5 8.5l.94-2.06 2.06-.94-2.06-.94L8.5 2.5l-.94 2.06-2.06.94zm10 10l.94 2.06.94-2.06 2.06-.94-2.06-.94-.94-2.06-.94 2.06-2.06.94z\"/><path d=\"M17.41 7.96l-1.37-1.37c-.4-.4-.92-.59-1.43-.59-.52 0-1.04.2-1.43.59L10.3 9.45l-7.72 7.72c-.78.78-.78 2.05 0 2.83L4 21.41c.39.39.9.59 1.41.59.51 0 1.02-.2 1.41-.59l7.78-7.78 2.81-2.81c.8-.78.8-2.07 0-2.86zM5.41 20L4 18.59l7.72-7.72 1.47 1.35L5.41 20z\"/>\n",
              "  </svg>\n",
              "      </button>\n",
              "      \n",
              "  <style>\n",
              "    .colab-df-container {\n",
              "      display:flex;\n",
              "      flex-wrap:wrap;\n",
              "      gap: 12px;\n",
              "    }\n",
              "\n",
              "    .colab-df-convert {\n",
              "      background-color: #E8F0FE;\n",
              "      border: none;\n",
              "      border-radius: 50%;\n",
              "      cursor: pointer;\n",
              "      display: none;\n",
              "      fill: #1967D2;\n",
              "      height: 32px;\n",
              "      padding: 0 0 0 0;\n",
              "      width: 32px;\n",
              "    }\n",
              "\n",
              "    .colab-df-convert:hover {\n",
              "      background-color: #E2EBFA;\n",
              "      box-shadow: 0px 1px 2px rgba(60, 64, 67, 0.3), 0px 1px 3px 1px rgba(60, 64, 67, 0.15);\n",
              "      fill: #174EA6;\n",
              "    }\n",
              "\n",
              "    [theme=dark] .colab-df-convert {\n",
              "      background-color: #3B4455;\n",
              "      fill: #D2E3FC;\n",
              "    }\n",
              "\n",
              "    [theme=dark] .colab-df-convert:hover {\n",
              "      background-color: #434B5C;\n",
              "      box-shadow: 0px 1px 3px 1px rgba(0, 0, 0, 0.15);\n",
              "      filter: drop-shadow(0px 1px 2px rgba(0, 0, 0, 0.3));\n",
              "      fill: #FFFFFF;\n",
              "    }\n",
              "  </style>\n",
              "\n",
              "      <script>\n",
              "        const buttonEl =\n",
              "          document.querySelector('#df-a276809e-d2e5-4591-b221-9353c05b5c1b button.colab-df-convert');\n",
              "        buttonEl.style.display =\n",
              "          google.colab.kernel.accessAllowed ? 'block' : 'none';\n",
              "\n",
              "        async function convertToInteractive(key) {\n",
              "          const element = document.querySelector('#df-a276809e-d2e5-4591-b221-9353c05b5c1b');\n",
              "          const dataTable =\n",
              "            await google.colab.kernel.invokeFunction('convertToInteractive',\n",
              "                                                     [key], {});\n",
              "          if (!dataTable) return;\n",
              "\n",
              "          const docLinkHtml = 'Like what you see? Visit the ' +\n",
              "            '<a target=\"_blank\" href=https://colab.research.google.com/notebooks/data_table.ipynb>data table notebook</a>'\n",
              "            + ' to learn more about interactive tables.';\n",
              "          element.innerHTML = '';\n",
              "          dataTable['output_type'] = 'display_data';\n",
              "          await google.colab.output.renderOutput(dataTable, element);\n",
              "          const docLink = document.createElement('div');\n",
              "          docLink.innerHTML = docLinkHtml;\n",
              "          element.appendChild(docLink);\n",
              "        }\n",
              "      </script>\n",
              "    </div>\n",
              "  </div>\n",
              "  "
            ]
          },
          "metadata": {},
          "execution_count": 20
        }
      ]
    },
    {
      "cell_type": "code",
      "source": [
        "print(\"most_utilized_procedure_code_for_new_patient\")\n",
        "display(visits.iloc[:, 7].value_counts())\n",
        "print(\"most_utilized_procedure_code_for_established_patient\")\n",
        "display(visits.iloc[:, 14].value_counts())"
      ],
      "metadata": {
        "colab": {
          "base_uri": "https://localhost:8080/",
          "height": 126
        },
        "id": "UoOGcOxBCsAL",
        "outputId": "1352c8a7-6d93-46cf-f004-70adc0d1d934"
      },
      "execution_count": 8,
      "outputs": [
        {
          "output_type": "stream",
          "name": "stdout",
          "text": [
            "most_utilized_procedure_code_for_new_patient\n"
          ]
        },
        {
          "output_type": "display_data",
          "data": {
            "text/plain": [
              "99205    42959\n",
              "Name: most_utilized_procedure_code_for_new_patient, dtype: Int64"
            ]
          },
          "metadata": {}
        },
        {
          "output_type": "stream",
          "name": "stdout",
          "text": [
            "most_utilized_procedure_code_for_established_patient\n"
          ]
        },
        {
          "output_type": "display_data",
          "data": {
            "text/plain": [
              "99214    42959\n",
              "Name: most_utilized_procedure_code_for_established_patient, dtype: Int64"
            ]
          },
          "metadata": {}
        }
      ]
    },
    {
      "cell_type": "code",
      "source": [
        "visits.nunique()"
      ],
      "metadata": {
        "colab": {
          "base_uri": "https://localhost:8080/"
        },
        "id": "2QgnigpQDvYy",
        "outputId": "9f994d1c-516e-4145-875f-2bd797d79b0d"
      },
      "execution_count": 19,
      "outputs": [
        {
          "output_type": "execute_result",
          "data": {
            "text/plain": [
              "zip_code                                                42959\n",
              "min_medicare_pricing_for_new_patient                       95\n",
              "max_medicare_pricing_for_new_patient                       96\n",
              "mode_medicare_pricing_for_new_patient                      96\n",
              "min_copay_for_new_patient                                  95\n",
              "max_copay_for_new_patient                                  96\n",
              "mode_copay_for_new_patient                                 96\n",
              "most_utilized_procedure_code_for_new_patient                1\n",
              "min_medicare_pricing_for_established_patient               90\n",
              "max_medicare_pricing_for_established_patient               96\n",
              "mode_medicare_pricing_for_established_patient              96\n",
              "min_copay_for_established_patient                          90\n",
              "max_copay_for_established_patient                          96\n",
              "mode_copay_for_established_patient                         96\n",
              "most_utilized_procedure_code_for_established_patient        1\n",
              "dtype: int64"
            ]
          },
          "metadata": {},
          "execution_count": 19
        }
      ]
    },
    {
      "cell_type": "markdown",
      "source": [
        "99214: Established patient office visit, 30-39 minutes\n",
        "<br>\n",
        "99205: Typically 60 minutes, Comprehensive history, Comprehensive Examination, High complexity medical decision making"
      ],
      "metadata": {
        "id": "vEcQhkX-Ezec"
      }
    },
    {
      "cell_type": "markdown",
      "source": [
        "# Aggregate"
      ],
      "metadata": {
        "id": "xnIcyNLuGuRj"
      }
    },
    {
      "cell_type": "code",
      "source": [
        "bins = [0, 1, 5, 10, 25, 50, 100]\n",
        "visits['binned'] = pd.cut(visits['percentage'], bins)\n",
        "print (df)"
      ],
      "metadata": {
        "id": "Yx6VbfNwFamz"
      },
      "execution_count": null,
      "outputs": []
    }
  ]
}