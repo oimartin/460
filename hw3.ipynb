{
  "nbformat": 4,
  "nbformat_minor": 0,
  "metadata": {
    "colab": {
      "name": "hw3.ipynb",
      "provenance": [],
      "authorship_tag": "ABX9TyMl+13o9Rj0F1HWeJ+COH3N",
      "include_colab_link": true
    },
    "kernelspec": {
      "name": "python3",
      "display_name": "Python 3"
    },
    "language_info": {
      "name": "python"
    }
  },
  "cells": [
    {
      "cell_type": "markdown",
      "metadata": {
        "id": "view-in-github",
        "colab_type": "text"
      },
      "source": [
        "<a href=\"https://colab.research.google.com/github/oimartin/460/blob/main/hw3.ipynb\" target=\"_parent\"><img src=\"https://colab.research.google.com/assets/colab-badge.svg\" alt=\"Open In Colab\"/></a>"
      ]
    },
    {
      "cell_type": "code",
      "execution_count": 1,
      "metadata": {
        "id": "V0N2jr8xtjQU"
      },
      "outputs": [],
      "source": [
        "import scipy.optimize as ot"
      ]
    },
    {
      "cell_type": "markdown",
      "source": [
        "# Examples\n",
        " - https://pythonguides.com/scipy-optimize/"
      ],
      "metadata": {
        "id": "_HnlClJIwVBB"
      }
    },
    {
      "cell_type": "markdown",
      "source": [
        "## One variable"
      ],
      "metadata": {
        "id": "Ah8xUgsOwZdO"
      }
    },
    {
      "cell_type": "code",
      "source": [
        "def objective_fun(x):\n",
        "  return 2*x**2 + 5*x-4"
      ],
      "metadata": {
        "id": "LK6kwymyvxP0"
      },
      "execution_count": 4,
      "outputs": []
    },
    {
      "cell_type": "code",
      "source": [
        "result = ot.minimize_scalar(objective_fun)"
      ],
      "metadata": {
        "id": "Ed3c_NHkv7oI"
      },
      "execution_count": 5,
      "outputs": []
    },
    {
      "cell_type": "code",
      "source": [
        "print(result)"
      ],
      "metadata": {
        "colab": {
          "base_uri": "https://localhost:8080/"
        },
        "id": "GhB-DD5PwCQ2",
        "outputId": "dc13ffc0-2133-49d3-9b8c-093d2b8b5cab"
      },
      "execution_count": 6,
      "outputs": [
        {
          "output_type": "stream",
          "name": "stdout",
          "text": [
            "     fun: -7.125\n",
            "    nfev: 9\n",
            "     nit: 4\n",
            " success: True\n",
            "       x: -1.2500000185100002\n"
          ]
        }
      ]
    },
    {
      "cell_type": "markdown",
      "source": [
        "## 2+ variables"
      ],
      "metadata": {
        "id": "QBNHFFfLwbu9"
      }
    },
    {
      "cell_type": "code",
      "source": [
        "def Obj_func(x):\n",
        "    return (60*x[0]**2) + (15*x[1])"
      ],
      "metadata": {
        "id": "1QhgL6t_wHtU"
      },
      "execution_count": 7,
      "outputs": []
    },
    {
      "cell_type": "code",
      "source": [
        "const = ({'type': 'ineq', 'fun': lambda x:  8*x + 16*x-200},\n",
        "        {'type': 'ineq', 'fun': lambda x: 60*x + 40*x-960},\n",
        "        {'type': 'ineq', 'fun': lambda x: 2*x + 2*x-40})"
      ],
      "metadata": {
        "id": "8FsO9CNAwldH"
      },
      "execution_count": 8,
      "outputs": []
    },
    {
      "cell_type": "code",
      "source": [
        "bnds = ((0, None), (0, None))"
      ],
      "metadata": {
        "id": "X7E9F3CqwnaQ"
      },
      "execution_count": 9,
      "outputs": []
    },
    {
      "cell_type": "code",
      "source": [
        "res = ot.minimize(Obj_func, (-1, 0), method='SLSQP', bounds=bnds,\n",
        "               constraints=const)"
      ],
      "metadata": {
        "id": "_vmnQdUFwpaa"
      },
      "execution_count": 11,
      "outputs": []
    },
    {
      "cell_type": "code",
      "source": [
        "print(res)"
      ],
      "metadata": {
        "colab": {
          "base_uri": "https://localhost:8080/"
        },
        "id": "7lC4BVe7wrnk",
        "outputId": "06e2490d-6878-4d11-ebc5-0d8cee94c4bd"
      },
      "execution_count": 12,
      "outputs": [
        {
          "output_type": "stream",
          "name": "stdout",
          "text": [
            "     fun: 6150.00000000537\n",
            "     jac: array([1200.,   15.])\n",
            " message: 'Optimization terminated successfully.'\n",
            "    nfev: 14\n",
            "     nit: 3\n",
            "    njev: 3\n",
            "  status: 0\n",
            " success: True\n",
            "       x: array([10., 10.])\n"
          ]
        }
      ]
    },
    {
      "cell_type": "markdown",
      "source": [
        "## Ex 3 - stack overflow - sign = 1.0"
      ],
      "metadata": {
        "id": "jQxhTSt8xdEy"
      }
    },
    {
      "cell_type": "code",
      "source": [
        "def objective(x, sign=1.0):\n",
        "    x1 = x[0]\n",
        "    x2 = x[1]\n",
        "    return sign*((3*x1) + (5*x2))"
      ],
      "metadata": {
        "id": "7pAXRZ5cxdEz"
      },
      "execution_count": null,
      "outputs": []
    },
    {
      "cell_type": "code",
      "source": [
        "def constraint1(x, sign=1.0):\n",
        "    return sign*(3*x[0] +2*x[1]- 18.0)"
      ],
      "metadata": {
        "id": "95lKai3SxdEz"
      },
      "execution_count": null,
      "outputs": []
    },
    {
      "cell_type": "code",
      "source": [
        "x0=[0,0]\n",
        "\n",
        "b1 = (0,4)\n",
        "b2 = (0,12)\n",
        "bnds= (b1,b2)\n",
        "con1 = {'type': 'ineq', 'fun': constraint1}"
      ],
      "metadata": {
        "id": "bnlzjdH6xdEz"
      },
      "execution_count": null,
      "outputs": []
    },
    {
      "cell_type": "code",
      "source": [
        "cons = [con1]\n",
        "sol = ot.minimize(objective,x0,method='SLSQP',bounds=bnds,constraints=cons)\n",
        "\n",
        "print(sol)"
      ],
      "metadata": {
        "colab": {
          "base_uri": "https://localhost:8080/"
        },
        "outputId": "5de1b015-a782-4b54-99c5-1e0d1363c887",
        "id": "GsNBJlkUxdEz"
      },
      "execution_count": null,
      "outputs": [
        {
          "output_type": "stream",
          "name": "stdout",
          "text": [
            "     fun: 26.999999999999808\n",
            "     jac: array([3., 5.])\n",
            " message: 'Optimization terminated successfully.'\n",
            "    nfev: 8\n",
            "     nit: 2\n",
            "    njev: 2\n",
            "  status: 0\n",
            " success: True\n",
            "       x: array([4., 3.])\n"
          ]
        }
      ]
    },
    {
      "cell_type": "markdown",
      "source": [
        "## Ex 3 - stack overflow - sign = **-1.0**"
      ],
      "metadata": {
        "id": "m7Zhjt8vxEFU"
      }
    },
    {
      "cell_type": "code",
      "source": [
        "def objective(x, sign=-1.0):\n",
        "    x1 = x[0]\n",
        "    x2 = x[1]\n",
        "    return sign*((3*x1) + (5*x2))"
      ],
      "metadata": {
        "id": "EmYWIlVNwz6d"
      },
      "execution_count": 18,
      "outputs": []
    },
    {
      "cell_type": "code",
      "source": [
        "def constraint1(x, sign=-1.0):\n",
        "    return sign*(3*x[0] +2*x[1]- 18.0)"
      ],
      "metadata": {
        "id": "C6KPXtXxxJjY"
      },
      "execution_count": 19,
      "outputs": []
    },
    {
      "cell_type": "code",
      "source": [
        "x0=[0,0]\n",
        "\n",
        "b1 = (0,4)\n",
        "b2 = (0,12)\n",
        "bnds= (b1,b2)\n",
        "con1 = {'type': 'ineq', 'fun': constraint1}"
      ],
      "metadata": {
        "id": "s2fcqTx7xLeb"
      },
      "execution_count": 20,
      "outputs": []
    },
    {
      "cell_type": "code",
      "source": [
        "cons = [con1]\n",
        "sol = ot.minimize(objective,x0,method='SLSQP',bounds=bnds,constraints=cons)\n",
        "\n",
        "print(sol)"
      ],
      "metadata": {
        "colab": {
          "base_uri": "https://localhost:8080/"
        },
        "id": "vp3uwawQxOBi",
        "outputId": "4efd5e85-e79d-4adf-875f-ddabc53c471d"
      },
      "execution_count": 21,
      "outputs": [
        {
          "output_type": "stream",
          "name": "stdout",
          "text": [
            "     fun: -44.99999999999636\n",
            "     jac: array([-3., -5.])\n",
            " message: 'Optimization terminated successfully.'\n",
            "    nfev: 16\n",
            "     nit: 4\n",
            "    njev: 4\n",
            "  status: 0\n",
            " success: True\n",
            "       x: array([0., 9.])\n"
          ]
        }
      ]
    },
    {
      "cell_type": "markdown",
      "source": [
        "## Ex 3 - stack overflow - comment - **RIGHT**"
      ],
      "metadata": {
        "id": "utRepCvyyZyM"
      }
    },
    {
      "cell_type": "code",
      "source": [
        "def objective(x, sign=-1.0):\n",
        "    x1 = x[0]\n",
        "    x2 = x[1]\n",
        "    return sign*(3*x1 + 5*x2)"
      ],
      "metadata": {
        "id": "jTfxYQhczGv0"
      },
      "execution_count": null,
      "outputs": []
    },
    {
      "cell_type": "code",
      "source": [
        "def constraint1(x):\n",
        "    return 18.0 - 3*x[0] -2*x[1]"
      ],
      "metadata": {
        "id": "qGOS0BdYzGv0"
      },
      "execution_count": null,
      "outputs": []
    },
    {
      "cell_type": "code",
      "source": [
        "x0 = [0,0]\n",
        "\n",
        "b1 = (0,4)\n",
        "b2 = (0,6)\n",
        "bnds= (b1,b2)\n",
        "con1 = {'type': 'ineq', 'fun': constraint1}"
      ],
      "metadata": {
        "id": "ZVh0IqI0zGv0"
      },
      "execution_count": null,
      "outputs": []
    },
    {
      "cell_type": "code",
      "source": [
        "cons = [con1]\n",
        "sol = ot.minimize(objective, x0, method='SLSQP', bounds = bnds, constraints = cons)\n",
        "\n",
        "print(sol)"
      ],
      "metadata": {
        "colab": {
          "base_uri": "https://localhost:8080/"
        },
        "outputId": "9def4227-1822-40fd-afc3-48ec3573920e",
        "id": "R08n_3RfzGv0"
      },
      "execution_count": null,
      "outputs": [
        {
          "output_type": "stream",
          "name": "stdout",
          "text": [
            "     fun: -35.99999999999172\n",
            "     jac: array([-3., -5.])\n",
            " message: 'Optimization terminated successfully.'\n",
            "    nfev: 12\n",
            "     nit: 3\n",
            "    njev: 3\n",
            "  status: 0\n",
            " success: True\n",
            "       x: array([2., 6.])\n"
          ]
        }
      ]
    },
    {
      "cell_type": "markdown",
      "source": [
        "# HW"
      ],
      "metadata": {
        "id": "6JfbBFiXzLPu"
      }
    },
    {
      "cell_type": "markdown",
      "source": [
        "## No. 1"
      ],
      "metadata": {
        "id": "oxseVCtIzGv0"
      }
    },
    {
      "cell_type": "code",
      "source": [
        "def objective(x, sign=-1.0):\n",
        "    x1 = x[0]\n",
        "    x2 = x[1]\n",
        "    return sign*(4*x1 + 2*x2 - 0.5*x1**2 - 0.25*x2**2)"
      ],
      "metadata": {
        "id": "RFtRl7O4yZyM"
      },
      "execution_count": 26,
      "outputs": []
    },
    {
      "cell_type": "code",
      "source": [
        "def constraint1(x):\n",
        "    return 8000*x[0] + 5000*x[1]"
      ],
      "metadata": {
        "id": "diu_fLP2yZyM"
      },
      "execution_count": 27,
      "outputs": []
    },
    {
      "cell_type": "code",
      "source": [
        "x0 = [0,0]\n",
        "\n",
        "b1 = (0,4)\n",
        "b2 = (0,6)\n",
        "bnds= (b1,b2)\n",
        "con1 = {'type': 'ineq', 'fun': constraint1}"
      ],
      "metadata": {
        "id": "UCLjQteJyZyN"
      },
      "execution_count": 28,
      "outputs": []
    },
    {
      "cell_type": "code",
      "source": [
        "cons = [con1]\n",
        "sol = ot.minimize(objective, x0, method='SLSQP', bounds = bnds, constraints = cons)\n",
        "\n",
        "print(sol)"
      ],
      "metadata": {
        "colab": {
          "base_uri": "https://localhost:8080/"
        },
        "outputId": "9def4227-1822-40fd-afc3-48ec3573920e",
        "id": "3Thy84wJyZyN"
      },
      "execution_count": 29,
      "outputs": [
        {
          "output_type": "stream",
          "name": "stdout",
          "text": [
            "     fun: -35.99999999999172\n",
            "     jac: array([-3., -5.])\n",
            " message: 'Optimization terminated successfully.'\n",
            "    nfev: 12\n",
            "     nit: 3\n",
            "    njev: 3\n",
            "  status: 0\n",
            " success: True\n",
            "       x: array([2., 6.])\n"
          ]
        }
      ]
    }
  ]
}