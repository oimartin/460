{
  "cells": [
    {
      "cell_type": "markdown",
      "metadata": {
        "id": "view-in-github",
        "colab_type": "text"
      },
      "source": [
        "<a href=\"https://colab.research.google.com/github/oimartin/460/blob/main/hw2.ipynb\" target=\"_parent\"><img src=\"https://colab.research.google.com/assets/colab-badge.svg\" alt=\"Open In Colab\"/></a>"
      ]
    },
    {
      "cell_type": "markdown",
      "metadata": {
        "id": "sYb_cc1RCQef"
      },
      "source": [
        "# Load Libraries"
      ]
    },
    {
      "cell_type": "code",
      "execution_count": null,
      "metadata": {
        "colab": {
          "base_uri": "https://localhost:8080/"
        },
        "id": "gy1yVWSycJJd",
        "outputId": "5d443749-d953-47b9-de13-fc49b34a26b7"
      },
      "outputs": [
        {
          "output_type": "stream",
          "name": "stdout",
          "text": [
            "Requirement already satisfied: pulp in /usr/local/lib/python3.7/dist-packages (2.6.0)\n",
            "Collecting glpk\n",
            "  Using cached glpk-0.4.6.tar.gz (153 kB)\n",
            "  Installing build dependencies ... \u001b[?25l\u001b[?25hdone\n",
            "  Getting requirements to build wheel ... \u001b[?25l\u001b[?25hdone\n",
            "    Preparing wheel metadata ... \u001b[?25l\u001b[?25hdone\n",
            "Building wheels for collected packages: glpk\n",
            "  Building wheel for glpk (PEP 517) ... \u001b[?25l\u001b[?25herror\n",
            "\u001b[31m  ERROR: Failed building wheel for glpk\u001b[0m\n",
            "Failed to build glpk\n",
            "\u001b[31mERROR: Could not build wheels for glpk which use PEP 517 and cannot be installed directly\u001b[0m\n"
          ]
        }
      ],
      "source": [
        "!pip install pulp\n",
        "!apt-get install -y -qq glpk-utils\n",
        "!pip install glpk"
      ]
    },
    {
      "cell_type": "code",
      "execution_count": null,
      "metadata": {
        "id": "G-HOn25icQl3"
      },
      "outputs": [],
      "source": [
        "from pulp import *\n",
        "import matplotlib.pyplot as plt\n",
        "import numpy as np\n",
        "import seaborn as sns"
      ]
    },
    {
      "cell_type": "markdown",
      "metadata": {
        "id": "rNP4Giq6o7dn"
      },
      "source": [
        "# Question 2"
      ]
    },
    {
      "cell_type": "markdown",
      "metadata": {
        "id": "7DeXSUMeVePS"
      },
      "source": [
        "\\begin{align}\n",
        "Max \\hspace{1cm} Z & = 300c + 400t - 50m_1 \\\\\n",
        "Subject\\hspace{0.5cm}to \\\\\n",
        "\\hspace{0.5cm} m_1 & \\leq 98 \\\\\n",
        "\\hspace{0.5cm} 0.6c + 0.7t & \\leq 73 \\\\\n",
        "\\hspace{0.5cm} c & \\geq 88 \\\\\n",
        "\\hspace{0.5cm} t & \\geq 26 \\\\\n",
        "\\hspace{0.5cm} 2c + 2t & \\leq 260 \\\\\n",
        "\\hspace{0.5cm} 0.8c + t - m_1& \\leq 260 \\\\\n",
        "c, t, m_1 & \\geq 0 \\\\\n",
        "\\end{align}"
      ]
    },
    {
      "cell_type": "markdown",
      "metadata": {
        "id": "iyCYOZHWLAQd"
      },
      "source": [
        "## Part B"
      ]
    },
    {
      "cell_type": "code",
      "execution_count": null,
      "metadata": {
        "id": "n5hI1gSNLAQu"
      },
      "outputs": [],
      "source": [
        "# Create an object of a model\n",
        "prob2 = LpProblem(\"Q2_LP\", LpMaximize)"
      ]
    },
    {
      "cell_type": "code",
      "execution_count": null,
      "metadata": {
        "id": "vDvpGmQBLAQu"
      },
      "outputs": [],
      "source": [
        "# Define the decision variables\n",
        "c = LpVariable(\"car\",0)\n",
        "t = LpVariable(\"truck\", 0)\n",
        "m1 = LpVariable(\"machine1\", 0)"
      ]
    },
    {
      "cell_type": "markdown",
      "source": [
        ""
      ],
      "metadata": {
        "id": "7R8hSGqyB-as"
      }
    },
    {
      "cell_type": "code",
      "execution_count": null,
      "metadata": {
        "id": "jSthsYRpLAQu"
      },
      "outputs": [],
      "source": [
        "# Define the objective function\n",
        "prob2 += 300*c + 400*t - 50*m1"
      ]
    },
    {
      "cell_type": "code",
      "execution_count": null,
      "metadata": {
        "id": "Stme_ds6LAQv"
      },
      "outputs": [],
      "source": [
        "# Define the constraints\n",
        "prob2 += m1 <= 98, \"Type 1 machine rent constraint\"\n",
        "prob2 += 0.6*c + 0.7*t <= 73, \"Days on machine 2 constraint\"\n",
        "prob2 += c >= 88, \"Car marketing constraint\"\n",
        "prob2 += t >= 26, \"Truck marketing constraint\"\n",
        "prob2 += 2*c + 3*t <= 260, \"Tons of steel constraint\"\n",
        "prob2 += 0.8*c + t - m1 <= 0, \"Days on machine 1\"\n",
        "prob2 += c >= 0.0, \"cars\"\n",
        "prob2 += t >= 0.0, \"trucks\"\n",
        "prob2 += m1 >= 0.0, \"machine 1\""
      ]
    },
    {
      "cell_type": "code",
      "execution_count": null,
      "metadata": {
        "colab": {
          "base_uri": "https://localhost:8080/"
        },
        "outputId": "c65f8ce1-d8a7-411f-d782-ebc474acb841",
        "id": "BBaqg5cqLAQv"
      },
      "outputs": [
        {
          "output_type": "execute_result",
          "data": {
            "text/plain": [
              "1"
            ]
          },
          "metadata": {},
          "execution_count": 16
        }
      ],
      "source": [
        "# Solve the linear programming problem\n",
        "prob2.solve()"
      ]
    },
    {
      "cell_type": "code",
      "execution_count": null,
      "metadata": {
        "colab": {
          "base_uri": "https://localhost:8080/"
        },
        "outputId": "54729296-edb0-4fd2-8b5f-b00fd1b6652c",
        "id": "uqmqRoAbLAQv"
      },
      "outputs": [
        {
          "output_type": "stream",
          "name": "stdout",
          "text": [
            "Status: Optimal\n"
          ]
        }
      ],
      "source": [
        "# Print the results\n",
        "print(f\"Status: {LpStatus[prob2.status]}\")"
      ]
    },
    {
      "cell_type": "code",
      "execution_count": null,
      "metadata": {
        "colab": {
          "base_uri": "https://localhost:8080/"
        },
        "outputId": "d5a5b317-3bdb-4e28-a16f-75729a075041",
        "id": "Zy28i8JTLAQw"
      },
      "outputs": [
        {
          "output_type": "stream",
          "name": "stdout",
          "text": [
            "car = 88.0\n",
            "machine1 = 98.0\n",
            "truck = 27.6\n"
          ]
        },
        {
          "output_type": "execute_result",
          "data": {
            "text/plain": [
              "[None, None, None]"
            ]
          },
          "metadata": {},
          "execution_count": 18
        }
      ],
      "source": [
        "[print(v.name, \"=\", v.varValue) for v in prob2.variables()]"
      ]
    },
    {
      "cell_type": "code",
      "execution_count": null,
      "metadata": {
        "colab": {
          "base_uri": "https://localhost:8080/"
        },
        "outputId": "4b583d3e-cf14-4457-9fa1-769a8c06ad1f",
        "id": "WEN0aamDLAQw"
      },
      "outputs": [
        {
          "output_type": "stream",
          "name": "stdout",
          "text": [
            "The optimal value of the objective function is = 32540.0\n"
          ]
        }
      ],
      "source": [
        "print(f'''The optimal value of the objective function is = {value(prob2.objective)}''')"
      ]
    },
    {
      "cell_type": "markdown",
      "source": [
        "## Part C"
      ],
      "metadata": {
        "id": "hxQ0VNrhl-GM"
      }
    },
    {
      "cell_type": "code",
      "source": [
        "# Generate sensitivity report\n",
        "prob2.solve(GLPK(msg=True, options=['--ranges', 'prob2.sen']))"
      ],
      "metadata": {
        "colab": {
          "base_uri": "https://localhost:8080/"
        },
        "id": "soPaZlJkmJes",
        "outputId": "a3677181-9fe9-4ebf-b8d3-67fe5e1e9700"
      },
      "execution_count": null,
      "outputs": [
        {
          "output_type": "execute_result",
          "data": {
            "text/plain": [
              "1"
            ]
          },
          "metadata": {},
          "execution_count": 20
        }
      ]
    },
    {
      "cell_type": "markdown",
      "metadata": {
        "id": "hPVGIK5KU1_g"
      },
      "source": [
        "# Question 3"
      ]
    },
    {
      "cell_type": "markdown",
      "metadata": {
        "id": "ctUep6waU1_6"
      },
      "source": [
        "## Part A, try 1"
      ]
    },
    {
      "cell_type": "code",
      "execution_count": null,
      "metadata": {
        "id": "5XBp6RaaU1_8"
      },
      "outputs": [],
      "source": [
        "# Create an object of a model\n",
        "prob3 = LpProblem(\"Q3_LP\", LpMaximize)"
      ]
    },
    {
      "cell_type": "code",
      "execution_count": null,
      "metadata": {
        "id": "DbTpxJkBU1_-"
      },
      "outputs": [],
      "source": [
        "# Define the decision variables\n",
        "n1 = LpVariable(\"n1\",0)\n",
        "n2 = LpVariable(\"n2\",0)\n",
        "n3 = LpVariable(\"n3\",0)\n",
        "n4 = LpVariable(\"n4\",0)\n",
        "\n",
        "f1 = LpVariable(\"f1\",0)\n",
        "f2 = LpVariable(\"f2\",0)\n",
        "f3 = LpVariable(\"f3\",0)\n",
        "\n",
        "s1 = LpVariable(\"s1\",0)\n",
        "s2 = LpVariable(\"s2\",0)"
      ]
    },
    {
      "cell_type": "markdown",
      "source": [
        ""
      ],
      "metadata": {
        "id": "vzqTX0mgU1__"
      }
    },
    {
      "cell_type": "code",
      "execution_count": null,
      "metadata": {
        "id": "udtElDNqU1__"
      },
      "outputs": [],
      "source": [
        "# Define the objective function\n",
        "prob3 +=  0.2*(n1 + n2 + n3 + n4) + 0.1*(f1 + f2 + f3) + 0.06*(s1 + s2)"
      ]
    },
    {
      "cell_type": "code",
      "execution_count": null,
      "metadata": {
        "id": "xWQvRA2MU2AA"
      },
      "outputs": [],
      "source": [
        "# Define the constraints\n",
        "prob3 += n1 == 15, \"day 1\"\n",
        "prob3 += f1 + s1 <= 15, \"day 1 cleaned napkins\"\n",
        "prob3 += n2 + f1 == 12, \"day 2\"\n",
        "prob3 += f1 + f2 + s1 + s2 <= 27, \"day 2 cleaned napkins\"\n",
        "prob3 += n3 + f2 + s1 == 18, \"day 3\"\n",
        "prob3 += f1 + f2 +f3 + s1 + s2 <= 45, \"day 3 cleaned napkins\"\n",
        "prob3 += n4 + f3 + s2 == 6, \"day 4\"\n",
        "prob3 += f1 + f2 +f3 + s1 + s2  <= 51, \"day 4 cleaned napkins\""
      ]
    },
    {
      "cell_type": "code",
      "execution_count": null,
      "metadata": {
        "colab": {
          "base_uri": "https://localhost:8080/"
        },
        "outputId": "d02f57ba-e6dd-4d53-b9e8-07bc964b1bdc",
        "id": "0fd7fe23U2AC"
      },
      "outputs": [
        {
          "output_type": "execute_result",
          "data": {
            "text/plain": [
              "1"
            ]
          },
          "metadata": {},
          "execution_count": 6
        }
      ],
      "source": [
        "# Solve the linear programming problem\n",
        "prob3.solve()"
      ]
    },
    {
      "cell_type": "code",
      "execution_count": null,
      "metadata": {
        "colab": {
          "base_uri": "https://localhost:8080/"
        },
        "outputId": "94f92b05-58c7-401f-d241-25c493c568de",
        "id": "h_4HBKnrU2AE"
      },
      "outputs": [
        {
          "output_type": "stream",
          "name": "stdout",
          "text": [
            "Status: Optimal\n"
          ]
        }
      ],
      "source": [
        "# Print the results\n",
        "print(f\"Status: {LpStatus[prob3.status]}\")"
      ]
    },
    {
      "cell_type": "code",
      "execution_count": null,
      "metadata": {
        "colab": {
          "base_uri": "https://localhost:8080/"
        },
        "outputId": "4cc9f6b1-f955-489c-eb69-579d202ccf69",
        "id": "valIQBBGU2AF"
      },
      "outputs": [
        {
          "output_type": "stream",
          "name": "stdout",
          "text": [
            "f1 = 0.0\n",
            "f2 = 0.0\n",
            "f3 = 0.0\n",
            "n1 = 15.0\n",
            "n2 = 12.0\n",
            "n3 = 18.0\n",
            "n4 = 6.0\n",
            "s1 = 0.0\n",
            "s2 = 0.0\n"
          ]
        },
        {
          "output_type": "execute_result",
          "data": {
            "text/plain": [
              "[None, None, None, None, None, None, None, None, None]"
            ]
          },
          "metadata": {},
          "execution_count": 8
        }
      ],
      "source": [
        "[print(v.name, \"=\", v.varValue) for v in prob3.variables()]"
      ]
    },
    {
      "cell_type": "code",
      "execution_count": null,
      "metadata": {
        "colab": {
          "base_uri": "https://localhost:8080/"
        },
        "outputId": "061cbbf0-3ba1-4b73-d4b3-d18f1f5586f3",
        "id": "COYE3WKaU2AG"
      },
      "outputs": [
        {
          "output_type": "stream",
          "name": "stdout",
          "text": [
            "The optimal value of the objective function is = 10.2\n"
          ]
        }
      ],
      "source": [
        "print(f'''The optimal value of the objective function is = {value(prob3.objective)}''')"
      ]
    },
    {
      "cell_type": "markdown",
      "metadata": {
        "id": "FMZBGnN51rCM"
      },
      "source": [
        "## Part A, try 2"
      ]
    },
    {
      "cell_type": "code",
      "execution_count": null,
      "metadata": {
        "id": "cJSzjdNQ1rCN"
      },
      "outputs": [],
      "source": [
        "# Create an object of a model\n",
        "prob3 = LpProblem(\"Q3_LP\", LpMaximize)"
      ]
    },
    {
      "cell_type": "code",
      "execution_count": null,
      "metadata": {
        "id": "RO9qUakw1rCO"
      },
      "outputs": [],
      "source": [
        "# Define the decision variables\n",
        "n0 = LpVariable(\"n0\",0)\n",
        "n1 = LpVariable(\"n1\",0)\n",
        "n2 = LpVariable(\"n2\",0)\n",
        "n3 = LpVariable(\"n3\",0)\n",
        "n4 = LpVariable(\"n4\",0)\n",
        "\n",
        "f1 = LpVariable(\"f1\",0)\n",
        "f2 = LpVariable(\"f2\",0)\n",
        "f3 = LpVariable(\"f3\",0)\n",
        "\n",
        "s1 = LpVariable(\"s1\",0)\n",
        "s2 = LpVariable(\"s2\",0)\n",
        "\n",
        "h0 = LpVariable(\"h0\",0)\n",
        "h1 = LpVariable(\"h1\",0)\n",
        "h2 = LpVariable(\"h2\",0)\n",
        "h3 = LpVariable(\"h3\",0)\n",
        "h4 = LpVariable(\"h4\",0)"
      ]
    },
    {
      "cell_type": "markdown",
      "source": [
        ""
      ],
      "metadata": {
        "id": "PNFzj78g1rCP"
      }
    },
    {
      "cell_type": "code",
      "execution_count": null,
      "metadata": {
        "id": "rBX4MWzt1rCR"
      },
      "outputs": [],
      "source": [
        "# Define the objective function\n",
        "prob3 +=  0.2*(n1 + n2 + n3 + n4) + 0.1*(f1 + f2 + f3) + 0.06*(s1 + s2)"
      ]
    },
    {
      "cell_type": "code",
      "execution_count": null,
      "metadata": {
        "id": "iIzqtshW1rCT"
      },
      "outputs": [],
      "source": [
        "# Define the constraints\n",
        "prob3 += n0 + n1  + n2 + n3 + n4 == 51\n",
        "\n",
        "prob3 += f1 + s1 + h1 == 15\n",
        "prob3 += f2 + s2 - h1 + h2 == 12\n",
        "prob3 += f3 - h2 + h3 == 18\n",
        "prob3 += -h3 + h4 == 6 \n",
        "prob3 += -n0 - h4 == -51\n",
        "prob3 += -n1 == -15\n",
        "prob3 += -n2 - f1 == -12\n",
        "prob3 += -n3 - s1 - f2 == -18\n",
        "prob3 += -n4 - s2 - f3 == -6"
      ]
    },
    {
      "cell_type": "code",
      "execution_count": null,
      "metadata": {
        "colab": {
          "base_uri": "https://localhost:8080/"
        },
        "outputId": "d75d64df-b991-4b0e-ebb6-f28b1cafbe4e",
        "id": "HgS1GXla1rCV"
      },
      "outputs": [
        {
          "output_type": "execute_result",
          "data": {
            "text/plain": [
              "1"
            ]
          },
          "metadata": {},
          "execution_count": 18
        }
      ],
      "source": [
        "# Solve the linear programming problem\n",
        "prob3.solve()"
      ]
    },
    {
      "cell_type": "code",
      "execution_count": null,
      "metadata": {
        "colab": {
          "base_uri": "https://localhost:8080/"
        },
        "outputId": "55c19e34-abbd-46b5-b164-a813271571b5",
        "id": "9-Vyr7DN1rCX"
      },
      "outputs": [
        {
          "output_type": "stream",
          "name": "stdout",
          "text": [
            "Status: Optimal\n"
          ]
        }
      ],
      "source": [
        "# Print the results\n",
        "print(f\"Status: {LpStatus[prob3.status]}\")"
      ]
    },
    {
      "cell_type": "code",
      "execution_count": null,
      "metadata": {
        "colab": {
          "base_uri": "https://localhost:8080/"
        },
        "outputId": "dd85469b-f5d7-4f7c-b269-79ba0496117b",
        "id": "Yz7erZiL1rCY"
      },
      "outputs": [
        {
          "output_type": "stream",
          "name": "stdout",
          "text": [
            "f1 = 0.0\n",
            "f2 = 0.0\n",
            "f3 = 0.0\n",
            "h1 = 15.0\n",
            "h2 = 27.0\n",
            "h3 = 45.0\n",
            "h4 = 51.0\n",
            "n0 = 0.0\n",
            "n1 = 15.0\n",
            "n2 = 12.0\n",
            "n3 = 18.0\n",
            "n4 = 6.0\n",
            "s1 = 0.0\n",
            "s2 = 0.0\n"
          ]
        },
        {
          "output_type": "execute_result",
          "data": {
            "text/plain": [
              "[None,\n",
              " None,\n",
              " None,\n",
              " None,\n",
              " None,\n",
              " None,\n",
              " None,\n",
              " None,\n",
              " None,\n",
              " None,\n",
              " None,\n",
              " None,\n",
              " None,\n",
              " None]"
            ]
          },
          "metadata": {},
          "execution_count": 20
        }
      ],
      "source": [
        "[print(v.name, \"=\", v.varValue) for v in prob3.variables()]"
      ]
    },
    {
      "cell_type": "code",
      "execution_count": null,
      "metadata": {
        "colab": {
          "base_uri": "https://localhost:8080/"
        },
        "outputId": "c3843374-b7a7-4098-b3ca-f5b652f80422",
        "id": "8kZMfwYF1rCf"
      },
      "outputs": [
        {
          "output_type": "stream",
          "name": "stdout",
          "text": [
            "The optimal value of the objective function is = 10.2\n"
          ]
        }
      ],
      "source": [
        "print(f'''The optimal value of the objective function is = {value(prob3.objective)}''')"
      ]
    }
  ],
  "metadata": {
    "colab": {
      "collapsed_sections": [],
      "name": "hw2",
      "provenance": [],
      "authorship_tag": "ABX9TyNzBy2RVPnC0hB/E1Sv/J25",
      "include_colab_link": true
    },
    "kernelspec": {
      "display_name": "Python 3",
      "name": "python3"
    },
    "language_info": {
      "name": "python"
    }
  },
  "nbformat": 4,
  "nbformat_minor": 0
}