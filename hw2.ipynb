{
  "cells": [
    {
      "cell_type": "markdown",
      "metadata": {
        "id": "view-in-github",
        "colab_type": "text"
      },
      "source": [
        "<a href=\"https://colab.research.google.com/github/oimartin/460/blob/main/hw2.ipynb\" target=\"_parent\"><img src=\"https://colab.research.google.com/assets/colab-badge.svg\" alt=\"Open In Colab\"/></a>"
      ]
    },
    {
      "cell_type": "markdown",
      "metadata": {
        "id": "sYb_cc1RCQef"
      },
      "source": [
        "# Load Libraries"
      ]
    },
    {
      "cell_type": "code",
      "execution_count": 1,
      "metadata": {
        "colab": {
          "base_uri": "https://localhost:8080/"
        },
        "id": "gy1yVWSycJJd",
        "outputId": "a2c278a5-a918-474e-f920-01fed2a85377"
      },
      "outputs": [
        {
          "output_type": "stream",
          "name": "stdout",
          "text": [
            "Collecting pulp\n",
            "  Downloading PuLP-2.6.0-py3-none-any.whl (14.2 MB)\n",
            "\u001b[K     |████████████████████████████████| 14.2 MB 5.3 MB/s \n",
            "\u001b[?25hInstalling collected packages: pulp\n",
            "Successfully installed pulp-2.6.0\n",
            "Selecting previously unselected package libsuitesparseconfig5:amd64.\n",
            "(Reading database ... 155501 files and directories currently installed.)\n",
            "Preparing to unpack .../libsuitesparseconfig5_1%3a5.1.2-2_amd64.deb ...\n",
            "Unpacking libsuitesparseconfig5:amd64 (1:5.1.2-2) ...\n",
            "Selecting previously unselected package libamd2:amd64.\n",
            "Preparing to unpack .../libamd2_1%3a5.1.2-2_amd64.deb ...\n",
            "Unpacking libamd2:amd64 (1:5.1.2-2) ...\n",
            "Selecting previously unselected package libcolamd2:amd64.\n",
            "Preparing to unpack .../libcolamd2_1%3a5.1.2-2_amd64.deb ...\n",
            "Unpacking libcolamd2:amd64 (1:5.1.2-2) ...\n",
            "Selecting previously unselected package libglpk40:amd64.\n",
            "Preparing to unpack .../libglpk40_4.65-1_amd64.deb ...\n",
            "Unpacking libglpk40:amd64 (4.65-1) ...\n",
            "Selecting previously unselected package glpk-utils.\n",
            "Preparing to unpack .../glpk-utils_4.65-1_amd64.deb ...\n",
            "Unpacking glpk-utils (4.65-1) ...\n",
            "Setting up libsuitesparseconfig5:amd64 (1:5.1.2-2) ...\n",
            "Setting up libcolamd2:amd64 (1:5.1.2-2) ...\n",
            "Setting up libamd2:amd64 (1:5.1.2-2) ...\n",
            "Setting up libglpk40:amd64 (4.65-1) ...\n",
            "Setting up glpk-utils (4.65-1) ...\n",
            "Processing triggers for libc-bin (2.27-3ubuntu1.3) ...\n",
            "/sbin/ldconfig.real: /usr/local/lib/python3.7/dist-packages/ideep4py/lib/libmkldnn.so.0 is not a symbolic link\n",
            "\n",
            "Processing triggers for man-db (2.8.3-2ubuntu0.1) ...\n",
            "Collecting glpk\n",
            "  Downloading glpk-0.4.6.tar.gz (153 kB)\n",
            "\u001b[K     |████████████████████████████████| 153 kB 4.8 MB/s \n",
            "\u001b[?25h  Installing build dependencies ... \u001b[?25l\u001b[?25hdone\n",
            "  Getting requirements to build wheel ... \u001b[?25l\u001b[?25hdone\n",
            "    Preparing wheel metadata ... \u001b[?25l\u001b[?25hdone\n",
            "Building wheels for collected packages: glpk\n",
            "  Building wheel for glpk (PEP 517) ... \u001b[?25l\u001b[?25herror\n",
            "\u001b[31m  ERROR: Failed building wheel for glpk\u001b[0m\n",
            "Failed to build glpk\n",
            "\u001b[31mERROR: Could not build wheels for glpk which use PEP 517 and cannot be installed directly\u001b[0m\n"
          ]
        }
      ],
      "source": [
        "!pip install pulp\n",
        "!apt-get install -y -qq glpk-utils\n",
        "!pip install glpk"
      ]
    },
    {
      "cell_type": "code",
      "execution_count": 1,
      "metadata": {
        "id": "G-HOn25icQl3"
      },
      "outputs": [],
      "source": [
        "from pulp import *\n",
        "import matplotlib.pyplot as plt\n",
        "import numpy as np\n",
        "import seaborn as sns"
      ]
    },
    {
      "cell_type": "markdown",
      "metadata": {
        "id": "rNP4Giq6o7dn"
      },
      "source": [
        "# Question 2"
      ]
    },
    {
      "cell_type": "markdown",
      "metadata": {
        "id": "7DeXSUMeVePS"
      },
      "source": [
        "\\begin{align}\n",
        "Max \\hspace{1cm} Z & = 300c + 400t - 50m_1 \\\\\n",
        "Subject\\hspace{0.5cm}to \\\\\n",
        "\\hspace{0.5cm} m_1 & \\leq 98 \\\\\n",
        "\\hspace{0.5cm} 0.6c + 0.7t & \\leq 73 \\\\\n",
        "\\hspace{0.5cm} c & \\geq 88 \\\\\n",
        "\\hspace{0.5cm} t & \\geq 26 \\\\\n",
        "\\hspace{0.5cm} 2c + 2t & \\leq 260 \\\\\n",
        "\\hspace{0.5cm} 0.8c + t - m_1& \\leq 260 \\\\\n",
        "c, t, m_1 & \\geq 0 \\\\\n",
        "\\end{align}"
      ]
    },
    {
      "cell_type": "markdown",
      "metadata": {
        "id": "iyCYOZHWLAQd"
      },
      "source": [
        "## Part B"
      ]
    },
    {
      "cell_type": "code",
      "execution_count": null,
      "metadata": {
        "id": "n5hI1gSNLAQu"
      },
      "outputs": [],
      "source": [
        "# Create an object of a model\n",
        "prob2 = LpProblem(\"Q2_LP\", LpMaximize)"
      ]
    },
    {
      "cell_type": "code",
      "execution_count": null,
      "metadata": {
        "id": "vDvpGmQBLAQu"
      },
      "outputs": [],
      "source": [
        "# Define the decision variables\n",
        "c = LpVariable(\"car\",0)\n",
        "t = LpVariable(\"truck\", 0)\n",
        "m1 = LpVariable(\"machine1\", 0)"
      ]
    },
    {
      "cell_type": "code",
      "execution_count": null,
      "metadata": {
        "id": "jSthsYRpLAQu"
      },
      "outputs": [],
      "source": [
        "# Define the objective function\n",
        "prob2 += 300*c + 400*t - 50*m1"
      ]
    },
    {
      "cell_type": "code",
      "execution_count": null,
      "metadata": {
        "id": "Stme_ds6LAQv"
      },
      "outputs": [],
      "source": [
        "# Define the constraints\n",
        "prob2 += m1 <= 98, \"Type 1 machine rent constraint\"\n",
        "prob2 += 0.6*c + 0.7*t <= 73, \"Days on machine 2 constraint\"\n",
        "prob2 += c >= 88, \"Car marketing constraint\"\n",
        "prob2 += t >= 26, \"Truck marketing constraint\"\n",
        "prob2 += 2*c + 3*t <= 260, \"Tons of steel constraint\"\n",
        "prob2 += 0.8*c + t - m1 <= 0, \"Days on machine 1\"\n",
        "prob2 += c >= 0.0, \"cars\"\n",
        "prob2 += t >= 0.0, \"trucks\"\n",
        "prob2 += m1 >= 0.0, \"machine 1\""
      ]
    },
    {
      "cell_type": "code",
      "execution_count": null,
      "metadata": {
        "colab": {
          "base_uri": "https://localhost:8080/"
        },
        "outputId": "c65f8ce1-d8a7-411f-d782-ebc474acb841",
        "id": "BBaqg5cqLAQv"
      },
      "outputs": [
        {
          "output_type": "execute_result",
          "data": {
            "text/plain": [
              "1"
            ]
          },
          "metadata": {},
          "execution_count": 16
        }
      ],
      "source": [
        "# Solve the linear programming problem\n",
        "prob2.solve()"
      ]
    },
    {
      "cell_type": "code",
      "execution_count": null,
      "metadata": {
        "colab": {
          "base_uri": "https://localhost:8080/"
        },
        "outputId": "54729296-edb0-4fd2-8b5f-b00fd1b6652c",
        "id": "uqmqRoAbLAQv"
      },
      "outputs": [
        {
          "output_type": "stream",
          "name": "stdout",
          "text": [
            "Status: Optimal\n"
          ]
        }
      ],
      "source": [
        "# Print the results\n",
        "print(f\"Status: {LpStatus[prob2.status]}\")"
      ]
    },
    {
      "cell_type": "code",
      "execution_count": null,
      "metadata": {
        "colab": {
          "base_uri": "https://localhost:8080/"
        },
        "outputId": "d5a5b317-3bdb-4e28-a16f-75729a075041",
        "id": "Zy28i8JTLAQw"
      },
      "outputs": [
        {
          "output_type": "stream",
          "name": "stdout",
          "text": [
            "car = 88.0\n",
            "machine1 = 98.0\n",
            "truck = 27.6\n"
          ]
        },
        {
          "output_type": "execute_result",
          "data": {
            "text/plain": [
              "[None, None, None]"
            ]
          },
          "metadata": {},
          "execution_count": 18
        }
      ],
      "source": [
        "[print(v.name, \"=\", v.varValue) for v in prob2.variables()]"
      ]
    },
    {
      "cell_type": "code",
      "execution_count": null,
      "metadata": {
        "colab": {
          "base_uri": "https://localhost:8080/"
        },
        "outputId": "4b583d3e-cf14-4457-9fa1-769a8c06ad1f",
        "id": "WEN0aamDLAQw"
      },
      "outputs": [
        {
          "output_type": "stream",
          "name": "stdout",
          "text": [
            "The optimal value of the objective function is = 32540.0\n"
          ]
        }
      ],
      "source": [
        "print(f'''The optimal value of the\n",
        "objective function is = {value(prob2.objective)}''')"
      ]
    },
    {
      "cell_type": "markdown",
      "source": [
        "## Part C"
      ],
      "metadata": {
        "id": "hxQ0VNrhl-GM"
      }
    },
    {
      "cell_type": "code",
      "source": [
        "# Generate sensitivity report\n",
        "prob2.solve(GLPK(msg=True, options=['--ranges', 'prob2.sen']))"
      ],
      "metadata": {
        "colab": {
          "base_uri": "https://localhost:8080/"
        },
        "id": "soPaZlJkmJes",
        "outputId": "a3677181-9fe9-4ebf-b8d3-67fe5e1e9700"
      },
      "execution_count": null,
      "outputs": [
        {
          "output_type": "execute_result",
          "data": {
            "text/plain": [
              "1"
            ]
          },
          "metadata": {},
          "execution_count": 20
        }
      ]
    },
    {
      "cell_type": "markdown",
      "source": [
        "### C - IV"
      ],
      "metadata": {
        "id": "qDdee09q_pyI"
      }
    },
    {
      "cell_type": "markdown",
      "source": [
        "\\begin{align}\n",
        "\\hspace{0.5cm} if\\ c & \\geq 86 \\\\\n",
        "\\end{align}"
      ],
      "metadata": {
        "id": "M2E3EB9CAJzi"
      }
    },
    {
      "cell_type": "code",
      "execution_count": null,
      "metadata": {
        "id": "WoKYJly1AHtW"
      },
      "outputs": [],
      "source": [
        "# Create an object of a model\n",
        "prob2c4 = LpProblem(\"Q2_LP\", LpMaximize)"
      ]
    },
    {
      "cell_type": "code",
      "execution_count": null,
      "metadata": {
        "id": "-gRCPGiRAHtY"
      },
      "outputs": [],
      "source": [
        "# Define the decision variables\n",
        "c = LpVariable(\"car\",0)\n",
        "t = LpVariable(\"truck\", 0)\n",
        "m1 = LpVariable(\"machine1\", 0)"
      ]
    },
    {
      "cell_type": "code",
      "execution_count": null,
      "metadata": {
        "id": "ayM3c8KMAHtZ"
      },
      "outputs": [],
      "source": [
        "# Define the objective function\n",
        "prob2c4 += 300*c + 400*t - 50*m1"
      ]
    },
    {
      "cell_type": "code",
      "execution_count": null,
      "metadata": {
        "id": "LC10A7xqAHtZ"
      },
      "outputs": [],
      "source": [
        "# Define the constraints\n",
        "prob2c4 += m1 <= 98, \"Type 1 machine rent constraint\"\n",
        "prob2c4 += 0.6*c + 0.7*t <= 73, \"Days on machine 2 constraint\"\n",
        "prob2c4 += c >= 86, \"Car marketing constraint\"\n",
        "prob2c4 += t >= 26, \"Truck marketing constraint\"\n",
        "prob2c4 += 2*c + 3*t <= 260, \"Tons of steel constraint\"\n",
        "prob2c4 += 0.8*c + t - m1 <= 0, \"Days on machine 1\"\n",
        "prob2c4 += c >= 0.0, \"cars\"\n",
        "prob2c4 += t >= 0.0, \"trucks\"\n",
        "prob2c4 += m1 >= 0.0, \"machine 1\""
      ]
    },
    {
      "cell_type": "code",
      "execution_count": null,
      "metadata": {
        "colab": {
          "base_uri": "https://localhost:8080/"
        },
        "outputId": "c63b438e-12c6-4928-a413-0edc511ad281",
        "id": "-Q2Mx25BAHta"
      },
      "outputs": [
        {
          "output_type": "execute_result",
          "data": {
            "text/plain": [
              "1"
            ]
          },
          "metadata": {},
          "execution_count": 7
        }
      ],
      "source": [
        "# Solve the linear programming problem\n",
        "prob2c4.solve()"
      ]
    },
    {
      "cell_type": "code",
      "execution_count": null,
      "metadata": {
        "colab": {
          "base_uri": "https://localhost:8080/"
        },
        "outputId": "8fe47c45-ff6f-4bf8-ca19-23f65ee6978c",
        "id": "1jOuoom6AHtc"
      },
      "outputs": [
        {
          "output_type": "stream",
          "name": "stdout",
          "text": [
            "Status: Optimal\n"
          ]
        }
      ],
      "source": [
        "# Print the results\n",
        "print(f\"Status: {LpStatus[prob2c4.status]}\")"
      ]
    },
    {
      "cell_type": "code",
      "execution_count": null,
      "metadata": {
        "colab": {
          "base_uri": "https://localhost:8080/"
        },
        "outputId": "7dfc90d5-e638-4a15-a595-152fa3a2a30b",
        "id": "YPzdpRDaAHtd"
      },
      "outputs": [
        {
          "output_type": "stream",
          "name": "stdout",
          "text": [
            "car = 86.0\n",
            "machine1 = 98.0\n",
            "truck = 29.2\n"
          ]
        },
        {
          "output_type": "execute_result",
          "data": {
            "text/plain": [
              "[None, None, None]"
            ]
          },
          "metadata": {},
          "execution_count": 9
        }
      ],
      "source": [
        "[print(v.name, \"=\", v.varValue) for v in prob2c4.variables()]"
      ]
    },
    {
      "cell_type": "code",
      "execution_count": null,
      "metadata": {
        "colab": {
          "base_uri": "https://localhost:8080/"
        },
        "outputId": "00c7bf2b-155d-463a-e375-6801df68f8ef",
        "id": "7F5cc1MCAHte"
      },
      "outputs": [
        {
          "output_type": "stream",
          "name": "stdout",
          "text": [
            "The optimal value of the\n",
            "objective function is = 32580.0\n"
          ]
        }
      ],
      "source": [
        "print(f'''The optimal value of the\n",
        "objective function is = {value(prob2c4.objective)}''')"
      ]
    },
    {
      "cell_type": "markdown",
      "source": [
        "### V"
      ],
      "metadata": {
        "id": "94cDwQOuBxNj"
      }
    },
    {
      "cell_type": "code",
      "execution_count": null,
      "metadata": {
        "id": "-A7TTiUlBxNu"
      },
      "outputs": [],
      "source": [
        "# Create an object of a model\n",
        "prob2c5 = LpProblem(\"Q2_cv_LP\", LpMaximize)"
      ]
    },
    {
      "cell_type": "code",
      "execution_count": null,
      "metadata": {
        "id": "Ff22SlQRBxNu"
      },
      "outputs": [],
      "source": [
        "# Define the decision variables\n",
        "c = LpVariable(\"car\",0)\n",
        "t = LpVariable(\"truck\", 0)\n",
        "j = LpVariable(\"jeep\", 0)\n",
        "m1 = LpVariable(\"machine1\", 0)"
      ]
    },
    {
      "cell_type": "code",
      "execution_count": null,
      "metadata": {
        "id": "CuYZjx2tBxNv"
      },
      "outputs": [],
      "source": [
        "# Define the objective function\n",
        "prob2c5 += 300*c + 400*t + 600*j - 50*m1"
      ]
    },
    {
      "cell_type": "code",
      "execution_count": null,
      "metadata": {
        "id": "wfcn3U9dBxNv"
      },
      "outputs": [],
      "source": [
        "# Define the constraints\n",
        "prob2c5 += m1 <= 98, \"Type 1 machine rent constraint\"\n",
        "prob2c5 += 0.6*c + 0.7*t + 2*j <= 73, \"Days on machine 2 constraint\"\n",
        "prob2c5 += c >= 88, \"Car marketing constraint\"\n",
        "prob2c5 += t >= 26, \"Truck marketing constraint\"\n",
        "prob2c5 += 2*c + 3*t + 4*j <= 260, \"Tons of steel constraint\"\n",
        "prob2c5 += 0.8*c + t + 1.2*j - m1 <= 0, \"Days on machine 1\"\n",
        "prob2c5 += c >= 0.0, \"cars\"\n",
        "prob2c5 += t >= 0.0, \"trucks\"\n",
        "prob2c5 += j >= 0.0, \"jeeps\"\n",
        "prob2c5 += m1 >= 0.0, \"machine 1\""
      ]
    },
    {
      "cell_type": "code",
      "execution_count": null,
      "metadata": {
        "colab": {
          "base_uri": "https://localhost:8080/"
        },
        "outputId": "f113ad7c-6c05-4e68-dd18-457eda0e176e",
        "id": "vbCNe9OiBxNv"
      },
      "outputs": [
        {
          "output_type": "execute_result",
          "data": {
            "text/plain": [
              "1"
            ]
          },
          "metadata": {},
          "execution_count": 15
        }
      ],
      "source": [
        "# Solve the linear programming problem\n",
        "prob2c5.solve()"
      ]
    },
    {
      "cell_type": "code",
      "execution_count": null,
      "metadata": {
        "colab": {
          "base_uri": "https://localhost:8080/"
        },
        "outputId": "095d407a-8785-44ea-8d41-6474fccf7abf",
        "id": "K3wCvOj4BxNw"
      },
      "outputs": [
        {
          "output_type": "stream",
          "name": "stdout",
          "text": [
            "Status: Optimal\n"
          ]
        }
      ],
      "source": [
        "# Print the results\n",
        "print(f\"Status: {LpStatus[prob2c5.status]}\")"
      ]
    },
    {
      "cell_type": "code",
      "execution_count": null,
      "metadata": {
        "colab": {
          "base_uri": "https://localhost:8080/"
        },
        "outputId": "b57c72f8-33fe-4eec-b901-b242a7b6a3e5",
        "id": "9svP0VWMBxNw"
      },
      "outputs": [
        {
          "output_type": "stream",
          "name": "stdout",
          "text": [
            "car = 88.0\n",
            "jeep = 0.75862069\n",
            "machine1 = 98.0\n",
            "truck = 26.689655\n"
          ]
        },
        {
          "output_type": "execute_result",
          "data": {
            "text/plain": [
              "[None, None, None, None]"
            ]
          },
          "metadata": {},
          "execution_count": 17
        }
      ],
      "source": [
        "[print(v.name, \"=\", v.varValue) for v in prob2c5.variables()]"
      ]
    },
    {
      "cell_type": "code",
      "execution_count": null,
      "metadata": {
        "colab": {
          "base_uri": "https://localhost:8080/"
        },
        "outputId": "eb02274e-426e-4553-cf2c-0ad611403d5b",
        "id": "ovVrfbxABxNw"
      },
      "outputs": [
        {
          "output_type": "stream",
          "name": "stdout",
          "text": [
            "The optimal value of the\n",
            "objective function is = 32631.034414\n"
          ]
        }
      ],
      "source": [
        "print(f'''The optimal value of the\n",
        "objective function is = {value(prob2c5.objective)}''')"
      ]
    },
    {
      "cell_type": "markdown",
      "metadata": {
        "id": "hPVGIK5KU1_g"
      },
      "source": [
        "# Question 3"
      ]
    },
    {
      "cell_type": "markdown",
      "metadata": {
        "id": "ctUep6waU1_6"
      },
      "source": [
        "## Part A, try 1"
      ]
    },
    {
      "cell_type": "code",
      "execution_count": null,
      "metadata": {
        "id": "5XBp6RaaU1_8"
      },
      "outputs": [],
      "source": [
        "# Create an object of a model\n",
        "prob3 = LpProblem(\"Q3_LP\", LpMaximize)"
      ]
    },
    {
      "cell_type": "code",
      "execution_count": null,
      "metadata": {
        "id": "DbTpxJkBU1_-"
      },
      "outputs": [],
      "source": [
        "# Define the decision variables\n",
        "n1 = LpVariable(\"n1\",0)\n",
        "n2 = LpVariable(\"n2\",0)\n",
        "n3 = LpVariable(\"n3\",0)\n",
        "n4 = LpVariable(\"n4\",0)\n",
        "\n",
        "f1 = LpVariable(\"f1\",0)\n",
        "f2 = LpVariable(\"f2\",0)\n",
        "f3 = LpVariable(\"f3\",0)\n",
        "\n",
        "s1 = LpVariable(\"s1\",0)\n",
        "s2 = LpVariable(\"s2\",0)"
      ]
    },
    {
      "cell_type": "markdown",
      "source": [
        ""
      ],
      "metadata": {
        "id": "vzqTX0mgU1__"
      }
    },
    {
      "cell_type": "code",
      "execution_count": null,
      "metadata": {
        "id": "udtElDNqU1__"
      },
      "outputs": [],
      "source": [
        "# Define the objective function\n",
        "prob3 +=  0.2*(n1 + n2 + n3 + n4) + 0.1*(f1 + f2 + f3) + 0.06*(s1 + s2)"
      ]
    },
    {
      "cell_type": "code",
      "execution_count": null,
      "metadata": {
        "id": "xWQvRA2MU2AA"
      },
      "outputs": [],
      "source": [
        "# Define the constraints\n",
        "prob3 += n1 == 15, \"day 1\"\n",
        "prob3 += f1 + s1 <= 15, \"day 1 cleaned napkins\"\n",
        "prob3 += n2 + f1 == 12, \"day 2\"\n",
        "prob3 += f1 + f2 + s1 + s2 <= 27, \"day 2 cleaned napkins\"\n",
        "prob3 += n3 + f2 + s1 == 18, \"day 3\"\n",
        "prob3 += f1 + f2 +f3 + s1 + s2 <= 45, \"day 3 cleaned napkins\"\n",
        "prob3 += n4 + f3 + s2 == 6, \"day 4\"\n",
        "prob3 += f1 + f2 +f3 + s1 + s2  <= 51, \"day 4 cleaned napkins\""
      ]
    },
    {
      "cell_type": "code",
      "execution_count": null,
      "metadata": {
        "colab": {
          "base_uri": "https://localhost:8080/"
        },
        "outputId": "d02f57ba-e6dd-4d53-b9e8-07bc964b1bdc",
        "id": "0fd7fe23U2AC"
      },
      "outputs": [
        {
          "output_type": "execute_result",
          "data": {
            "text/plain": [
              "1"
            ]
          },
          "metadata": {},
          "execution_count": 6
        }
      ],
      "source": [
        "# Solve the linear programming problem\n",
        "prob3.solve()"
      ]
    },
    {
      "cell_type": "code",
      "execution_count": null,
      "metadata": {
        "colab": {
          "base_uri": "https://localhost:8080/"
        },
        "outputId": "94f92b05-58c7-401f-d241-25c493c568de",
        "id": "h_4HBKnrU2AE"
      },
      "outputs": [
        {
          "output_type": "stream",
          "name": "stdout",
          "text": [
            "Status: Optimal\n"
          ]
        }
      ],
      "source": [
        "# Print the results\n",
        "print(f\"Status: {LpStatus[prob3.status]}\")"
      ]
    },
    {
      "cell_type": "code",
      "execution_count": null,
      "metadata": {
        "colab": {
          "base_uri": "https://localhost:8080/"
        },
        "outputId": "4cc9f6b1-f955-489c-eb69-579d202ccf69",
        "id": "valIQBBGU2AF"
      },
      "outputs": [
        {
          "output_type": "stream",
          "name": "stdout",
          "text": [
            "f1 = 0.0\n",
            "f2 = 0.0\n",
            "f3 = 0.0\n",
            "n1 = 15.0\n",
            "n2 = 12.0\n",
            "n3 = 18.0\n",
            "n4 = 6.0\n",
            "s1 = 0.0\n",
            "s2 = 0.0\n"
          ]
        },
        {
          "output_type": "execute_result",
          "data": {
            "text/plain": [
              "[None, None, None, None, None, None, None, None, None]"
            ]
          },
          "metadata": {},
          "execution_count": 8
        }
      ],
      "source": [
        "[print(v.name, \"=\", v.varValue) for v in prob3.variables()]"
      ]
    },
    {
      "cell_type": "code",
      "execution_count": null,
      "metadata": {
        "colab": {
          "base_uri": "https://localhost:8080/"
        },
        "outputId": "061cbbf0-3ba1-4b73-d4b3-d18f1f5586f3",
        "id": "COYE3WKaU2AG"
      },
      "outputs": [
        {
          "output_type": "stream",
          "name": "stdout",
          "text": [
            "The optimal value of the objective function is = 10.2\n"
          ]
        }
      ],
      "source": [
        "print(f'''The optimal value of the objective function is = {value(prob3.objective)}''')"
      ]
    },
    {
      "cell_type": "markdown",
      "metadata": {
        "id": "FMZBGnN51rCM"
      },
      "source": [
        "## Part A, try 2"
      ]
    },
    {
      "cell_type": "code",
      "execution_count": null,
      "metadata": {
        "id": "cJSzjdNQ1rCN"
      },
      "outputs": [],
      "source": [
        "# Create an object of a model\n",
        "prob3 = LpProblem(\"Q3_LP\", LpMaximize)"
      ]
    },
    {
      "cell_type": "code",
      "execution_count": null,
      "metadata": {
        "id": "RO9qUakw1rCO"
      },
      "outputs": [],
      "source": [
        "# Define the decision variables\n",
        "n0 = LpVariable(\"n0\",0)\n",
        "n1 = LpVariable(\"n1\",0)\n",
        "n2 = LpVariable(\"n2\",0)\n",
        "n3 = LpVariable(\"n3\",0)\n",
        "n4 = LpVariable(\"n4\",0)\n",
        "\n",
        "f1 = LpVariable(\"f1\",0)\n",
        "f2 = LpVariable(\"f2\",0)\n",
        "f3 = LpVariable(\"f3\",0)\n",
        "\n",
        "s1 = LpVariable(\"s1\",0)\n",
        "s2 = LpVariable(\"s2\",0)\n",
        "\n",
        "h0 = LpVariable(\"h0\",0)\n",
        "h1 = LpVariable(\"h1\",0)\n",
        "h2 = LpVariable(\"h2\",0)\n",
        "h3 = LpVariable(\"h3\",0)\n",
        "h4 = LpVariable(\"h4\",0)"
      ]
    },
    {
      "cell_type": "code",
      "execution_count": null,
      "metadata": {
        "id": "rBX4MWzt1rCR"
      },
      "outputs": [],
      "source": [
        "# Define the objective function\n",
        "prob3 +=  0.2*(n1 + n2 + n3 + n4) + 0.1*(f1 + f2 + f3) + 0.06*(s1 + s2)"
      ]
    },
    {
      "cell_type": "code",
      "execution_count": null,
      "metadata": {
        "id": "iIzqtshW1rCT"
      },
      "outputs": [],
      "source": [
        "# Define the constraints\n",
        "prob3 += n0 + n1  + n2 + n3 + n4 == 51\n",
        "\n",
        "prob3 += f1 + s1 + h1 == 15\n",
        "prob3 += f2 + s2 - h1 + h2 == 12\n",
        "prob3 += f3 - h2 + h3 == 18\n",
        "prob3 += -h3 + h4 == 6 \n",
        "prob3 += -n0 - h4 == -51\n",
        "prob3 += -n1 == -15\n",
        "prob3 += -n2 - f1 == -12\n",
        "prob3 += -n3 - s1 - f2 == -18\n",
        "prob3 += -n4 - s2 - f3 == -6"
      ]
    },
    {
      "cell_type": "code",
      "execution_count": null,
      "metadata": {
        "colab": {
          "base_uri": "https://localhost:8080/"
        },
        "outputId": "d75d64df-b991-4b0e-ebb6-f28b1cafbe4e",
        "id": "HgS1GXla1rCV"
      },
      "outputs": [
        {
          "output_type": "execute_result",
          "data": {
            "text/plain": [
              "1"
            ]
          },
          "metadata": {},
          "execution_count": 18
        }
      ],
      "source": [
        "# Solve the linear programming problem\n",
        "prob3.solve()"
      ]
    },
    {
      "cell_type": "code",
      "execution_count": null,
      "metadata": {
        "colab": {
          "base_uri": "https://localhost:8080/"
        },
        "outputId": "55c19e34-abbd-46b5-b164-a813271571b5",
        "id": "9-Vyr7DN1rCX"
      },
      "outputs": [
        {
          "output_type": "stream",
          "name": "stdout",
          "text": [
            "Status: Optimal\n"
          ]
        }
      ],
      "source": [
        "# Print the results\n",
        "print(f\"Status: {LpStatus[prob3.status]}\")"
      ]
    },
    {
      "cell_type": "code",
      "execution_count": null,
      "metadata": {
        "colab": {
          "base_uri": "https://localhost:8080/"
        },
        "outputId": "dd85469b-f5d7-4f7c-b269-79ba0496117b",
        "id": "Yz7erZiL1rCY"
      },
      "outputs": [
        {
          "output_type": "stream",
          "name": "stdout",
          "text": [
            "f1 = 0.0\n",
            "f2 = 0.0\n",
            "f3 = 0.0\n",
            "h1 = 15.0\n",
            "h2 = 27.0\n",
            "h3 = 45.0\n",
            "h4 = 51.0\n",
            "n0 = 0.0\n",
            "n1 = 15.0\n",
            "n2 = 12.0\n",
            "n3 = 18.0\n",
            "n4 = 6.0\n",
            "s1 = 0.0\n",
            "s2 = 0.0\n"
          ]
        },
        {
          "output_type": "execute_result",
          "data": {
            "text/plain": [
              "[None,\n",
              " None,\n",
              " None,\n",
              " None,\n",
              " None,\n",
              " None,\n",
              " None,\n",
              " None,\n",
              " None,\n",
              " None,\n",
              " None,\n",
              " None,\n",
              " None,\n",
              " None]"
            ]
          },
          "metadata": {},
          "execution_count": 20
        }
      ],
      "source": [
        "[print(v.name, \"=\", v.varValue) for v in prob3.variables()]"
      ]
    },
    {
      "cell_type": "code",
      "execution_count": null,
      "metadata": {
        "colab": {
          "base_uri": "https://localhost:8080/"
        },
        "outputId": "c3843374-b7a7-4098-b3ca-f5b652f80422",
        "id": "8kZMfwYF1rCf"
      },
      "outputs": [
        {
          "output_type": "stream",
          "name": "stdout",
          "text": [
            "The optimal value of the objective function is = 10.2\n"
          ]
        }
      ],
      "source": [
        "print(f'''The optimal value of the objective function is = {value(prob3.objective)}''')"
      ]
    },
    {
      "cell_type": "markdown",
      "source": [
        "# Question 4"
      ],
      "metadata": {
        "id": "YqJf0SQaAfmb"
      }
    },
    {
      "cell_type": "code",
      "execution_count": 2,
      "metadata": {
        "id": "sZuX2IcPAnWq"
      },
      "outputs": [],
      "source": [
        "# Create an object of a model\n",
        "prob4 = LpProblem(\"Q4_LP\", LpMaximize)"
      ]
    },
    {
      "cell_type": "code",
      "execution_count": 3,
      "metadata": {
        "id": "62kyratCAnWr"
      },
      "outputs": [],
      "source": [
        "# Define the decision variables\n",
        "p1mf = LpVariable(\"p1mf\",0)\n",
        "p2mf = LpVariable(\"p2mf\", 0)\n",
        "p3mf = LpVariable(\"p3mf\", 0)\n",
        "p1ms = LpVariable(\"p1ms\", 0)\n",
        "p2ms = LpVariable(\"p2ms\", 0)\n",
        "p3ms = LpVariable(\"p3ms\", 0)\n",
        "p1ff = LpVariable(\"p1ff\", 0)\n",
        "p2ff = LpVariable(\"p2ff\", 0)\n",
        "p3ff = LpVariable(\"p3ff\", 0)\n",
        "p1fs = LpVariable(\"p1fs\",0)\n",
        "p2fs = LpVariable(\"p2fs\" , 0)\n",
        "p3fs = LpVariable(\"p3fs\", 0)\n",
        "p1rf = LpVariable(\"p1rf\", 0)\n",
        "p2rf = LpVariable(\"p2rf\", 0)\n",
        "p3rf = LpVariable(\"p3rf\", 0)\n",
        "p1rs = LpVariable(\"p1rs\", 0)\n",
        "p2rs = LpVariable(\"p2rs\", 0)\n",
        "p3rs = LpVariable(\"p3rs\", 0)\n",
        "m1 = LpVariable(\"m1\", 0)\n",
        "m2 = LpVariable(\"m2\", 0)\n",
        "f1 = LpVariable(\"f1\", 0)\n",
        "f2 = LpVariable(\"f2\", 0)\n",
        "r1 = LpVariable(\"r1\", 0)\n",
        "r2 = LpVariable(\"r2\", 0)"
      ]
    },
    {
      "cell_type": "code",
      "execution_count": 4,
      "metadata": {
        "id": "IhLDmorGAnWr"
      },
      "outputs": [],
      "source": [
        "# Define the objective function\n",
        "prob4 += 9*p1mf + 9*p2mf + 9*p3mf + 10*p1ms + 7*p2ms + 9*p3ms + 8*p1ff + 11*p2ff + 8*p3ff + 9*p1fs + 9*p2fs + 8*p3fs + 7*p1rf + 10*p2rf + 10*p3rf + 8*p1rs + 8*p2rs + 10*p3rs"
      ]
    },
    {
      "cell_type": "code",
      "execution_count": 5,
      "metadata": {
        "colab": {
          "base_uri": "https://localhost:8080/",
          "height": 357
        },
        "id": "sQ8usZPKAnWs",
        "outputId": "57534de9-fbcc-43f4-86a5-eb561b93b118"
      },
      "outputs": [
        {
          "output_type": "error",
          "ename": "ValueError",
          "evalue": "ignored",
          "traceback": [
            "\u001b[0;31m---------------------------------------------------------------------------\u001b[0m",
            "\u001b[0;31mValueError\u001b[0m                                Traceback (most recent call last)",
            "\u001b[0;32m<ipython-input-5-8e789f6f765f>\u001b[0m in \u001b[0;36m<module>\u001b[0;34m()\u001b[0m\n\u001b[1;32m      1\u001b[0m \u001b[0;31m# Define the constraints\u001b[0m\u001b[0;34m\u001b[0m\u001b[0;34m\u001b[0m\u001b[0;34m\u001b[0m\u001b[0m\n\u001b[0;32m----> 2\u001b[0;31m \u001b[0mprob4\u001b[0m \u001b[0;34m+=\u001b[0m \u001b[0mm1\u001b[0m \u001b[0;34m+\u001b[0m \u001b[0mm2\u001b[0m \u001b[0;34m==\u001b[0m \u001b[0;36m4\u001b[0m\u001b[0;34m,\u001b[0m\u001b[0;34m\u001b[0m\u001b[0;34m\u001b[0m\u001b[0m\n\u001b[0m\u001b[1;32m      3\u001b[0m \u001b[0mprob4\u001b[0m \u001b[0;34m+=\u001b[0m \u001b[0mf1\u001b[0m \u001b[0;34m+\u001b[0m \u001b[0mf2\u001b[0m \u001b[0;34m==\u001b[0m \u001b[0;36m4\u001b[0m\u001b[0;34m,\u001b[0m\u001b[0;34m\u001b[0m\u001b[0;34m\u001b[0m\u001b[0m\n\u001b[1;32m      4\u001b[0m \u001b[0mprob4\u001b[0m \u001b[0;34m+=\u001b[0m \u001b[0mr1\u001b[0m \u001b[0;34m+\u001b[0m \u001b[0mr2\u001b[0m \u001b[0;34m==\u001b[0m \u001b[0;36m4\u001b[0m\u001b[0;34m,\u001b[0m\u001b[0;34m\u001b[0m\u001b[0;34m\u001b[0m\u001b[0m\n\u001b[1;32m      5\u001b[0m \u001b[0mprob4\u001b[0m \u001b[0;34m+=\u001b[0m \u001b[0mp1mf\u001b[0m \u001b[0;34m+\u001b[0m \u001b[0mp1ms\u001b[0m \u001b[0;34m+\u001b[0m \u001b[0mp1ff\u001b[0m \u001b[0;34m+\u001b[0m \u001b[0mp1fs\u001b[0m \u001b[0;34m+\u001b[0m \u001b[0mp1rf\u001b[0m \u001b[0;34m+\u001b[0m \u001b[0mp1rs\u001b[0m \u001b[0;34m==\u001b[0m \u001b[0;36m4\u001b[0m\u001b[0;34m,\u001b[0m\u001b[0;34m\u001b[0m\u001b[0;34m\u001b[0m\u001b[0m\n",
            "\u001b[0;32m/usr/local/lib/python3.7/dist-packages/pulp/pulp.py\u001b[0m in \u001b[0;36m__iadd__\u001b[0;34m(self, other)\u001b[0m\n\u001b[1;32m   1689\u001b[0m     \u001b[0;32mdef\u001b[0m \u001b[0m__iadd__\u001b[0m\u001b[0;34m(\u001b[0m\u001b[0mself\u001b[0m\u001b[0;34m,\u001b[0m \u001b[0mother\u001b[0m\u001b[0;34m)\u001b[0m\u001b[0;34m:\u001b[0m\u001b[0;34m\u001b[0m\u001b[0;34m\u001b[0m\u001b[0m\n\u001b[1;32m   1690\u001b[0m         \u001b[0;32mif\u001b[0m \u001b[0misinstance\u001b[0m\u001b[0;34m(\u001b[0m\u001b[0mother\u001b[0m\u001b[0;34m,\u001b[0m \u001b[0mtuple\u001b[0m\u001b[0;34m)\u001b[0m\u001b[0;34m:\u001b[0m\u001b[0;34m\u001b[0m\u001b[0;34m\u001b[0m\u001b[0m\n\u001b[0;32m-> 1691\u001b[0;31m             \u001b[0mother\u001b[0m\u001b[0;34m,\u001b[0m \u001b[0mname\u001b[0m \u001b[0;34m=\u001b[0m \u001b[0mother\u001b[0m\u001b[0;34m\u001b[0m\u001b[0;34m\u001b[0m\u001b[0m\n\u001b[0m\u001b[1;32m   1692\u001b[0m         \u001b[0;32melse\u001b[0m\u001b[0;34m:\u001b[0m\u001b[0;34m\u001b[0m\u001b[0;34m\u001b[0m\u001b[0m\n\u001b[1;32m   1693\u001b[0m             \u001b[0mname\u001b[0m \u001b[0;34m=\u001b[0m \u001b[0;32mNone\u001b[0m\u001b[0;34m\u001b[0m\u001b[0;34m\u001b[0m\u001b[0m\n",
            "\u001b[0;31mValueError\u001b[0m: not enough values to unpack (expected 2, got 1)"
          ]
        }
      ],
      "source": [
        "# Define the constraints\n",
        "prob4 += m1 + m2 == 4,\n",
        "prob4 += f1 + f2 == 4,\n",
        "prob4 += r1 + r2 == 4,\n",
        "prob4 += p1mf + p1ms + p1ff + p1fs + p1rf + p1rs == 4,\n",
        "prob4 += p2mf + p2ms +  p2ff + p2fs + p2rf + p2rs == 4,\n",
        "prob4 += p3mf + p3ms +  p3ff + p3fs + p3rf + p3rs == 4,\n",
        "prob4 += p1mf + p2mf + p3mf == m1,\n",
        "prob4 += p1ms + p2ms + p3ms == m2,\n",
        "prob4 += p1ff + p2ff + p3ff == f1,\n",
        "prob4 += p1fs + p2fs + p3fs == f2,\n",
        "prob4 += p1rf + p2rf + p3rf == r1,\n",
        "prob4 += p1rs + p2rs + p3rs == r2,"
      ]
    },
    {
      "cell_type": "code",
      "execution_count": null,
      "metadata": {
        "colab": {
          "base_uri": "https://localhost:8080/"
        },
        "outputId": "c65f8ce1-d8a7-411f-d782-ebc474acb841",
        "id": "Ksb35MWLAnWs"
      },
      "outputs": [
        {
          "output_type": "execute_result",
          "data": {
            "text/plain": [
              "1"
            ]
          },
          "metadata": {},
          "execution_count": 16
        }
      ],
      "source": [
        "# Solve the linear programming problem\n",
        "prob4.solve()"
      ]
    },
    {
      "cell_type": "code",
      "execution_count": null,
      "metadata": {
        "colab": {
          "base_uri": "https://localhost:8080/"
        },
        "outputId": "54729296-edb0-4fd2-8b5f-b00fd1b6652c",
        "id": "ZRk4Z0UmAnWt"
      },
      "outputs": [
        {
          "output_type": "stream",
          "name": "stdout",
          "text": [
            "Status: Optimal\n"
          ]
        }
      ],
      "source": [
        "# Print the results\n",
        "print(f\"Status: {LpStatus[prob4.status]}\")"
      ]
    },
    {
      "cell_type": "code",
      "execution_count": null,
      "metadata": {
        "colab": {
          "base_uri": "https://localhost:8080/"
        },
        "outputId": "d5a5b317-3bdb-4e28-a16f-75729a075041",
        "id": "SyzPoVKfAnWu"
      },
      "outputs": [
        {
          "output_type": "stream",
          "name": "stdout",
          "text": [
            "car = 88.0\n",
            "machine1 = 98.0\n",
            "truck = 27.6\n"
          ]
        },
        {
          "output_type": "execute_result",
          "data": {
            "text/plain": [
              "[None, None, None]"
            ]
          },
          "metadata": {},
          "execution_count": 18
        }
      ],
      "source": [
        "[print(v.name, \"=\", v.varValue) for v in prob4.variables()]"
      ]
    },
    {
      "cell_type": "code",
      "execution_count": null,
      "metadata": {
        "colab": {
          "base_uri": "https://localhost:8080/"
        },
        "outputId": "4b583d3e-cf14-4457-9fa1-769a8c06ad1f",
        "id": "3RqSHDEVAnWw"
      },
      "outputs": [
        {
          "output_type": "stream",
          "name": "stdout",
          "text": [
            "The optimal value of the objective function is = 32540.0\n"
          ]
        }
      ],
      "source": [
        "print(f'''The optimal value of the\n",
        "objective function is = {value(prob4.objective)}''')"
      ]
    }
  ],
  "metadata": {
    "colab": {
      "collapsed_sections": [],
      "name": "hw2",
      "provenance": [],
      "authorship_tag": "ABX9TyOQ1LnQqN16841EhIBVd4LK",
      "include_colab_link": true
    },
    "kernelspec": {
      "display_name": "Python 3",
      "name": "python3"
    },
    "language_info": {
      "name": "python"
    }
  },
  "nbformat": 4,
  "nbformat_minor": 0
}